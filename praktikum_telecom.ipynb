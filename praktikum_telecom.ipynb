{
 "cells": [
  {
   "cell_type": "markdown",
   "metadata": {
    "id": "DERPB7xw7Gpq"
   },
   "source": [
    "# 0. Для удобства добавим расшифровку названий столбцов и краткое описание проекта."
   ]
  },
  {
   "cell_type": "markdown",
   "metadata": {
    "id": "kMxkjm5C9FmJ"
   },
   "source": [
    "Представлены данные оператора сотовой связи. Клиентам предлагается два тарифа: \"Смарт\" и \"Ультра\".\n",
    "\n",
    "**Задача**: сделать анализ небольшой выборки клиентов, проанализировать поведение клиентов и сделать вывод - какой тариф лучше.\n",
    "\n",
    "Выборка содержит данные о 500 пользователях со следующей информацией: кто они, откуда, каким тарифом пользуются, сколько звонков и сообщений каждый отправил за 2018 год.\n",
    "\n",
    "Описание тарифов:\n",
    "\n",
    "**Тариф «Смарт»**\n",
    "* Ежемесячная плата: 550 рублей\n",
    "* Включено 500 минут разговора, 50 сообщений и 15 Гб интернет-трафика\n",
    "* Стоимость услуг сверх тарифного пакета: 1. минута разговора: 3 рубля («Мегалайн» всегда округляет вверх значения минут и мегабайтов. Если пользователь проговорил всего 1 секунду, в тарифе засчитывается целая минута); 2. сообщение: 3 рубля; 3. 1 Гб интернет-трафика: 200 рублей.\n",
    "\n",
    "**Тариф «Ультра»**\n",
    "* Ежемесячная плата: 1950 рублей\n",
    "* Включено 3000 минут разговора, 1000 сообщений и 30 Гб интернет-трафика\n",
    "* Стоимость услуг сверх тарифного пакета: 1. минута разговора: 1 рубль; 2. сообщение: 1 рубль; 3. 1 Гб интернет-трафика: 150 рублей.\n",
    "\n",
    "**Примечание:**\n",
    "Оператор всегда округляет секунды до минут, а мегабайты — до гигабайт. Каждый звонок округляется отдельно: даже если он длился всего 1 секунду, будет засчитан как 1 минута.\n",
    "\n",
    "Для веб-трафика отдельные сессии не считаются. Вместо этого общая сумма за месяц округляется в бо́льшую сторону. Если абонент использует 1025 мегабайт в этом месяце, с него возьмут плату за 2 гигабайта."
   ]
  },
  {
   "cell_type": "markdown",
   "metadata": {
    "id": "IMdC0gOr-mGx"
   },
   "source": [
    "**Описание данных**\n",
    "\n",
    "***Таблица users (информация о пользователях):***\n",
    "\n",
    "* user_id — уникальный идентификатор пользователя\n",
    "* first_name — имя пользователя\n",
    "* last_name — фамилия пользователя\n",
    "* age — возраст пользователя (годы)\n",
    "* reg_date — дата подключения тарифа (день, месяц, год)\n",
    "* churn_date — дата прекращения пользования тарифом (если значение пропущено, то тариф ещё действовал на момент выгрузки данных)\n",
    "* city — город проживания пользователя\n",
    "* tarif — название тарифного плана\n",
    "\n",
    "***Таблица calls (информация о звонках):***\n",
    "\n",
    "* id — уникальный номер звонка\n",
    "* call_date — дата звонка\n",
    "* duration — длительность звонка в минутах\n",
    "* user_id — идентификатор пользователя, сделавшего звонок\n",
    "\n",
    "***Таблица messages (информация о сообщениях):***\n",
    "\n",
    "* id — уникальный номер сообщения\n",
    "* message_date — дата сообщения\n",
    "* user_id — идентификатор пользователя, отправившего сообщение\n",
    "\n",
    "***Таблица internet (информация об интернет-сессиях):***\n",
    "\n",
    "* id — уникальный номер сессии\n",
    "* mb_used — объём потраченного за сессию интернет-трафика (в мегабайтах)\n",
    "* session_date — дата интернет-сессии\n",
    "* user_id — идентификатор пользователя\n",
    "\n",
    "***Таблица tariffs (информация о тарифах):***\n",
    "\n",
    "* tariff_name — название тарифа\n",
    "* rub_monthly_fee — ежемесячная абонентская плата в рублях\n",
    "* minutes_included — количество минут разговора в месяц, включённых в абонентскую плату\n",
    "* messages_included — количество сообщений в месяц, включённых в абонентскую плату\n",
    "* mb_per_month_included — объём интернет-трафика, включённого в абонентскую плату (в мегабайтах)\n",
    "* rub_per_minute — стоимость минуты разговора сверх тарифного пакета (например, если в тарифе 100 минут разговора в месяц, то со 101 минуты будет взиматься плата)\n",
    "* rub_per_message — стоимость отправки сообщения сверх тарифного пакета\n",
    "* rub_per_gb — стоимость дополнительного гигабайта интернет-трафика сверх тарифного пакета (1 гигабайт = 1024 мегабайта)"
   ]
  },
  {
   "cell_type": "markdown",
   "metadata": {
    "id": "Wzj628slX9p6"
   },
   "source": [
    "# 1. Исследование данных"
   ]
  },
  {
   "cell_type": "markdown",
   "metadata": {
    "id": "SZAhvK3GZpEJ"
   },
   "source": [
    "## 1.1 Открываем файл с данными и изучаем общую информацию"
   ]
  },
  {
   "cell_type": "markdown",
   "metadata": {},
   "source": [
    "Внимание! Необходимо установить pandas более свежей версии"
   ]
  },
  {
   "cell_type": "code",
   "execution_count": 3,
   "metadata": {
    "id": "hDrW8fcyZ-5O"
   },
   "outputs": [],
   "source": [
    "import pandas as pd\n",
    "import numpy as np\n",
    "import matplotlib.pyplot as plt\n",
    "import seaborn as sns\n",
    "from scipy import stats as st\n",
    "\n",
    "#plt.style.use('dark_background')"
   ]
  },
  {
   "cell_type": "code",
   "execution_count": 4,
   "metadata": {
    "id": "Gp0teQiXaG1U"
   },
   "outputs": [],
   "source": [
    "calls = pd.read_csv('https://code.s3.yandex.net/datasets/calls.csv')\n",
    "internet = pd.read_csv('https://code.s3.yandex.net/datasets/internet.csv')\n",
    "messages = pd.read_csv('https://code.s3.yandex.net/datasets/messages.csv')\n",
    "tariffs = pd.read_csv('https://code.s3.yandex.net/datasets/tariffs.csv')\n",
    "users = pd.read_csv('https://code.s3.yandex.net/datasets/users.csv')"
   ]
  },
  {
   "cell_type": "markdown",
   "metadata": {
    "id": "EPKTVxEjeDcb"
   },
   "source": [
    "Произведем первый взгляд на таблицы"
   ]
  },
  {
   "cell_type": "code",
   "execution_count": 5,
   "metadata": {
    "colab": {
     "base_uri": "https://localhost:8080/",
     "height": 1000
    },
    "id": "3LmLaug8auXW",
    "outputId": "cdb18681-e04f-41b5-876a-7b7bbfa18027",
    "scrolled": true
   },
   "outputs": [
    {
     "name": "stdout",
     "output_type": "stream",
     "text": [
      "| Звонки |\n"
     ]
    },
    {
     "data": {
      "text/html": [
       "<div>\n",
       "<style scoped>\n",
       "    .dataframe tbody tr th:only-of-type {\n",
       "        vertical-align: middle;\n",
       "    }\n",
       "\n",
       "    .dataframe tbody tr th {\n",
       "        vertical-align: top;\n",
       "    }\n",
       "\n",
       "    .dataframe thead th {\n",
       "        text-align: right;\n",
       "    }\n",
       "</style>\n",
       "<table border=\"1\" class=\"dataframe\">\n",
       "  <thead>\n",
       "    <tr style=\"text-align: right;\">\n",
       "      <th></th>\n",
       "      <th>id</th>\n",
       "      <th>call_date</th>\n",
       "      <th>duration</th>\n",
       "      <th>user_id</th>\n",
       "    </tr>\n",
       "  </thead>\n",
       "  <tbody>\n",
       "    <tr>\n",
       "      <th>0</th>\n",
       "      <td>1000_0</td>\n",
       "      <td>2018-07-25</td>\n",
       "      <td>0.00</td>\n",
       "      <td>1000</td>\n",
       "    </tr>\n",
       "    <tr>\n",
       "      <th>1</th>\n",
       "      <td>1000_1</td>\n",
       "      <td>2018-08-17</td>\n",
       "      <td>0.00</td>\n",
       "      <td>1000</td>\n",
       "    </tr>\n",
       "    <tr>\n",
       "      <th>2</th>\n",
       "      <td>1000_2</td>\n",
       "      <td>2018-06-11</td>\n",
       "      <td>2.85</td>\n",
       "      <td>1000</td>\n",
       "    </tr>\n",
       "    <tr>\n",
       "      <th>3</th>\n",
       "      <td>1000_3</td>\n",
       "      <td>2018-09-21</td>\n",
       "      <td>13.80</td>\n",
       "      <td>1000</td>\n",
       "    </tr>\n",
       "    <tr>\n",
       "      <th>4</th>\n",
       "      <td>1000_4</td>\n",
       "      <td>2018-12-15</td>\n",
       "      <td>5.18</td>\n",
       "      <td>1000</td>\n",
       "    </tr>\n",
       "  </tbody>\n",
       "</table>\n",
       "</div>"
      ],
      "text/plain": [
       "       id   call_date  duration  user_id\n",
       "0  1000_0  2018-07-25      0.00     1000\n",
       "1  1000_1  2018-08-17      0.00     1000\n",
       "2  1000_2  2018-06-11      2.85     1000\n",
       "3  1000_3  2018-09-21     13.80     1000\n",
       "4  1000_4  2018-12-15      5.18     1000"
      ]
     },
     "metadata": {},
     "output_type": "display_data"
    },
    {
     "name": "stdout",
     "output_type": "stream",
     "text": [
      "id           0.0\n",
      "call_date    0.0\n",
      "duration     0.0\n",
      "user_id      0.0\n",
      "dtype: float64\n",
      "*****************************************\n",
      "| Интернет-трафик |\n"
     ]
    },
    {
     "data": {
      "text/html": [
       "<div>\n",
       "<style scoped>\n",
       "    .dataframe tbody tr th:only-of-type {\n",
       "        vertical-align: middle;\n",
       "    }\n",
       "\n",
       "    .dataframe tbody tr th {\n",
       "        vertical-align: top;\n",
       "    }\n",
       "\n",
       "    .dataframe thead th {\n",
       "        text-align: right;\n",
       "    }\n",
       "</style>\n",
       "<table border=\"1\" class=\"dataframe\">\n",
       "  <thead>\n",
       "    <tr style=\"text-align: right;\">\n",
       "      <th></th>\n",
       "      <th>Unnamed: 0</th>\n",
       "      <th>id</th>\n",
       "      <th>mb_used</th>\n",
       "      <th>session_date</th>\n",
       "      <th>user_id</th>\n",
       "    </tr>\n",
       "  </thead>\n",
       "  <tbody>\n",
       "    <tr>\n",
       "      <th>0</th>\n",
       "      <td>0</td>\n",
       "      <td>1000_0</td>\n",
       "      <td>112.95</td>\n",
       "      <td>2018-11-25</td>\n",
       "      <td>1000</td>\n",
       "    </tr>\n",
       "    <tr>\n",
       "      <th>1</th>\n",
       "      <td>1</td>\n",
       "      <td>1000_1</td>\n",
       "      <td>1052.81</td>\n",
       "      <td>2018-09-07</td>\n",
       "      <td>1000</td>\n",
       "    </tr>\n",
       "    <tr>\n",
       "      <th>2</th>\n",
       "      <td>2</td>\n",
       "      <td>1000_2</td>\n",
       "      <td>1197.26</td>\n",
       "      <td>2018-06-25</td>\n",
       "      <td>1000</td>\n",
       "    </tr>\n",
       "    <tr>\n",
       "      <th>3</th>\n",
       "      <td>3</td>\n",
       "      <td>1000_3</td>\n",
       "      <td>550.27</td>\n",
       "      <td>2018-08-22</td>\n",
       "      <td>1000</td>\n",
       "    </tr>\n",
       "    <tr>\n",
       "      <th>4</th>\n",
       "      <td>4</td>\n",
       "      <td>1000_4</td>\n",
       "      <td>302.56</td>\n",
       "      <td>2018-09-24</td>\n",
       "      <td>1000</td>\n",
       "    </tr>\n",
       "  </tbody>\n",
       "</table>\n",
       "</div>"
      ],
      "text/plain": [
       "   Unnamed: 0      id  mb_used session_date  user_id\n",
       "0           0  1000_0   112.95   2018-11-25     1000\n",
       "1           1  1000_1  1052.81   2018-09-07     1000\n",
       "2           2  1000_2  1197.26   2018-06-25     1000\n",
       "3           3  1000_3   550.27   2018-08-22     1000\n",
       "4           4  1000_4   302.56   2018-09-24     1000"
      ]
     },
     "metadata": {},
     "output_type": "display_data"
    },
    {
     "name": "stdout",
     "output_type": "stream",
     "text": [
      "Unnamed: 0      0.0\n",
      "id              0.0\n",
      "mb_used         0.0\n",
      "session_date    0.0\n",
      "user_id         0.0\n",
      "dtype: float64\n",
      "*****************************************\n",
      "| Сообщения |\n"
     ]
    },
    {
     "data": {
      "text/html": [
       "<div>\n",
       "<style scoped>\n",
       "    .dataframe tbody tr th:only-of-type {\n",
       "        vertical-align: middle;\n",
       "    }\n",
       "\n",
       "    .dataframe tbody tr th {\n",
       "        vertical-align: top;\n",
       "    }\n",
       "\n",
       "    .dataframe thead th {\n",
       "        text-align: right;\n",
       "    }\n",
       "</style>\n",
       "<table border=\"1\" class=\"dataframe\">\n",
       "  <thead>\n",
       "    <tr style=\"text-align: right;\">\n",
       "      <th></th>\n",
       "      <th>id</th>\n",
       "      <th>message_date</th>\n",
       "      <th>user_id</th>\n",
       "    </tr>\n",
       "  </thead>\n",
       "  <tbody>\n",
       "    <tr>\n",
       "      <th>0</th>\n",
       "      <td>1000_0</td>\n",
       "      <td>2018-06-27</td>\n",
       "      <td>1000</td>\n",
       "    </tr>\n",
       "    <tr>\n",
       "      <th>1</th>\n",
       "      <td>1000_1</td>\n",
       "      <td>2018-10-08</td>\n",
       "      <td>1000</td>\n",
       "    </tr>\n",
       "    <tr>\n",
       "      <th>2</th>\n",
       "      <td>1000_2</td>\n",
       "      <td>2018-08-04</td>\n",
       "      <td>1000</td>\n",
       "    </tr>\n",
       "    <tr>\n",
       "      <th>3</th>\n",
       "      <td>1000_3</td>\n",
       "      <td>2018-06-16</td>\n",
       "      <td>1000</td>\n",
       "    </tr>\n",
       "    <tr>\n",
       "      <th>4</th>\n",
       "      <td>1000_4</td>\n",
       "      <td>2018-12-05</td>\n",
       "      <td>1000</td>\n",
       "    </tr>\n",
       "  </tbody>\n",
       "</table>\n",
       "</div>"
      ],
      "text/plain": [
       "       id message_date  user_id\n",
       "0  1000_0   2018-06-27     1000\n",
       "1  1000_1   2018-10-08     1000\n",
       "2  1000_2   2018-08-04     1000\n",
       "3  1000_3   2018-06-16     1000\n",
       "4  1000_4   2018-12-05     1000"
      ]
     },
     "metadata": {},
     "output_type": "display_data"
    },
    {
     "name": "stdout",
     "output_type": "stream",
     "text": [
      "id              0.0\n",
      "message_date    0.0\n",
      "user_id         0.0\n",
      "dtype: float64\n",
      "*****************************************\n",
      "| Пользователи |\n"
     ]
    },
    {
     "data": {
      "text/html": [
       "<div>\n",
       "<style scoped>\n",
       "    .dataframe tbody tr th:only-of-type {\n",
       "        vertical-align: middle;\n",
       "    }\n",
       "\n",
       "    .dataframe tbody tr th {\n",
       "        vertical-align: top;\n",
       "    }\n",
       "\n",
       "    .dataframe thead th {\n",
       "        text-align: right;\n",
       "    }\n",
       "</style>\n",
       "<table border=\"1\" class=\"dataframe\">\n",
       "  <thead>\n",
       "    <tr style=\"text-align: right;\">\n",
       "      <th></th>\n",
       "      <th>user_id</th>\n",
       "      <th>age</th>\n",
       "      <th>churn_date</th>\n",
       "      <th>city</th>\n",
       "      <th>first_name</th>\n",
       "      <th>last_name</th>\n",
       "      <th>reg_date</th>\n",
       "      <th>tariff</th>\n",
       "    </tr>\n",
       "  </thead>\n",
       "  <tbody>\n",
       "    <tr>\n",
       "      <th>0</th>\n",
       "      <td>1000</td>\n",
       "      <td>52</td>\n",
       "      <td>NaN</td>\n",
       "      <td>Краснодар</td>\n",
       "      <td>Рафаил</td>\n",
       "      <td>Верещагин</td>\n",
       "      <td>2018-05-25</td>\n",
       "      <td>ultra</td>\n",
       "    </tr>\n",
       "    <tr>\n",
       "      <th>1</th>\n",
       "      <td>1001</td>\n",
       "      <td>41</td>\n",
       "      <td>NaN</td>\n",
       "      <td>Москва</td>\n",
       "      <td>Иван</td>\n",
       "      <td>Ежов</td>\n",
       "      <td>2018-11-01</td>\n",
       "      <td>smart</td>\n",
       "    </tr>\n",
       "    <tr>\n",
       "      <th>2</th>\n",
       "      <td>1002</td>\n",
       "      <td>59</td>\n",
       "      <td>NaN</td>\n",
       "      <td>Стерлитамак</td>\n",
       "      <td>Евгений</td>\n",
       "      <td>Абрамович</td>\n",
       "      <td>2018-06-17</td>\n",
       "      <td>smart</td>\n",
       "    </tr>\n",
       "    <tr>\n",
       "      <th>3</th>\n",
       "      <td>1003</td>\n",
       "      <td>23</td>\n",
       "      <td>NaN</td>\n",
       "      <td>Москва</td>\n",
       "      <td>Белла</td>\n",
       "      <td>Белякова</td>\n",
       "      <td>2018-08-17</td>\n",
       "      <td>ultra</td>\n",
       "    </tr>\n",
       "    <tr>\n",
       "      <th>4</th>\n",
       "      <td>1004</td>\n",
       "      <td>68</td>\n",
       "      <td>NaN</td>\n",
       "      <td>Новокузнецк</td>\n",
       "      <td>Татьяна</td>\n",
       "      <td>Авдеенко</td>\n",
       "      <td>2018-05-14</td>\n",
       "      <td>ultra</td>\n",
       "    </tr>\n",
       "  </tbody>\n",
       "</table>\n",
       "</div>"
      ],
      "text/plain": [
       "   user_id  age churn_date         city first_name  last_name    reg_date  \\\n",
       "0     1000   52        NaN    Краснодар     Рафаил  Верещагин  2018-05-25   \n",
       "1     1001   41        NaN       Москва       Иван       Ежов  2018-11-01   \n",
       "2     1002   59        NaN  Стерлитамак    Евгений  Абрамович  2018-06-17   \n",
       "3     1003   23        NaN       Москва      Белла   Белякова  2018-08-17   \n",
       "4     1004   68        NaN  Новокузнецк    Татьяна   Авдеенко  2018-05-14   \n",
       "\n",
       "  tariff  \n",
       "0  ultra  \n",
       "1  smart  \n",
       "2  smart  \n",
       "3  ultra  \n",
       "4  ultra  "
      ]
     },
     "metadata": {},
     "output_type": "display_data"
    },
    {
     "name": "stdout",
     "output_type": "stream",
     "text": [
      "user_id       0.000\n",
      "age           0.000\n",
      "churn_date    0.924\n",
      "city          0.000\n",
      "first_name    0.000\n",
      "last_name     0.000\n",
      "reg_date      0.000\n",
      "tariff        0.000\n",
      "dtype: float64\n",
      "*****************************************\n"
     ]
    }
   ],
   "source": [
    "pool_of_sheets = [calls, internet, messages, users]\n",
    "pool_of_sheets_names = [\n",
    "            'Звонки', 'Интернет-трафик',\n",
    "            'Сообщения', 'Пользователи'\n",
    "                        ]\n",
    "\n",
    "for i in range(len(pool_of_sheets)):\n",
    "  print('|', pool_of_sheets_names[i], '|')\n",
    "  display(pool_of_sheets[i].head())\n",
    "  print(pool_of_sheets[i].isna().mean())\n",
    "  print('*****************************************')"
   ]
  },
  {
   "cell_type": "code",
   "execution_count": 6,
   "metadata": {
    "colab": {
     "base_uri": "https://localhost:8080/",
     "height": 1000
    },
    "id": "4qYyWjyGDZ7K",
    "outputId": "7794006d-cd0d-4f9c-80c1-7952045a76c0"
   },
   "outputs": [
    {
     "name": "stdout",
     "output_type": "stream",
     "text": [
      "| Звонки |\n"
     ]
    },
    {
     "data": {
      "text/html": [
       "<div>\n",
       "<style scoped>\n",
       "    .dataframe tbody tr th:only-of-type {\n",
       "        vertical-align: middle;\n",
       "    }\n",
       "\n",
       "    .dataframe tbody tr th {\n",
       "        vertical-align: top;\n",
       "    }\n",
       "\n",
       "    .dataframe thead th {\n",
       "        text-align: right;\n",
       "    }\n",
       "</style>\n",
       "<table border=\"1\" class=\"dataframe\">\n",
       "  <thead>\n",
       "    <tr style=\"text-align: right;\">\n",
       "      <th></th>\n",
       "      <th>duration</th>\n",
       "      <th>user_id</th>\n",
       "    </tr>\n",
       "  </thead>\n",
       "  <tbody>\n",
       "    <tr>\n",
       "      <th>count</th>\n",
       "      <td>202607.000000</td>\n",
       "      <td>202607.000000</td>\n",
       "    </tr>\n",
       "    <tr>\n",
       "      <th>mean</th>\n",
       "      <td>6.755887</td>\n",
       "      <td>1253.940619</td>\n",
       "    </tr>\n",
       "    <tr>\n",
       "      <th>std</th>\n",
       "      <td>5.843365</td>\n",
       "      <td>144.722751</td>\n",
       "    </tr>\n",
       "    <tr>\n",
       "      <th>min</th>\n",
       "      <td>0.000000</td>\n",
       "      <td>1000.000000</td>\n",
       "    </tr>\n",
       "    <tr>\n",
       "      <th>25%</th>\n",
       "      <td>1.300000</td>\n",
       "      <td>1126.000000</td>\n",
       "    </tr>\n",
       "    <tr>\n",
       "      <th>50%</th>\n",
       "      <td>6.000000</td>\n",
       "      <td>1260.000000</td>\n",
       "    </tr>\n",
       "    <tr>\n",
       "      <th>75%</th>\n",
       "      <td>10.700000</td>\n",
       "      <td>1379.000000</td>\n",
       "    </tr>\n",
       "    <tr>\n",
       "      <th>max</th>\n",
       "      <td>38.000000</td>\n",
       "      <td>1499.000000</td>\n",
       "    </tr>\n",
       "  </tbody>\n",
       "</table>\n",
       "</div>"
      ],
      "text/plain": [
       "            duration        user_id\n",
       "count  202607.000000  202607.000000\n",
       "mean        6.755887    1253.940619\n",
       "std         5.843365     144.722751\n",
       "min         0.000000    1000.000000\n",
       "25%         1.300000    1126.000000\n",
       "50%         6.000000    1260.000000\n",
       "75%        10.700000    1379.000000\n",
       "max        38.000000    1499.000000"
      ]
     },
     "metadata": {},
     "output_type": "display_data"
    },
    {
     "name": "stdout",
     "output_type": "stream",
     "text": [
      "<class 'pandas.core.frame.DataFrame'>\n",
      "RangeIndex: 202607 entries, 0 to 202606\n",
      "Data columns (total 4 columns):\n",
      " #   Column     Non-Null Count   Dtype  \n",
      "---  ------     --------------   -----  \n",
      " 0   id         202607 non-null  object \n",
      " 1   call_date  202607 non-null  object \n",
      " 2   duration   202607 non-null  float64\n",
      " 3   user_id    202607 non-null  int64  \n",
      "dtypes: float64(1), int64(1), object(2)\n",
      "memory usage: 6.2+ MB\n"
     ]
    },
    {
     "data": {
      "text/plain": [
       "None"
      ]
     },
     "metadata": {},
     "output_type": "display_data"
    },
    {
     "name": "stdout",
     "output_type": "stream",
     "text": [
      "*****************************\n",
      "\n",
      "| Интернет-трафик |\n"
     ]
    },
    {
     "data": {
      "text/html": [
       "<div>\n",
       "<style scoped>\n",
       "    .dataframe tbody tr th:only-of-type {\n",
       "        vertical-align: middle;\n",
       "    }\n",
       "\n",
       "    .dataframe tbody tr th {\n",
       "        vertical-align: top;\n",
       "    }\n",
       "\n",
       "    .dataframe thead th {\n",
       "        text-align: right;\n",
       "    }\n",
       "</style>\n",
       "<table border=\"1\" class=\"dataframe\">\n",
       "  <thead>\n",
       "    <tr style=\"text-align: right;\">\n",
       "      <th></th>\n",
       "      <th>Unnamed: 0</th>\n",
       "      <th>mb_used</th>\n",
       "      <th>user_id</th>\n",
       "    </tr>\n",
       "  </thead>\n",
       "  <tbody>\n",
       "    <tr>\n",
       "      <th>count</th>\n",
       "      <td>149396.000000</td>\n",
       "      <td>149396.000000</td>\n",
       "      <td>149396.000000</td>\n",
       "    </tr>\n",
       "    <tr>\n",
       "      <th>mean</th>\n",
       "      <td>74697.500000</td>\n",
       "      <td>370.192426</td>\n",
       "      <td>1252.099842</td>\n",
       "    </tr>\n",
       "    <tr>\n",
       "      <th>std</th>\n",
       "      <td>43127.054745</td>\n",
       "      <td>278.300951</td>\n",
       "      <td>144.050823</td>\n",
       "    </tr>\n",
       "    <tr>\n",
       "      <th>min</th>\n",
       "      <td>0.000000</td>\n",
       "      <td>0.000000</td>\n",
       "      <td>1000.000000</td>\n",
       "    </tr>\n",
       "    <tr>\n",
       "      <th>25%</th>\n",
       "      <td>37348.750000</td>\n",
       "      <td>138.187500</td>\n",
       "      <td>1130.000000</td>\n",
       "    </tr>\n",
       "    <tr>\n",
       "      <th>50%</th>\n",
       "      <td>74697.500000</td>\n",
       "      <td>348.015000</td>\n",
       "      <td>1251.000000</td>\n",
       "    </tr>\n",
       "    <tr>\n",
       "      <th>75%</th>\n",
       "      <td>112046.250000</td>\n",
       "      <td>559.552500</td>\n",
       "      <td>1380.000000</td>\n",
       "    </tr>\n",
       "    <tr>\n",
       "      <th>max</th>\n",
       "      <td>149395.000000</td>\n",
       "      <td>1724.830000</td>\n",
       "      <td>1499.000000</td>\n",
       "    </tr>\n",
       "  </tbody>\n",
       "</table>\n",
       "</div>"
      ],
      "text/plain": [
       "          Unnamed: 0        mb_used        user_id\n",
       "count  149396.000000  149396.000000  149396.000000\n",
       "mean    74697.500000     370.192426    1252.099842\n",
       "std     43127.054745     278.300951     144.050823\n",
       "min         0.000000       0.000000    1000.000000\n",
       "25%     37348.750000     138.187500    1130.000000\n",
       "50%     74697.500000     348.015000    1251.000000\n",
       "75%    112046.250000     559.552500    1380.000000\n",
       "max    149395.000000    1724.830000    1499.000000"
      ]
     },
     "metadata": {},
     "output_type": "display_data"
    },
    {
     "name": "stdout",
     "output_type": "stream",
     "text": [
      "<class 'pandas.core.frame.DataFrame'>\n",
      "RangeIndex: 149396 entries, 0 to 149395\n",
      "Data columns (total 5 columns):\n",
      " #   Column        Non-Null Count   Dtype  \n",
      "---  ------        --------------   -----  \n",
      " 0   Unnamed: 0    149396 non-null  int64  \n",
      " 1   id            149396 non-null  object \n",
      " 2   mb_used       149396 non-null  float64\n",
      " 3   session_date  149396 non-null  object \n",
      " 4   user_id       149396 non-null  int64  \n",
      "dtypes: float64(1), int64(2), object(2)\n",
      "memory usage: 5.7+ MB\n"
     ]
    },
    {
     "data": {
      "text/plain": [
       "None"
      ]
     },
     "metadata": {},
     "output_type": "display_data"
    },
    {
     "name": "stdout",
     "output_type": "stream",
     "text": [
      "*****************************\n",
      "\n",
      "| Сообщения |\n"
     ]
    },
    {
     "data": {
      "text/html": [
       "<div>\n",
       "<style scoped>\n",
       "    .dataframe tbody tr th:only-of-type {\n",
       "        vertical-align: middle;\n",
       "    }\n",
       "\n",
       "    .dataframe tbody tr th {\n",
       "        vertical-align: top;\n",
       "    }\n",
       "\n",
       "    .dataframe thead th {\n",
       "        text-align: right;\n",
       "    }\n",
       "</style>\n",
       "<table border=\"1\" class=\"dataframe\">\n",
       "  <thead>\n",
       "    <tr style=\"text-align: right;\">\n",
       "      <th></th>\n",
       "      <th>user_id</th>\n",
       "    </tr>\n",
       "  </thead>\n",
       "  <tbody>\n",
       "    <tr>\n",
       "      <th>count</th>\n",
       "      <td>123036.000000</td>\n",
       "    </tr>\n",
       "    <tr>\n",
       "      <th>mean</th>\n",
       "      <td>1256.989410</td>\n",
       "    </tr>\n",
       "    <tr>\n",
       "      <th>std</th>\n",
       "      <td>143.523967</td>\n",
       "    </tr>\n",
       "    <tr>\n",
       "      <th>min</th>\n",
       "      <td>1000.000000</td>\n",
       "    </tr>\n",
       "    <tr>\n",
       "      <th>25%</th>\n",
       "      <td>1134.000000</td>\n",
       "    </tr>\n",
       "    <tr>\n",
       "      <th>50%</th>\n",
       "      <td>1271.000000</td>\n",
       "    </tr>\n",
       "    <tr>\n",
       "      <th>75%</th>\n",
       "      <td>1381.000000</td>\n",
       "    </tr>\n",
       "    <tr>\n",
       "      <th>max</th>\n",
       "      <td>1499.000000</td>\n",
       "    </tr>\n",
       "  </tbody>\n",
       "</table>\n",
       "</div>"
      ],
      "text/plain": [
       "             user_id\n",
       "count  123036.000000\n",
       "mean     1256.989410\n",
       "std       143.523967\n",
       "min      1000.000000\n",
       "25%      1134.000000\n",
       "50%      1271.000000\n",
       "75%      1381.000000\n",
       "max      1499.000000"
      ]
     },
     "metadata": {},
     "output_type": "display_data"
    },
    {
     "name": "stdout",
     "output_type": "stream",
     "text": [
      "<class 'pandas.core.frame.DataFrame'>\n",
      "RangeIndex: 123036 entries, 0 to 123035\n",
      "Data columns (total 3 columns):\n",
      " #   Column        Non-Null Count   Dtype \n",
      "---  ------        --------------   ----- \n",
      " 0   id            123036 non-null  object\n",
      " 1   message_date  123036 non-null  object\n",
      " 2   user_id       123036 non-null  int64 \n",
      "dtypes: int64(1), object(2)\n",
      "memory usage: 2.8+ MB\n"
     ]
    },
    {
     "data": {
      "text/plain": [
       "None"
      ]
     },
     "metadata": {},
     "output_type": "display_data"
    },
    {
     "name": "stdout",
     "output_type": "stream",
     "text": [
      "*****************************\n",
      "\n",
      "| Пользователи |\n"
     ]
    },
    {
     "data": {
      "text/html": [
       "<div>\n",
       "<style scoped>\n",
       "    .dataframe tbody tr th:only-of-type {\n",
       "        vertical-align: middle;\n",
       "    }\n",
       "\n",
       "    .dataframe tbody tr th {\n",
       "        vertical-align: top;\n",
       "    }\n",
       "\n",
       "    .dataframe thead th {\n",
       "        text-align: right;\n",
       "    }\n",
       "</style>\n",
       "<table border=\"1\" class=\"dataframe\">\n",
       "  <thead>\n",
       "    <tr style=\"text-align: right;\">\n",
       "      <th></th>\n",
       "      <th>user_id</th>\n",
       "      <th>age</th>\n",
       "    </tr>\n",
       "  </thead>\n",
       "  <tbody>\n",
       "    <tr>\n",
       "      <th>count</th>\n",
       "      <td>500.000000</td>\n",
       "      <td>500.00000</td>\n",
       "    </tr>\n",
       "    <tr>\n",
       "      <th>mean</th>\n",
       "      <td>1249.500000</td>\n",
       "      <td>46.58800</td>\n",
       "    </tr>\n",
       "    <tr>\n",
       "      <th>std</th>\n",
       "      <td>144.481833</td>\n",
       "      <td>16.66763</td>\n",
       "    </tr>\n",
       "    <tr>\n",
       "      <th>min</th>\n",
       "      <td>1000.000000</td>\n",
       "      <td>18.00000</td>\n",
       "    </tr>\n",
       "    <tr>\n",
       "      <th>25%</th>\n",
       "      <td>1124.750000</td>\n",
       "      <td>32.00000</td>\n",
       "    </tr>\n",
       "    <tr>\n",
       "      <th>50%</th>\n",
       "      <td>1249.500000</td>\n",
       "      <td>46.00000</td>\n",
       "    </tr>\n",
       "    <tr>\n",
       "      <th>75%</th>\n",
       "      <td>1374.250000</td>\n",
       "      <td>62.00000</td>\n",
       "    </tr>\n",
       "    <tr>\n",
       "      <th>max</th>\n",
       "      <td>1499.000000</td>\n",
       "      <td>75.00000</td>\n",
       "    </tr>\n",
       "  </tbody>\n",
       "</table>\n",
       "</div>"
      ],
      "text/plain": [
       "           user_id        age\n",
       "count   500.000000  500.00000\n",
       "mean   1249.500000   46.58800\n",
       "std     144.481833   16.66763\n",
       "min    1000.000000   18.00000\n",
       "25%    1124.750000   32.00000\n",
       "50%    1249.500000   46.00000\n",
       "75%    1374.250000   62.00000\n",
       "max    1499.000000   75.00000"
      ]
     },
     "metadata": {},
     "output_type": "display_data"
    },
    {
     "name": "stdout",
     "output_type": "stream",
     "text": [
      "<class 'pandas.core.frame.DataFrame'>\n",
      "RangeIndex: 500 entries, 0 to 499\n",
      "Data columns (total 8 columns):\n",
      " #   Column      Non-Null Count  Dtype \n",
      "---  ------      --------------  ----- \n",
      " 0   user_id     500 non-null    int64 \n",
      " 1   age         500 non-null    int64 \n",
      " 2   churn_date  38 non-null     object\n",
      " 3   city        500 non-null    object\n",
      " 4   first_name  500 non-null    object\n",
      " 5   last_name   500 non-null    object\n",
      " 6   reg_date    500 non-null    object\n",
      " 7   tariff      500 non-null    object\n",
      "dtypes: int64(2), object(6)\n",
      "memory usage: 31.4+ KB\n"
     ]
    },
    {
     "data": {
      "text/plain": [
       "None"
      ]
     },
     "metadata": {},
     "output_type": "display_data"
    },
    {
     "name": "stdout",
     "output_type": "stream",
     "text": [
      "*****************************\n",
      "\n"
     ]
    }
   ],
   "source": [
    "for i in range(len(pool_of_sheets)):\n",
    "  print('|', pool_of_sheets_names[i], '|')\n",
    "  display(pool_of_sheets[i].describe())\n",
    "  display(pool_of_sheets[i].info())\n",
    "  print('*****************************')\n",
    "  print()"
   ]
  },
  {
   "cell_type": "code",
   "execution_count": 7,
   "metadata": {
    "colab": {
     "base_uri": "https://localhost:8080/"
    },
    "id": "1Bl-nSGuxKwE",
    "outputId": "04232dc3-7657-4138-a644-9e17a1819500"
   },
   "outputs": [
    {
     "data": {
      "text/plain": [
       "492"
      ]
     },
     "execution_count": 7,
     "metadata": {},
     "output_type": "execute_result"
    }
   ],
   "source": [
    "len(calls['user_id'].unique())"
   ]
  },
  {
   "cell_type": "code",
   "execution_count": 8,
   "metadata": {
    "colab": {
     "base_uri": "https://localhost:8080/"
    },
    "id": "gwMeqAIbxTGh",
    "outputId": "51d00766-3bed-4523-c695-339ebbc0a026"
   },
   "outputs": [
    {
     "data": {
      "text/plain": [
       "min    1000\n",
       "max    1499\n",
       "Name: user_id, dtype: int64"
      ]
     },
     "execution_count": 8,
     "metadata": {},
     "output_type": "execute_result"
    }
   ],
   "source": [
    "calls['user_id'].agg(['min', 'max'])"
   ]
  },
  {
   "cell_type": "code",
   "execution_count": 9,
   "metadata": {
    "colab": {
     "base_uri": "https://localhost:8080/"
    },
    "id": "a6M-WHkAxm51",
    "outputId": "02b688ea-6f95-465b-8ddc-95310afba5f6"
   },
   "outputs": [
    {
     "data": {
      "text/plain": [
       "426"
      ]
     },
     "execution_count": 9,
     "metadata": {},
     "output_type": "execute_result"
    }
   ],
   "source": [
    "len(messages['user_id'].unique())"
   ]
  },
  {
   "cell_type": "code",
   "execution_count": 10,
   "metadata": {
    "colab": {
     "base_uri": "https://localhost:8080/"
    },
    "id": "XQSoQ-Cmxyo3",
    "outputId": "4f64973e-0cc7-458c-e2a0-ef1cde195016"
   },
   "outputs": [
    {
     "data": {
      "text/plain": [
       "min    1000\n",
       "max    1499\n",
       "Name: user_id, dtype: int64"
      ]
     },
     "execution_count": 10,
     "metadata": {},
     "output_type": "execute_result"
    }
   ],
   "source": [
    "messages['user_id'].agg(['min', 'max'])"
   ]
  },
  {
   "cell_type": "code",
   "execution_count": 11,
   "metadata": {
    "colab": {
     "base_uri": "https://localhost:8080/"
    },
    "id": "-N50AFT5x27N",
    "outputId": "4833d143-8799-490b-f21c-94a3e9e27411"
   },
   "outputs": [
    {
     "data": {
      "text/plain": [
       "497"
      ]
     },
     "execution_count": 11,
     "metadata": {},
     "output_type": "execute_result"
    }
   ],
   "source": [
    "len(internet['user_id'].unique())"
   ]
  },
  {
   "cell_type": "code",
   "execution_count": 12,
   "metadata": {
    "colab": {
     "base_uri": "https://localhost:8080/"
    },
    "id": "wgmMdh9Hx6fV",
    "outputId": "9f1132ed-3e28-4dbe-e3e5-45c52737f96c"
   },
   "outputs": [
    {
     "data": {
      "text/plain": [
       "min    1000\n",
       "max    1499\n",
       "Name: user_id, dtype: int64"
      ]
     },
     "execution_count": 12,
     "metadata": {},
     "output_type": "execute_result"
    }
   ],
   "source": [
    "internet['user_id'].agg(['min', 'max'])"
   ]
  },
  {
   "cell_type": "markdown",
   "metadata": {
    "id": "znboUdCcyRHs"
   },
   "source": [
    "Интересно, что данные есть не по всем пользователям. Это значит, что при объединении таблиц по некоторым пользователям у нас будут пропущенные значения."
   ]
  },
  {
   "cell_type": "markdown",
   "metadata": {
    "id": "fH1DlVcJFPxc"
   },
   "source": [
    "## **Вывод**\n",
    "\n",
    "* Средняя продолжительность разговора составляет 6.7 минут, медиана - 6 минут. Разброс не очень большой. Максимальная продолжительность разговора составляет 38 минут (всего-то! среди моих знакомых есть те, которые и по несколько часов разговаривают без перерыва);\n",
    "* call_date, session_date, message_date, churn_date, reg_date нужно привести к datetime;\n",
    "* Так как по условиям секунды округляются до минут вверх (даже если звонок продолжительностью в 1 секунду), то можно округлить минуты до целого \"вверх\";\n",
    "* Также и для интернет-трафика, но в этом случае считаются не отдельные сессии, а в целом интернет-трафик за месяц;\n",
    "* Пропуски только в churn_date. По условиям это означает, что тариф действовал на момент выгрузки данных;\n",
    "* В таблице с данными по интернет-трафику есть столбец \"Unnamed: 0\""
   ]
  },
  {
   "cell_type": "markdown",
   "metadata": {
    "id": "onONTYBqQpGm"
   },
   "source": [
    "# 2. Предобработка (подготовка) данных"
   ]
  },
  {
   "cell_type": "markdown",
   "metadata": {
    "id": "gJqOiBSRRIvu"
   },
   "source": [
    "## 2.1 Приведение данных к другим типам, округление минут звонков"
   ]
  },
  {
   "cell_type": "markdown",
   "metadata": {
    "id": "h6WpX-vATxxq"
   },
   "source": [
    "Приведем даты в тип datetime, а также приведем даты к месяцам"
   ]
  },
  {
   "cell_type": "code",
   "execution_count": 13,
   "metadata": {
    "id": "ikQjZO3UVZyq"
   },
   "outputs": [],
   "source": [
    "calls['call_date'] = pd.to_datetime(calls['call_date'], format='%Y-%m-%d')"
   ]
  },
  {
   "cell_type": "code",
   "execution_count": 14,
   "metadata": {
    "colab": {
     "base_uri": "https://localhost:8080/"
    },
    "id": "CERnr43qV60K",
    "outputId": "fc9a042c-243c-4a39-bed8-b4b136e0e981"
   },
   "outputs": [
    {
     "name": "stdout",
     "output_type": "stream",
     "text": [
      "<class 'pandas.core.frame.DataFrame'>\n",
      "RangeIndex: 202607 entries, 0 to 202606\n",
      "Data columns (total 4 columns):\n",
      " #   Column     Non-Null Count   Dtype         \n",
      "---  ------     --------------   -----         \n",
      " 0   id         202607 non-null  object        \n",
      " 1   call_date  202607 non-null  datetime64[ns]\n",
      " 2   duration   202607 non-null  float64       \n",
      " 3   user_id    202607 non-null  int64         \n",
      "dtypes: datetime64[ns](1), float64(1), int64(1), object(1)\n",
      "memory usage: 6.2+ MB\n"
     ]
    }
   ],
   "source": [
    "calls.info()"
   ]
  },
  {
   "cell_type": "markdown",
   "metadata": {
    "id": "wf7l-wM7gYgC"
   },
   "source": [
    "Посмотрим диапазон дат для звонков"
   ]
  },
  {
   "cell_type": "code",
   "execution_count": 15,
   "metadata": {
    "colab": {
     "base_uri": "https://localhost:8080/"
    },
    "id": "_0msXLFggp9d",
    "outputId": "491da175-5f72-48db-c41f-0ec14327d2b9"
   },
   "outputs": [
    {
     "data": {
      "text/plain": [
       "min   2018-01-01\n",
       "max   2018-12-31\n",
       "Name: call_date, dtype: datetime64[ns]"
      ]
     },
     "execution_count": 15,
     "metadata": {},
     "output_type": "execute_result"
    }
   ],
   "source": [
    "calls['call_date'].agg(['min', 'max'])"
   ]
  },
  {
   "cell_type": "markdown",
   "metadata": {
    "id": "R2m4YRwpg3Ap"
   },
   "source": [
    "Все звонки произведены в период с января по декабрь 2018 года"
   ]
  },
  {
   "cell_type": "code",
   "execution_count": 16,
   "metadata": {
    "id": "9_YIjxZLhByr"
   },
   "outputs": [],
   "source": [
    "calls['month'] = calls['call_date'].values.astype('datetime64[M]')"
   ]
  },
  {
   "cell_type": "code",
   "execution_count": 17,
   "metadata": {
    "colab": {
     "base_uri": "https://localhost:8080/",
     "height": 419
    },
    "id": "Arn2oK8EiX_o",
    "outputId": "84a61b73-7d05-44f9-b15d-996d096b6833"
   },
   "outputs": [
    {
     "data": {
      "text/html": [
       "<div>\n",
       "<style scoped>\n",
       "    .dataframe tbody tr th:only-of-type {\n",
       "        vertical-align: middle;\n",
       "    }\n",
       "\n",
       "    .dataframe tbody tr th {\n",
       "        vertical-align: top;\n",
       "    }\n",
       "\n",
       "    .dataframe thead th {\n",
       "        text-align: right;\n",
       "    }\n",
       "</style>\n",
       "<table border=\"1\" class=\"dataframe\">\n",
       "  <thead>\n",
       "    <tr style=\"text-align: right;\">\n",
       "      <th></th>\n",
       "      <th>id</th>\n",
       "      <th>call_date</th>\n",
       "      <th>duration</th>\n",
       "      <th>user_id</th>\n",
       "      <th>month</th>\n",
       "    </tr>\n",
       "  </thead>\n",
       "  <tbody>\n",
       "    <tr>\n",
       "      <th>0</th>\n",
       "      <td>1000_0</td>\n",
       "      <td>2018-07-25</td>\n",
       "      <td>0.00</td>\n",
       "      <td>1000</td>\n",
       "      <td>2018-07-01</td>\n",
       "    </tr>\n",
       "    <tr>\n",
       "      <th>1</th>\n",
       "      <td>1000_1</td>\n",
       "      <td>2018-08-17</td>\n",
       "      <td>0.00</td>\n",
       "      <td>1000</td>\n",
       "      <td>2018-08-01</td>\n",
       "    </tr>\n",
       "    <tr>\n",
       "      <th>2</th>\n",
       "      <td>1000_2</td>\n",
       "      <td>2018-06-11</td>\n",
       "      <td>2.85</td>\n",
       "      <td>1000</td>\n",
       "      <td>2018-06-01</td>\n",
       "    </tr>\n",
       "    <tr>\n",
       "      <th>3</th>\n",
       "      <td>1000_3</td>\n",
       "      <td>2018-09-21</td>\n",
       "      <td>13.80</td>\n",
       "      <td>1000</td>\n",
       "      <td>2018-09-01</td>\n",
       "    </tr>\n",
       "    <tr>\n",
       "      <th>4</th>\n",
       "      <td>1000_4</td>\n",
       "      <td>2018-12-15</td>\n",
       "      <td>5.18</td>\n",
       "      <td>1000</td>\n",
       "      <td>2018-12-01</td>\n",
       "    </tr>\n",
       "    <tr>\n",
       "      <th>...</th>\n",
       "      <td>...</td>\n",
       "      <td>...</td>\n",
       "      <td>...</td>\n",
       "      <td>...</td>\n",
       "      <td>...</td>\n",
       "    </tr>\n",
       "    <tr>\n",
       "      <th>202602</th>\n",
       "      <td>1499_215</td>\n",
       "      <td>2018-12-26</td>\n",
       "      <td>0.76</td>\n",
       "      <td>1499</td>\n",
       "      <td>2018-12-01</td>\n",
       "    </tr>\n",
       "    <tr>\n",
       "      <th>202603</th>\n",
       "      <td>1499_216</td>\n",
       "      <td>2018-10-18</td>\n",
       "      <td>18.83</td>\n",
       "      <td>1499</td>\n",
       "      <td>2018-10-01</td>\n",
       "    </tr>\n",
       "    <tr>\n",
       "      <th>202604</th>\n",
       "      <td>1499_217</td>\n",
       "      <td>2018-11-10</td>\n",
       "      <td>10.81</td>\n",
       "      <td>1499</td>\n",
       "      <td>2018-11-01</td>\n",
       "    </tr>\n",
       "    <tr>\n",
       "      <th>202605</th>\n",
       "      <td>1499_218</td>\n",
       "      <td>2018-10-06</td>\n",
       "      <td>4.27</td>\n",
       "      <td>1499</td>\n",
       "      <td>2018-10-01</td>\n",
       "    </tr>\n",
       "    <tr>\n",
       "      <th>202606</th>\n",
       "      <td>1499_219</td>\n",
       "      <td>2018-12-14</td>\n",
       "      <td>19.62</td>\n",
       "      <td>1499</td>\n",
       "      <td>2018-12-01</td>\n",
       "    </tr>\n",
       "  </tbody>\n",
       "</table>\n",
       "<p>202607 rows × 5 columns</p>\n",
       "</div>"
      ],
      "text/plain": [
       "              id  call_date  duration  user_id      month\n",
       "0         1000_0 2018-07-25      0.00     1000 2018-07-01\n",
       "1         1000_1 2018-08-17      0.00     1000 2018-08-01\n",
       "2         1000_2 2018-06-11      2.85     1000 2018-06-01\n",
       "3         1000_3 2018-09-21     13.80     1000 2018-09-01\n",
       "4         1000_4 2018-12-15      5.18     1000 2018-12-01\n",
       "...          ...        ...       ...      ...        ...\n",
       "202602  1499_215 2018-12-26      0.76     1499 2018-12-01\n",
       "202603  1499_216 2018-10-18     18.83     1499 2018-10-01\n",
       "202604  1499_217 2018-11-10     10.81     1499 2018-11-01\n",
       "202605  1499_218 2018-10-06      4.27     1499 2018-10-01\n",
       "202606  1499_219 2018-12-14     19.62     1499 2018-12-01\n",
       "\n",
       "[202607 rows x 5 columns]"
      ]
     },
     "execution_count": 17,
     "metadata": {},
     "output_type": "execute_result"
    }
   ],
   "source": [
    "calls"
   ]
  },
  {
   "cell_type": "markdown",
   "metadata": {
    "id": "3eZH5b9VibF4"
   },
   "source": [
    "Тоже самое проделаем и для остальных"
   ]
  },
  {
   "cell_type": "code",
   "execution_count": 18,
   "metadata": {
    "id": "9iy5NC8cW7kS"
   },
   "outputs": [],
   "source": [
    "internet['session_date'] = pd.to_datetime(\n",
    "    internet['session_date'], format='%Y-%m-%d'\n",
    "    )"
   ]
  },
  {
   "cell_type": "code",
   "execution_count": 19,
   "metadata": {
    "id": "FL5A8dIXirNd"
   },
   "outputs": [],
   "source": [
    "internet['month'] = internet['session_date'].values.astype('datetime64[M]')"
   ]
  },
  {
   "cell_type": "code",
   "execution_count": 20,
   "metadata": {
    "id": "Jo4_cZh4XOyb"
   },
   "outputs": [],
   "source": [
    "messages['message_date'] = pd.to_datetime(\n",
    "    messages['message_date'], format='%Y-%m-%d'\n",
    "    )"
   ]
  },
  {
   "cell_type": "code",
   "execution_count": 21,
   "metadata": {
    "id": "024Rlhk1jXWo"
   },
   "outputs": [],
   "source": [
    "messages['month'] = messages['message_date'].values.astype('datetime64[M]')"
   ]
  },
  {
   "cell_type": "code",
   "execution_count": 22,
   "metadata": {
    "id": "KAVUxx4dYJTb"
   },
   "outputs": [],
   "source": [
    "users['churn_date'] = pd.to_datetime(users['churn_date'], format='%Y-%m-%d')\n",
    "users['reg_date'] = pd.to_datetime(users['reg_date'], format='%Y-%m-%d')"
   ]
  },
  {
   "cell_type": "markdown",
   "metadata": {
    "id": "rGEMgoZuYnWi"
   },
   "source": [
    "Округлим минуты звонков в каждой сессии \"вверх\", а затем переведем в целочисленный формат (int)"
   ]
  },
  {
   "cell_type": "code",
   "execution_count": 23,
   "metadata": {
    "colab": {
     "base_uri": "https://localhost:8080/"
    },
    "id": "ztlfZ9RP1C-s",
    "outputId": "7ad3800a-1197-4f7c-dd2f-a6af57c03c93"
   },
   "outputs": [
    {
     "data": {
      "text/plain": [
       "0          0.00\n",
       "1          0.00\n",
       "2          2.85\n",
       "3         13.80\n",
       "4          5.18\n",
       "          ...  \n",
       "202602     0.76\n",
       "202603    18.83\n",
       "202604    10.81\n",
       "202605     4.27\n",
       "202606    19.62\n",
       "Name: duration, Length: 202607, dtype: float64"
      ]
     },
     "execution_count": 23,
     "metadata": {},
     "output_type": "execute_result"
    }
   ],
   "source": [
    "calls['duration']"
   ]
  },
  {
   "cell_type": "code",
   "execution_count": 24,
   "metadata": {
    "id": "KaFZzPVVclog"
   },
   "outputs": [],
   "source": [
    "calls['duration'] = calls['duration'].apply(np.ceil)"
   ]
  },
  {
   "cell_type": "markdown",
   "metadata": {
    "id": "E1ermPur05_9"
   },
   "source": [
    "Проверка"
   ]
  },
  {
   "cell_type": "code",
   "execution_count": 25,
   "metadata": {
    "colab": {
     "base_uri": "https://localhost:8080/"
    },
    "id": "idZCYORl0x9m",
    "outputId": "c1cd370b-6087-4389-9459-176b93f0dd1e",
    "scrolled": false
   },
   "outputs": [
    {
     "data": {
      "text/plain": [
       "0          0.0\n",
       "1          0.0\n",
       "2          3.0\n",
       "3         14.0\n",
       "4          6.0\n",
       "          ... \n",
       "202602     1.0\n",
       "202603    19.0\n",
       "202604    11.0\n",
       "202605     5.0\n",
       "202606    20.0\n",
       "Name: duration, Length: 202607, dtype: float64"
      ]
     },
     "execution_count": 25,
     "metadata": {},
     "output_type": "execute_result"
    }
   ],
   "source": [
    "calls['duration']"
   ]
  },
  {
   "cell_type": "code",
   "execution_count": 26,
   "metadata": {
    "id": "zfGd6_7m09B-"
   },
   "outputs": [],
   "source": [
    "calls['duration'] = calls['duration'].astype(int)"
   ]
  },
  {
   "cell_type": "code",
   "execution_count": 27,
   "metadata": {
    "colab": {
     "base_uri": "https://localhost:8080/"
    },
    "id": "WbreqKaQ17XW",
    "outputId": "87e3c97a-f9cd-415d-a285-d4db47cb14b3"
   },
   "outputs": [
    {
     "data": {
      "text/plain": [
       "0          0\n",
       "1          0\n",
       "2          3\n",
       "3         14\n",
       "4          6\n",
       "          ..\n",
       "202602     1\n",
       "202603    19\n",
       "202604    11\n",
       "202605     5\n",
       "202606    20\n",
       "Name: duration, Length: 202607, dtype: int64"
      ]
     },
     "execution_count": 27,
     "metadata": {},
     "output_type": "execute_result"
    }
   ],
   "source": [
    "calls['duration']"
   ]
  },
  {
   "cell_type": "markdown",
   "metadata": {
    "id": "0tFLCbIEHFaL"
   },
   "source": [
    "Удалим столбец \"Unnamed: 0\" в таблице с интернет-трафиком, так как данный столбец повторяет индексы."
   ]
  },
  {
   "cell_type": "code",
   "execution_count": 28,
   "metadata": {
    "id": "i8UFkZVYHNqL"
   },
   "outputs": [],
   "source": [
    "internet = internet.drop(['Unnamed: 0'], axis=1)"
   ]
  },
  {
   "cell_type": "code",
   "execution_count": 29,
   "metadata": {
    "colab": {
     "base_uri": "https://localhost:8080/"
    },
    "id": "SCh1HfN2Hk4z",
    "outputId": "ef365cc2-4a7c-419a-cb5b-e3a0d8724ca2"
   },
   "outputs": [
    {
     "data": {
      "text/plain": [
       "Index(['id', 'mb_used', 'session_date', 'user_id', 'month'], dtype='object')"
      ]
     },
     "execution_count": 29,
     "metadata": {},
     "output_type": "execute_result"
    }
   ],
   "source": [
    "internet.columns"
   ]
  },
  {
   "cell_type": "markdown",
   "metadata": {
    "id": "9iNKf3C6En1j"
   },
   "source": [
    "## 2.2 Объединение таблиц"
   ]
  },
  {
   "cell_type": "markdown",
   "metadata": {
    "id": "d1QNxBF5S831"
   },
   "source": [
    "Чтобы создавать сводные таблицы по месяцам, необходимо произвести подготовку данных для слияния"
   ]
  },
  {
   "cell_type": "markdown",
   "metadata": {
    "id": "0mOKKlfRfh3G"
   },
   "source": [
    "Создадим датафрейм с месяцами (рыбу)"
   ]
  },
  {
   "cell_type": "code",
   "execution_count": 30,
   "metadata": {
    "id": "hCGmlCOYUntJ"
   },
   "outputs": [],
   "source": [
    "month = pd.DataFrame(pd.date_range('2018-01-01', '2018-12-01', freq='MS'))"
   ]
  },
  {
   "cell_type": "code",
   "execution_count": 31,
   "metadata": {
    "id": "fXpmx75oZrBP"
   },
   "outputs": [],
   "source": [
    "month.columns = ['month']"
   ]
  },
  {
   "cell_type": "code",
   "execution_count": 32,
   "metadata": {
    "colab": {
     "base_uri": "https://localhost:8080/",
     "height": 421
    },
    "id": "S6okRI5GZ9td",
    "outputId": "4f440a97-39b7-406f-a67a-aa8a57c820bd"
   },
   "outputs": [
    {
     "data": {
      "text/html": [
       "<div>\n",
       "<style scoped>\n",
       "    .dataframe tbody tr th:only-of-type {\n",
       "        vertical-align: middle;\n",
       "    }\n",
       "\n",
       "    .dataframe tbody tr th {\n",
       "        vertical-align: top;\n",
       "    }\n",
       "\n",
       "    .dataframe thead th {\n",
       "        text-align: right;\n",
       "    }\n",
       "</style>\n",
       "<table border=\"1\" class=\"dataframe\">\n",
       "  <thead>\n",
       "    <tr style=\"text-align: right;\">\n",
       "      <th></th>\n",
       "      <th>month</th>\n",
       "    </tr>\n",
       "  </thead>\n",
       "  <tbody>\n",
       "    <tr>\n",
       "      <th>0</th>\n",
       "      <td>2018-01-01</td>\n",
       "    </tr>\n",
       "    <tr>\n",
       "      <th>1</th>\n",
       "      <td>2018-02-01</td>\n",
       "    </tr>\n",
       "    <tr>\n",
       "      <th>2</th>\n",
       "      <td>2018-03-01</td>\n",
       "    </tr>\n",
       "    <tr>\n",
       "      <th>3</th>\n",
       "      <td>2018-04-01</td>\n",
       "    </tr>\n",
       "    <tr>\n",
       "      <th>4</th>\n",
       "      <td>2018-05-01</td>\n",
       "    </tr>\n",
       "    <tr>\n",
       "      <th>5</th>\n",
       "      <td>2018-06-01</td>\n",
       "    </tr>\n",
       "    <tr>\n",
       "      <th>6</th>\n",
       "      <td>2018-07-01</td>\n",
       "    </tr>\n",
       "    <tr>\n",
       "      <th>7</th>\n",
       "      <td>2018-08-01</td>\n",
       "    </tr>\n",
       "    <tr>\n",
       "      <th>8</th>\n",
       "      <td>2018-09-01</td>\n",
       "    </tr>\n",
       "    <tr>\n",
       "      <th>9</th>\n",
       "      <td>2018-10-01</td>\n",
       "    </tr>\n",
       "    <tr>\n",
       "      <th>10</th>\n",
       "      <td>2018-11-01</td>\n",
       "    </tr>\n",
       "    <tr>\n",
       "      <th>11</th>\n",
       "      <td>2018-12-01</td>\n",
       "    </tr>\n",
       "  </tbody>\n",
       "</table>\n",
       "</div>"
      ],
      "text/plain": [
       "        month\n",
       "0  2018-01-01\n",
       "1  2018-02-01\n",
       "2  2018-03-01\n",
       "3  2018-04-01\n",
       "4  2018-05-01\n",
       "5  2018-06-01\n",
       "6  2018-07-01\n",
       "7  2018-08-01\n",
       "8  2018-09-01\n",
       "9  2018-10-01\n",
       "10 2018-11-01\n",
       "11 2018-12-01"
      ]
     },
     "execution_count": 32,
     "metadata": {},
     "output_type": "execute_result"
    }
   ],
   "source": [
    "month"
   ]
  },
  {
   "cell_type": "markdown",
   "metadata": {
    "id": "Bm2xrw6uA8xd"
   },
   "source": [
    "Для каждого пользователя добавим месяца"
   ]
  },
  {
   "cell_type": "code",
   "execution_count": 33,
   "metadata": {
    "id": "JLuI9wwmfurr"
   },
   "outputs": [],
   "source": [
    "template = users.merge(month, how='cross')"
   ]
  },
  {
   "cell_type": "code",
   "execution_count": 34,
   "metadata": {
    "colab": {
     "base_uri": "https://localhost:8080/",
     "height": 419
    },
    "id": "9vGudfn8A4g0",
    "outputId": "c4b4172e-0029-43ec-e636-588cd0c04af7"
   },
   "outputs": [
    {
     "data": {
      "text/html": [
       "<div>\n",
       "<style scoped>\n",
       "    .dataframe tbody tr th:only-of-type {\n",
       "        vertical-align: middle;\n",
       "    }\n",
       "\n",
       "    .dataframe tbody tr th {\n",
       "        vertical-align: top;\n",
       "    }\n",
       "\n",
       "    .dataframe thead th {\n",
       "        text-align: right;\n",
       "    }\n",
       "</style>\n",
       "<table border=\"1\" class=\"dataframe\">\n",
       "  <thead>\n",
       "    <tr style=\"text-align: right;\">\n",
       "      <th></th>\n",
       "      <th>user_id</th>\n",
       "      <th>age</th>\n",
       "      <th>churn_date</th>\n",
       "      <th>city</th>\n",
       "      <th>first_name</th>\n",
       "      <th>last_name</th>\n",
       "      <th>reg_date</th>\n",
       "      <th>tariff</th>\n",
       "      <th>month</th>\n",
       "    </tr>\n",
       "  </thead>\n",
       "  <tbody>\n",
       "    <tr>\n",
       "      <th>0</th>\n",
       "      <td>1000</td>\n",
       "      <td>52</td>\n",
       "      <td>NaT</td>\n",
       "      <td>Краснодар</td>\n",
       "      <td>Рафаил</td>\n",
       "      <td>Верещагин</td>\n",
       "      <td>2018-05-25</td>\n",
       "      <td>ultra</td>\n",
       "      <td>2018-01-01</td>\n",
       "    </tr>\n",
       "    <tr>\n",
       "      <th>1</th>\n",
       "      <td>1000</td>\n",
       "      <td>52</td>\n",
       "      <td>NaT</td>\n",
       "      <td>Краснодар</td>\n",
       "      <td>Рафаил</td>\n",
       "      <td>Верещагин</td>\n",
       "      <td>2018-05-25</td>\n",
       "      <td>ultra</td>\n",
       "      <td>2018-02-01</td>\n",
       "    </tr>\n",
       "    <tr>\n",
       "      <th>2</th>\n",
       "      <td>1000</td>\n",
       "      <td>52</td>\n",
       "      <td>NaT</td>\n",
       "      <td>Краснодар</td>\n",
       "      <td>Рафаил</td>\n",
       "      <td>Верещагин</td>\n",
       "      <td>2018-05-25</td>\n",
       "      <td>ultra</td>\n",
       "      <td>2018-03-01</td>\n",
       "    </tr>\n",
       "    <tr>\n",
       "      <th>3</th>\n",
       "      <td>1000</td>\n",
       "      <td>52</td>\n",
       "      <td>NaT</td>\n",
       "      <td>Краснодар</td>\n",
       "      <td>Рафаил</td>\n",
       "      <td>Верещагин</td>\n",
       "      <td>2018-05-25</td>\n",
       "      <td>ultra</td>\n",
       "      <td>2018-04-01</td>\n",
       "    </tr>\n",
       "    <tr>\n",
       "      <th>4</th>\n",
       "      <td>1000</td>\n",
       "      <td>52</td>\n",
       "      <td>NaT</td>\n",
       "      <td>Краснодар</td>\n",
       "      <td>Рафаил</td>\n",
       "      <td>Верещагин</td>\n",
       "      <td>2018-05-25</td>\n",
       "      <td>ultra</td>\n",
       "      <td>2018-05-01</td>\n",
       "    </tr>\n",
       "    <tr>\n",
       "      <th>...</th>\n",
       "      <td>...</td>\n",
       "      <td>...</td>\n",
       "      <td>...</td>\n",
       "      <td>...</td>\n",
       "      <td>...</td>\n",
       "      <td>...</td>\n",
       "      <td>...</td>\n",
       "      <td>...</td>\n",
       "      <td>...</td>\n",
       "    </tr>\n",
       "    <tr>\n",
       "      <th>5995</th>\n",
       "      <td>1499</td>\n",
       "      <td>35</td>\n",
       "      <td>NaT</td>\n",
       "      <td>Пермь</td>\n",
       "      <td>Гектор</td>\n",
       "      <td>Корнилов</td>\n",
       "      <td>2018-09-27</td>\n",
       "      <td>smart</td>\n",
       "      <td>2018-08-01</td>\n",
       "    </tr>\n",
       "    <tr>\n",
       "      <th>5996</th>\n",
       "      <td>1499</td>\n",
       "      <td>35</td>\n",
       "      <td>NaT</td>\n",
       "      <td>Пермь</td>\n",
       "      <td>Гектор</td>\n",
       "      <td>Корнилов</td>\n",
       "      <td>2018-09-27</td>\n",
       "      <td>smart</td>\n",
       "      <td>2018-09-01</td>\n",
       "    </tr>\n",
       "    <tr>\n",
       "      <th>5997</th>\n",
       "      <td>1499</td>\n",
       "      <td>35</td>\n",
       "      <td>NaT</td>\n",
       "      <td>Пермь</td>\n",
       "      <td>Гектор</td>\n",
       "      <td>Корнилов</td>\n",
       "      <td>2018-09-27</td>\n",
       "      <td>smart</td>\n",
       "      <td>2018-10-01</td>\n",
       "    </tr>\n",
       "    <tr>\n",
       "      <th>5998</th>\n",
       "      <td>1499</td>\n",
       "      <td>35</td>\n",
       "      <td>NaT</td>\n",
       "      <td>Пермь</td>\n",
       "      <td>Гектор</td>\n",
       "      <td>Корнилов</td>\n",
       "      <td>2018-09-27</td>\n",
       "      <td>smart</td>\n",
       "      <td>2018-11-01</td>\n",
       "    </tr>\n",
       "    <tr>\n",
       "      <th>5999</th>\n",
       "      <td>1499</td>\n",
       "      <td>35</td>\n",
       "      <td>NaT</td>\n",
       "      <td>Пермь</td>\n",
       "      <td>Гектор</td>\n",
       "      <td>Корнилов</td>\n",
       "      <td>2018-09-27</td>\n",
       "      <td>smart</td>\n",
       "      <td>2018-12-01</td>\n",
       "    </tr>\n",
       "  </tbody>\n",
       "</table>\n",
       "<p>6000 rows × 9 columns</p>\n",
       "</div>"
      ],
      "text/plain": [
       "      user_id  age churn_date       city first_name  last_name   reg_date  \\\n",
       "0        1000   52        NaT  Краснодар     Рафаил  Верещагин 2018-05-25   \n",
       "1        1000   52        NaT  Краснодар     Рафаил  Верещагин 2018-05-25   \n",
       "2        1000   52        NaT  Краснодар     Рафаил  Верещагин 2018-05-25   \n",
       "3        1000   52        NaT  Краснодар     Рафаил  Верещагин 2018-05-25   \n",
       "4        1000   52        NaT  Краснодар     Рафаил  Верещагин 2018-05-25   \n",
       "...       ...  ...        ...        ...        ...        ...        ...   \n",
       "5995     1499   35        NaT      Пермь     Гектор   Корнилов 2018-09-27   \n",
       "5996     1499   35        NaT      Пермь     Гектор   Корнилов 2018-09-27   \n",
       "5997     1499   35        NaT      Пермь     Гектор   Корнилов 2018-09-27   \n",
       "5998     1499   35        NaT      Пермь     Гектор   Корнилов 2018-09-27   \n",
       "5999     1499   35        NaT      Пермь     Гектор   Корнилов 2018-09-27   \n",
       "\n",
       "     tariff      month  \n",
       "0     ultra 2018-01-01  \n",
       "1     ultra 2018-02-01  \n",
       "2     ultra 2018-03-01  \n",
       "3     ultra 2018-04-01  \n",
       "4     ultra 2018-05-01  \n",
       "...     ...        ...  \n",
       "5995  smart 2018-08-01  \n",
       "5996  smart 2018-09-01  \n",
       "5997  smart 2018-10-01  \n",
       "5998  smart 2018-11-01  \n",
       "5999  smart 2018-12-01  \n",
       "\n",
       "[6000 rows x 9 columns]"
      ]
     },
     "execution_count": 34,
     "metadata": {},
     "output_type": "execute_result"
    }
   ],
   "source": [
    "template"
   ]
  },
  {
   "cell_type": "markdown",
   "metadata": {
    "id": "-EBPwy6ZCieu"
   },
   "source": [
    "Приведем дату регистрации к месяцам и отфильтруем строки с месяцами до регистрации"
   ]
  },
  {
   "cell_type": "code",
   "execution_count": 35,
   "metadata": {
    "id": "WTI-ezOZBpWi"
   },
   "outputs": [],
   "source": [
    "template['reg_month'] = template['reg_date'].to_numpy().astype('datetime64[M]')"
   ]
  },
  {
   "cell_type": "code",
   "execution_count": 36,
   "metadata": {
    "id": "GQ2x3VPwCqZ7"
   },
   "outputs": [],
   "source": [
    "template = template[template['reg_month'] <= template['month']]"
   ]
  },
  {
   "cell_type": "markdown",
   "metadata": {
    "id": "GL8zPNxLDr5C"
   },
   "source": [
    "Заготовка готова."
   ]
  },
  {
   "cell_type": "markdown",
   "metadata": {
    "id": "xIv3LI4NGtKC"
   },
   "source": [
    "## 2.3 Расчеты израсходованных минут, сообщений, мегабайт и выручки по месяцам для каждого клиента"
   ]
  },
  {
   "cell_type": "markdown",
   "metadata": {
    "id": "odP8hAreG1Y9"
   },
   "source": [
    "Расчитаем количество сделанных звонков и израсходованных минут разговора по месяцам. "
   ]
  },
  {
   "cell_type": "code",
   "execution_count": 37,
   "metadata": {
    "colab": {
     "base_uri": "https://localhost:8080/",
     "height": 419
    },
    "id": "4gTqO22xHBTu",
    "outputId": "395c50ef-e2bb-4e04-f1d3-2e4836c1f250"
   },
   "outputs": [
    {
     "data": {
      "text/html": [
       "<div>\n",
       "<style scoped>\n",
       "    .dataframe tbody tr th:only-of-type {\n",
       "        vertical-align: middle;\n",
       "    }\n",
       "\n",
       "    .dataframe tbody tr th {\n",
       "        vertical-align: top;\n",
       "    }\n",
       "\n",
       "    .dataframe thead th {\n",
       "        text-align: right;\n",
       "    }\n",
       "</style>\n",
       "<table border=\"1\" class=\"dataframe\">\n",
       "  <thead>\n",
       "    <tr style=\"text-align: right;\">\n",
       "      <th></th>\n",
       "      <th>id</th>\n",
       "      <th>call_date</th>\n",
       "      <th>duration</th>\n",
       "      <th>user_id</th>\n",
       "      <th>month</th>\n",
       "    </tr>\n",
       "  </thead>\n",
       "  <tbody>\n",
       "    <tr>\n",
       "      <th>0</th>\n",
       "      <td>1000_0</td>\n",
       "      <td>2018-07-25</td>\n",
       "      <td>0</td>\n",
       "      <td>1000</td>\n",
       "      <td>2018-07-01</td>\n",
       "    </tr>\n",
       "    <tr>\n",
       "      <th>1</th>\n",
       "      <td>1000_1</td>\n",
       "      <td>2018-08-17</td>\n",
       "      <td>0</td>\n",
       "      <td>1000</td>\n",
       "      <td>2018-08-01</td>\n",
       "    </tr>\n",
       "    <tr>\n",
       "      <th>2</th>\n",
       "      <td>1000_2</td>\n",
       "      <td>2018-06-11</td>\n",
       "      <td>3</td>\n",
       "      <td>1000</td>\n",
       "      <td>2018-06-01</td>\n",
       "    </tr>\n",
       "    <tr>\n",
       "      <th>3</th>\n",
       "      <td>1000_3</td>\n",
       "      <td>2018-09-21</td>\n",
       "      <td>14</td>\n",
       "      <td>1000</td>\n",
       "      <td>2018-09-01</td>\n",
       "    </tr>\n",
       "    <tr>\n",
       "      <th>4</th>\n",
       "      <td>1000_4</td>\n",
       "      <td>2018-12-15</td>\n",
       "      <td>6</td>\n",
       "      <td>1000</td>\n",
       "      <td>2018-12-01</td>\n",
       "    </tr>\n",
       "    <tr>\n",
       "      <th>...</th>\n",
       "      <td>...</td>\n",
       "      <td>...</td>\n",
       "      <td>...</td>\n",
       "      <td>...</td>\n",
       "      <td>...</td>\n",
       "    </tr>\n",
       "    <tr>\n",
       "      <th>202602</th>\n",
       "      <td>1499_215</td>\n",
       "      <td>2018-12-26</td>\n",
       "      <td>1</td>\n",
       "      <td>1499</td>\n",
       "      <td>2018-12-01</td>\n",
       "    </tr>\n",
       "    <tr>\n",
       "      <th>202603</th>\n",
       "      <td>1499_216</td>\n",
       "      <td>2018-10-18</td>\n",
       "      <td>19</td>\n",
       "      <td>1499</td>\n",
       "      <td>2018-10-01</td>\n",
       "    </tr>\n",
       "    <tr>\n",
       "      <th>202604</th>\n",
       "      <td>1499_217</td>\n",
       "      <td>2018-11-10</td>\n",
       "      <td>11</td>\n",
       "      <td>1499</td>\n",
       "      <td>2018-11-01</td>\n",
       "    </tr>\n",
       "    <tr>\n",
       "      <th>202605</th>\n",
       "      <td>1499_218</td>\n",
       "      <td>2018-10-06</td>\n",
       "      <td>5</td>\n",
       "      <td>1499</td>\n",
       "      <td>2018-10-01</td>\n",
       "    </tr>\n",
       "    <tr>\n",
       "      <th>202606</th>\n",
       "      <td>1499_219</td>\n",
       "      <td>2018-12-14</td>\n",
       "      <td>20</td>\n",
       "      <td>1499</td>\n",
       "      <td>2018-12-01</td>\n",
       "    </tr>\n",
       "  </tbody>\n",
       "</table>\n",
       "<p>202607 rows × 5 columns</p>\n",
       "</div>"
      ],
      "text/plain": [
       "              id  call_date  duration  user_id      month\n",
       "0         1000_0 2018-07-25         0     1000 2018-07-01\n",
       "1         1000_1 2018-08-17         0     1000 2018-08-01\n",
       "2         1000_2 2018-06-11         3     1000 2018-06-01\n",
       "3         1000_3 2018-09-21        14     1000 2018-09-01\n",
       "4         1000_4 2018-12-15         6     1000 2018-12-01\n",
       "...          ...        ...       ...      ...        ...\n",
       "202602  1499_215 2018-12-26         1     1499 2018-12-01\n",
       "202603  1499_216 2018-10-18        19     1499 2018-10-01\n",
       "202604  1499_217 2018-11-10        11     1499 2018-11-01\n",
       "202605  1499_218 2018-10-06         5     1499 2018-10-01\n",
       "202606  1499_219 2018-12-14        20     1499 2018-12-01\n",
       "\n",
       "[202607 rows x 5 columns]"
      ]
     },
     "execution_count": 37,
     "metadata": {},
     "output_type": "execute_result"
    }
   ],
   "source": [
    "calls"
   ]
  },
  {
   "cell_type": "code",
   "execution_count": 38,
   "metadata": {
    "id": "hpkWfdSUHEy-"
   },
   "outputs": [],
   "source": [
    "calls_agg = calls.groupby(['user_id', 'month'])['duration'].agg(['count', 'sum']).reset_index()"
   ]
  },
  {
   "cell_type": "code",
   "execution_count": 39,
   "metadata": {
    "id": "8aKO8WIxHnX_"
   },
   "outputs": [],
   "source": [
    "calls_agg.columns = ['user_id', 'month', 'calls_count', 'minutes_sum']"
   ]
  },
  {
   "cell_type": "code",
   "execution_count": 40,
   "metadata": {
    "colab": {
     "base_uri": "https://localhost:8080/",
     "height": 419
    },
    "id": "6zyt_odfH2HP",
    "outputId": "5ed74e8d-a1de-42f6-b98e-b93d1c50b2e9"
   },
   "outputs": [
    {
     "data": {
      "text/html": [
       "<div>\n",
       "<style scoped>\n",
       "    .dataframe tbody tr th:only-of-type {\n",
       "        vertical-align: middle;\n",
       "    }\n",
       "\n",
       "    .dataframe tbody tr th {\n",
       "        vertical-align: top;\n",
       "    }\n",
       "\n",
       "    .dataframe thead th {\n",
       "        text-align: right;\n",
       "    }\n",
       "</style>\n",
       "<table border=\"1\" class=\"dataframe\">\n",
       "  <thead>\n",
       "    <tr style=\"text-align: right;\">\n",
       "      <th></th>\n",
       "      <th>user_id</th>\n",
       "      <th>month</th>\n",
       "      <th>calls_count</th>\n",
       "      <th>minutes_sum</th>\n",
       "    </tr>\n",
       "  </thead>\n",
       "  <tbody>\n",
       "    <tr>\n",
       "      <th>0</th>\n",
       "      <td>1000</td>\n",
       "      <td>2018-05-01</td>\n",
       "      <td>22</td>\n",
       "      <td>159</td>\n",
       "    </tr>\n",
       "    <tr>\n",
       "      <th>1</th>\n",
       "      <td>1000</td>\n",
       "      <td>2018-06-01</td>\n",
       "      <td>43</td>\n",
       "      <td>172</td>\n",
       "    </tr>\n",
       "    <tr>\n",
       "      <th>2</th>\n",
       "      <td>1000</td>\n",
       "      <td>2018-07-01</td>\n",
       "      <td>47</td>\n",
       "      <td>340</td>\n",
       "    </tr>\n",
       "    <tr>\n",
       "      <th>3</th>\n",
       "      <td>1000</td>\n",
       "      <td>2018-08-01</td>\n",
       "      <td>52</td>\n",
       "      <td>408</td>\n",
       "    </tr>\n",
       "    <tr>\n",
       "      <th>4</th>\n",
       "      <td>1000</td>\n",
       "      <td>2018-09-01</td>\n",
       "      <td>58</td>\n",
       "      <td>466</td>\n",
       "    </tr>\n",
       "    <tr>\n",
       "      <th>...</th>\n",
       "      <td>...</td>\n",
       "      <td>...</td>\n",
       "      <td>...</td>\n",
       "      <td>...</td>\n",
       "    </tr>\n",
       "    <tr>\n",
       "      <th>3169</th>\n",
       "      <td>1498</td>\n",
       "      <td>2018-10-01</td>\n",
       "      <td>41</td>\n",
       "      <td>247</td>\n",
       "    </tr>\n",
       "    <tr>\n",
       "      <th>3170</th>\n",
       "      <td>1499</td>\n",
       "      <td>2018-09-01</td>\n",
       "      <td>9</td>\n",
       "      <td>70</td>\n",
       "    </tr>\n",
       "    <tr>\n",
       "      <th>3171</th>\n",
       "      <td>1499</td>\n",
       "      <td>2018-10-01</td>\n",
       "      <td>68</td>\n",
       "      <td>449</td>\n",
       "    </tr>\n",
       "    <tr>\n",
       "      <th>3172</th>\n",
       "      <td>1499</td>\n",
       "      <td>2018-11-01</td>\n",
       "      <td>74</td>\n",
       "      <td>612</td>\n",
       "    </tr>\n",
       "    <tr>\n",
       "      <th>3173</th>\n",
       "      <td>1499</td>\n",
       "      <td>2018-12-01</td>\n",
       "      <td>69</td>\n",
       "      <td>492</td>\n",
       "    </tr>\n",
       "  </tbody>\n",
       "</table>\n",
       "<p>3174 rows × 4 columns</p>\n",
       "</div>"
      ],
      "text/plain": [
       "      user_id      month  calls_count  minutes_sum\n",
       "0        1000 2018-05-01           22          159\n",
       "1        1000 2018-06-01           43          172\n",
       "2        1000 2018-07-01           47          340\n",
       "3        1000 2018-08-01           52          408\n",
       "4        1000 2018-09-01           58          466\n",
       "...       ...        ...          ...          ...\n",
       "3169     1498 2018-10-01           41          247\n",
       "3170     1499 2018-09-01            9           70\n",
       "3171     1499 2018-10-01           68          449\n",
       "3172     1499 2018-11-01           74          612\n",
       "3173     1499 2018-12-01           69          492\n",
       "\n",
       "[3174 rows x 4 columns]"
      ]
     },
     "execution_count": 40,
     "metadata": {},
     "output_type": "execute_result"
    }
   ],
   "source": [
    "calls_agg"
   ]
  },
  {
   "cell_type": "markdown",
   "metadata": {
    "id": "c5fWs90YH9nj"
   },
   "source": [
    "Добавим эти данные в заготовку"
   ]
  },
  {
   "cell_type": "code",
   "execution_count": 41,
   "metadata": {
    "id": "VPVQ-uHhIEf-"
   },
   "outputs": [],
   "source": [
    "template = template.merge(calls_agg, how='left')"
   ]
  },
  {
   "cell_type": "code",
   "execution_count": 42,
   "metadata": {
    "colab": {
     "base_uri": "https://localhost:8080/",
     "height": 419
    },
    "id": "hgXD0Cv_IQR-",
    "outputId": "6f269418-091b-4dba-ba12-354d990ae411"
   },
   "outputs": [
    {
     "data": {
      "text/html": [
       "<div>\n",
       "<style scoped>\n",
       "    .dataframe tbody tr th:only-of-type {\n",
       "        vertical-align: middle;\n",
       "    }\n",
       "\n",
       "    .dataframe tbody tr th {\n",
       "        vertical-align: top;\n",
       "    }\n",
       "\n",
       "    .dataframe thead th {\n",
       "        text-align: right;\n",
       "    }\n",
       "</style>\n",
       "<table border=\"1\" class=\"dataframe\">\n",
       "  <thead>\n",
       "    <tr style=\"text-align: right;\">\n",
       "      <th></th>\n",
       "      <th>user_id</th>\n",
       "      <th>age</th>\n",
       "      <th>churn_date</th>\n",
       "      <th>city</th>\n",
       "      <th>first_name</th>\n",
       "      <th>last_name</th>\n",
       "      <th>reg_date</th>\n",
       "      <th>tariff</th>\n",
       "      <th>month</th>\n",
       "      <th>reg_month</th>\n",
       "      <th>calls_count</th>\n",
       "      <th>minutes_sum</th>\n",
       "    </tr>\n",
       "  </thead>\n",
       "  <tbody>\n",
       "    <tr>\n",
       "      <th>0</th>\n",
       "      <td>1000</td>\n",
       "      <td>52</td>\n",
       "      <td>NaT</td>\n",
       "      <td>Краснодар</td>\n",
       "      <td>Рафаил</td>\n",
       "      <td>Верещагин</td>\n",
       "      <td>2018-05-25</td>\n",
       "      <td>ultra</td>\n",
       "      <td>2018-05-01</td>\n",
       "      <td>2018-05-01</td>\n",
       "      <td>22.0</td>\n",
       "      <td>159.0</td>\n",
       "    </tr>\n",
       "    <tr>\n",
       "      <th>1</th>\n",
       "      <td>1000</td>\n",
       "      <td>52</td>\n",
       "      <td>NaT</td>\n",
       "      <td>Краснодар</td>\n",
       "      <td>Рафаил</td>\n",
       "      <td>Верещагин</td>\n",
       "      <td>2018-05-25</td>\n",
       "      <td>ultra</td>\n",
       "      <td>2018-06-01</td>\n",
       "      <td>2018-05-01</td>\n",
       "      <td>43.0</td>\n",
       "      <td>172.0</td>\n",
       "    </tr>\n",
       "    <tr>\n",
       "      <th>2</th>\n",
       "      <td>1000</td>\n",
       "      <td>52</td>\n",
       "      <td>NaT</td>\n",
       "      <td>Краснодар</td>\n",
       "      <td>Рафаил</td>\n",
       "      <td>Верещагин</td>\n",
       "      <td>2018-05-25</td>\n",
       "      <td>ultra</td>\n",
       "      <td>2018-07-01</td>\n",
       "      <td>2018-05-01</td>\n",
       "      <td>47.0</td>\n",
       "      <td>340.0</td>\n",
       "    </tr>\n",
       "    <tr>\n",
       "      <th>3</th>\n",
       "      <td>1000</td>\n",
       "      <td>52</td>\n",
       "      <td>NaT</td>\n",
       "      <td>Краснодар</td>\n",
       "      <td>Рафаил</td>\n",
       "      <td>Верещагин</td>\n",
       "      <td>2018-05-25</td>\n",
       "      <td>ultra</td>\n",
       "      <td>2018-08-01</td>\n",
       "      <td>2018-05-01</td>\n",
       "      <td>52.0</td>\n",
       "      <td>408.0</td>\n",
       "    </tr>\n",
       "    <tr>\n",
       "      <th>4</th>\n",
       "      <td>1000</td>\n",
       "      <td>52</td>\n",
       "      <td>NaT</td>\n",
       "      <td>Краснодар</td>\n",
       "      <td>Рафаил</td>\n",
       "      <td>Верещагин</td>\n",
       "      <td>2018-05-25</td>\n",
       "      <td>ultra</td>\n",
       "      <td>2018-09-01</td>\n",
       "      <td>2018-05-01</td>\n",
       "      <td>58.0</td>\n",
       "      <td>466.0</td>\n",
       "    </tr>\n",
       "    <tr>\n",
       "      <th>...</th>\n",
       "      <td>...</td>\n",
       "      <td>...</td>\n",
       "      <td>...</td>\n",
       "      <td>...</td>\n",
       "      <td>...</td>\n",
       "      <td>...</td>\n",
       "      <td>...</td>\n",
       "      <td>...</td>\n",
       "      <td>...</td>\n",
       "      <td>...</td>\n",
       "      <td>...</td>\n",
       "      <td>...</td>\n",
       "    </tr>\n",
       "    <tr>\n",
       "      <th>3254</th>\n",
       "      <td>1498</td>\n",
       "      <td>68</td>\n",
       "      <td>2018-10-25</td>\n",
       "      <td>Владикавказ</td>\n",
       "      <td>Всеволод</td>\n",
       "      <td>Акимчин</td>\n",
       "      <td>2018-07-19</td>\n",
       "      <td>smart</td>\n",
       "      <td>2018-12-01</td>\n",
       "      <td>2018-07-01</td>\n",
       "      <td>NaN</td>\n",
       "      <td>NaN</td>\n",
       "    </tr>\n",
       "    <tr>\n",
       "      <th>3255</th>\n",
       "      <td>1499</td>\n",
       "      <td>35</td>\n",
       "      <td>NaT</td>\n",
       "      <td>Пермь</td>\n",
       "      <td>Гектор</td>\n",
       "      <td>Корнилов</td>\n",
       "      <td>2018-09-27</td>\n",
       "      <td>smart</td>\n",
       "      <td>2018-09-01</td>\n",
       "      <td>2018-09-01</td>\n",
       "      <td>9.0</td>\n",
       "      <td>70.0</td>\n",
       "    </tr>\n",
       "    <tr>\n",
       "      <th>3256</th>\n",
       "      <td>1499</td>\n",
       "      <td>35</td>\n",
       "      <td>NaT</td>\n",
       "      <td>Пермь</td>\n",
       "      <td>Гектор</td>\n",
       "      <td>Корнилов</td>\n",
       "      <td>2018-09-27</td>\n",
       "      <td>smart</td>\n",
       "      <td>2018-10-01</td>\n",
       "      <td>2018-09-01</td>\n",
       "      <td>68.0</td>\n",
       "      <td>449.0</td>\n",
       "    </tr>\n",
       "    <tr>\n",
       "      <th>3257</th>\n",
       "      <td>1499</td>\n",
       "      <td>35</td>\n",
       "      <td>NaT</td>\n",
       "      <td>Пермь</td>\n",
       "      <td>Гектор</td>\n",
       "      <td>Корнилов</td>\n",
       "      <td>2018-09-27</td>\n",
       "      <td>smart</td>\n",
       "      <td>2018-11-01</td>\n",
       "      <td>2018-09-01</td>\n",
       "      <td>74.0</td>\n",
       "      <td>612.0</td>\n",
       "    </tr>\n",
       "    <tr>\n",
       "      <th>3258</th>\n",
       "      <td>1499</td>\n",
       "      <td>35</td>\n",
       "      <td>NaT</td>\n",
       "      <td>Пермь</td>\n",
       "      <td>Гектор</td>\n",
       "      <td>Корнилов</td>\n",
       "      <td>2018-09-27</td>\n",
       "      <td>smart</td>\n",
       "      <td>2018-12-01</td>\n",
       "      <td>2018-09-01</td>\n",
       "      <td>69.0</td>\n",
       "      <td>492.0</td>\n",
       "    </tr>\n",
       "  </tbody>\n",
       "</table>\n",
       "<p>3259 rows × 12 columns</p>\n",
       "</div>"
      ],
      "text/plain": [
       "      user_id  age churn_date         city first_name  last_name   reg_date  \\\n",
       "0        1000   52        NaT    Краснодар     Рафаил  Верещагин 2018-05-25   \n",
       "1        1000   52        NaT    Краснодар     Рафаил  Верещагин 2018-05-25   \n",
       "2        1000   52        NaT    Краснодар     Рафаил  Верещагин 2018-05-25   \n",
       "3        1000   52        NaT    Краснодар     Рафаил  Верещагин 2018-05-25   \n",
       "4        1000   52        NaT    Краснодар     Рафаил  Верещагин 2018-05-25   \n",
       "...       ...  ...        ...          ...        ...        ...        ...   \n",
       "3254     1498   68 2018-10-25  Владикавказ   Всеволод    Акимчин 2018-07-19   \n",
       "3255     1499   35        NaT        Пермь     Гектор   Корнилов 2018-09-27   \n",
       "3256     1499   35        NaT        Пермь     Гектор   Корнилов 2018-09-27   \n",
       "3257     1499   35        NaT        Пермь     Гектор   Корнилов 2018-09-27   \n",
       "3258     1499   35        NaT        Пермь     Гектор   Корнилов 2018-09-27   \n",
       "\n",
       "     tariff      month  reg_month  calls_count  minutes_sum  \n",
       "0     ultra 2018-05-01 2018-05-01         22.0        159.0  \n",
       "1     ultra 2018-06-01 2018-05-01         43.0        172.0  \n",
       "2     ultra 2018-07-01 2018-05-01         47.0        340.0  \n",
       "3     ultra 2018-08-01 2018-05-01         52.0        408.0  \n",
       "4     ultra 2018-09-01 2018-05-01         58.0        466.0  \n",
       "...     ...        ...        ...          ...          ...  \n",
       "3254  smart 2018-12-01 2018-07-01          NaN          NaN  \n",
       "3255  smart 2018-09-01 2018-09-01          9.0         70.0  \n",
       "3256  smart 2018-10-01 2018-09-01         68.0        449.0  \n",
       "3257  smart 2018-11-01 2018-09-01         74.0        612.0  \n",
       "3258  smart 2018-12-01 2018-09-01         69.0        492.0  \n",
       "\n",
       "[3259 rows x 12 columns]"
      ]
     },
     "execution_count": 42,
     "metadata": {},
     "output_type": "execute_result"
    }
   ],
   "source": [
    "template"
   ]
  },
  {
   "cell_type": "markdown",
   "metadata": {
    "id": "t4bI1ONWI1A-"
   },
   "source": [
    "Рассчитаем также количество отправленных сообщений по месяцам для каждого пользователя"
   ]
  },
  {
   "cell_type": "code",
   "execution_count": 43,
   "metadata": {
    "id": "VWK5fM7IIwkO"
   },
   "outputs": [],
   "source": [
    "messages_agg = messages.groupby(['user_id', 'month'])['id'].count().reset_index()"
   ]
  },
  {
   "cell_type": "code",
   "execution_count": 44,
   "metadata": {
    "id": "36Q_KI_hJqie"
   },
   "outputs": [],
   "source": [
    "messages_agg.columns = ['user_id', 'month', 'messages_count']"
   ]
  },
  {
   "cell_type": "code",
   "execution_count": 45,
   "metadata": {
    "colab": {
     "base_uri": "https://localhost:8080/",
     "height": 419
    },
    "id": "Om_QMyDYKIz_",
    "outputId": "3f84fc42-b278-4955-9859-42405a26b1ba"
   },
   "outputs": [
    {
     "data": {
      "text/html": [
       "<div>\n",
       "<style scoped>\n",
       "    .dataframe tbody tr th:only-of-type {\n",
       "        vertical-align: middle;\n",
       "    }\n",
       "\n",
       "    .dataframe tbody tr th {\n",
       "        vertical-align: top;\n",
       "    }\n",
       "\n",
       "    .dataframe thead th {\n",
       "        text-align: right;\n",
       "    }\n",
       "</style>\n",
       "<table border=\"1\" class=\"dataframe\">\n",
       "  <thead>\n",
       "    <tr style=\"text-align: right;\">\n",
       "      <th></th>\n",
       "      <th>user_id</th>\n",
       "      <th>month</th>\n",
       "      <th>messages_count</th>\n",
       "    </tr>\n",
       "  </thead>\n",
       "  <tbody>\n",
       "    <tr>\n",
       "      <th>0</th>\n",
       "      <td>1000</td>\n",
       "      <td>2018-05-01</td>\n",
       "      <td>22</td>\n",
       "    </tr>\n",
       "    <tr>\n",
       "      <th>1</th>\n",
       "      <td>1000</td>\n",
       "      <td>2018-06-01</td>\n",
       "      <td>60</td>\n",
       "    </tr>\n",
       "    <tr>\n",
       "      <th>2</th>\n",
       "      <td>1000</td>\n",
       "      <td>2018-07-01</td>\n",
       "      <td>75</td>\n",
       "    </tr>\n",
       "    <tr>\n",
       "      <th>3</th>\n",
       "      <td>1000</td>\n",
       "      <td>2018-08-01</td>\n",
       "      <td>81</td>\n",
       "    </tr>\n",
       "    <tr>\n",
       "      <th>4</th>\n",
       "      <td>1000</td>\n",
       "      <td>2018-09-01</td>\n",
       "      <td>57</td>\n",
       "    </tr>\n",
       "    <tr>\n",
       "      <th>...</th>\n",
       "      <td>...</td>\n",
       "      <td>...</td>\n",
       "      <td>...</td>\n",
       "    </tr>\n",
       "    <tr>\n",
       "      <th>2712</th>\n",
       "      <td>1498</td>\n",
       "      <td>2018-10-01</td>\n",
       "      <td>42</td>\n",
       "    </tr>\n",
       "    <tr>\n",
       "      <th>2713</th>\n",
       "      <td>1499</td>\n",
       "      <td>2018-09-01</td>\n",
       "      <td>11</td>\n",
       "    </tr>\n",
       "    <tr>\n",
       "      <th>2714</th>\n",
       "      <td>1499</td>\n",
       "      <td>2018-10-01</td>\n",
       "      <td>48</td>\n",
       "    </tr>\n",
       "    <tr>\n",
       "      <th>2715</th>\n",
       "      <td>1499</td>\n",
       "      <td>2018-11-01</td>\n",
       "      <td>59</td>\n",
       "    </tr>\n",
       "    <tr>\n",
       "      <th>2716</th>\n",
       "      <td>1499</td>\n",
       "      <td>2018-12-01</td>\n",
       "      <td>66</td>\n",
       "    </tr>\n",
       "  </tbody>\n",
       "</table>\n",
       "<p>2717 rows × 3 columns</p>\n",
       "</div>"
      ],
      "text/plain": [
       "      user_id      month  messages_count\n",
       "0        1000 2018-05-01              22\n",
       "1        1000 2018-06-01              60\n",
       "2        1000 2018-07-01              75\n",
       "3        1000 2018-08-01              81\n",
       "4        1000 2018-09-01              57\n",
       "...       ...        ...             ...\n",
       "2712     1498 2018-10-01              42\n",
       "2713     1499 2018-09-01              11\n",
       "2714     1499 2018-10-01              48\n",
       "2715     1499 2018-11-01              59\n",
       "2716     1499 2018-12-01              66\n",
       "\n",
       "[2717 rows x 3 columns]"
      ]
     },
     "execution_count": 45,
     "metadata": {},
     "output_type": "execute_result"
    }
   ],
   "source": [
    "messages_agg"
   ]
  },
  {
   "cell_type": "code",
   "execution_count": 46,
   "metadata": {
    "id": "OezVxDsKKMJ7"
   },
   "outputs": [],
   "source": [
    "template = template.merge(messages_agg, how='left')"
   ]
  },
  {
   "cell_type": "code",
   "execution_count": 47,
   "metadata": {
    "colab": {
     "base_uri": "https://localhost:8080/",
     "height": 419
    },
    "id": "TTXgrzDzKT_O",
    "outputId": "72f37802-6376-413a-ea95-c88d9b9fda76"
   },
   "outputs": [
    {
     "data": {
      "text/html": [
       "<div>\n",
       "<style scoped>\n",
       "    .dataframe tbody tr th:only-of-type {\n",
       "        vertical-align: middle;\n",
       "    }\n",
       "\n",
       "    .dataframe tbody tr th {\n",
       "        vertical-align: top;\n",
       "    }\n",
       "\n",
       "    .dataframe thead th {\n",
       "        text-align: right;\n",
       "    }\n",
       "</style>\n",
       "<table border=\"1\" class=\"dataframe\">\n",
       "  <thead>\n",
       "    <tr style=\"text-align: right;\">\n",
       "      <th></th>\n",
       "      <th>user_id</th>\n",
       "      <th>age</th>\n",
       "      <th>churn_date</th>\n",
       "      <th>city</th>\n",
       "      <th>first_name</th>\n",
       "      <th>last_name</th>\n",
       "      <th>reg_date</th>\n",
       "      <th>tariff</th>\n",
       "      <th>month</th>\n",
       "      <th>reg_month</th>\n",
       "      <th>calls_count</th>\n",
       "      <th>minutes_sum</th>\n",
       "      <th>messages_count</th>\n",
       "    </tr>\n",
       "  </thead>\n",
       "  <tbody>\n",
       "    <tr>\n",
       "      <th>0</th>\n",
       "      <td>1000</td>\n",
       "      <td>52</td>\n",
       "      <td>NaT</td>\n",
       "      <td>Краснодар</td>\n",
       "      <td>Рафаил</td>\n",
       "      <td>Верещагин</td>\n",
       "      <td>2018-05-25</td>\n",
       "      <td>ultra</td>\n",
       "      <td>2018-05-01</td>\n",
       "      <td>2018-05-01</td>\n",
       "      <td>22.0</td>\n",
       "      <td>159.0</td>\n",
       "      <td>22.0</td>\n",
       "    </tr>\n",
       "    <tr>\n",
       "      <th>1</th>\n",
       "      <td>1000</td>\n",
       "      <td>52</td>\n",
       "      <td>NaT</td>\n",
       "      <td>Краснодар</td>\n",
       "      <td>Рафаил</td>\n",
       "      <td>Верещагин</td>\n",
       "      <td>2018-05-25</td>\n",
       "      <td>ultra</td>\n",
       "      <td>2018-06-01</td>\n",
       "      <td>2018-05-01</td>\n",
       "      <td>43.0</td>\n",
       "      <td>172.0</td>\n",
       "      <td>60.0</td>\n",
       "    </tr>\n",
       "    <tr>\n",
       "      <th>2</th>\n",
       "      <td>1000</td>\n",
       "      <td>52</td>\n",
       "      <td>NaT</td>\n",
       "      <td>Краснодар</td>\n",
       "      <td>Рафаил</td>\n",
       "      <td>Верещагин</td>\n",
       "      <td>2018-05-25</td>\n",
       "      <td>ultra</td>\n",
       "      <td>2018-07-01</td>\n",
       "      <td>2018-05-01</td>\n",
       "      <td>47.0</td>\n",
       "      <td>340.0</td>\n",
       "      <td>75.0</td>\n",
       "    </tr>\n",
       "    <tr>\n",
       "      <th>3</th>\n",
       "      <td>1000</td>\n",
       "      <td>52</td>\n",
       "      <td>NaT</td>\n",
       "      <td>Краснодар</td>\n",
       "      <td>Рафаил</td>\n",
       "      <td>Верещагин</td>\n",
       "      <td>2018-05-25</td>\n",
       "      <td>ultra</td>\n",
       "      <td>2018-08-01</td>\n",
       "      <td>2018-05-01</td>\n",
       "      <td>52.0</td>\n",
       "      <td>408.0</td>\n",
       "      <td>81.0</td>\n",
       "    </tr>\n",
       "    <tr>\n",
       "      <th>4</th>\n",
       "      <td>1000</td>\n",
       "      <td>52</td>\n",
       "      <td>NaT</td>\n",
       "      <td>Краснодар</td>\n",
       "      <td>Рафаил</td>\n",
       "      <td>Верещагин</td>\n",
       "      <td>2018-05-25</td>\n",
       "      <td>ultra</td>\n",
       "      <td>2018-09-01</td>\n",
       "      <td>2018-05-01</td>\n",
       "      <td>58.0</td>\n",
       "      <td>466.0</td>\n",
       "      <td>57.0</td>\n",
       "    </tr>\n",
       "    <tr>\n",
       "      <th>...</th>\n",
       "      <td>...</td>\n",
       "      <td>...</td>\n",
       "      <td>...</td>\n",
       "      <td>...</td>\n",
       "      <td>...</td>\n",
       "      <td>...</td>\n",
       "      <td>...</td>\n",
       "      <td>...</td>\n",
       "      <td>...</td>\n",
       "      <td>...</td>\n",
       "      <td>...</td>\n",
       "      <td>...</td>\n",
       "      <td>...</td>\n",
       "    </tr>\n",
       "    <tr>\n",
       "      <th>3254</th>\n",
       "      <td>1498</td>\n",
       "      <td>68</td>\n",
       "      <td>2018-10-25</td>\n",
       "      <td>Владикавказ</td>\n",
       "      <td>Всеволод</td>\n",
       "      <td>Акимчин</td>\n",
       "      <td>2018-07-19</td>\n",
       "      <td>smart</td>\n",
       "      <td>2018-12-01</td>\n",
       "      <td>2018-07-01</td>\n",
       "      <td>NaN</td>\n",
       "      <td>NaN</td>\n",
       "      <td>NaN</td>\n",
       "    </tr>\n",
       "    <tr>\n",
       "      <th>3255</th>\n",
       "      <td>1499</td>\n",
       "      <td>35</td>\n",
       "      <td>NaT</td>\n",
       "      <td>Пермь</td>\n",
       "      <td>Гектор</td>\n",
       "      <td>Корнилов</td>\n",
       "      <td>2018-09-27</td>\n",
       "      <td>smart</td>\n",
       "      <td>2018-09-01</td>\n",
       "      <td>2018-09-01</td>\n",
       "      <td>9.0</td>\n",
       "      <td>70.0</td>\n",
       "      <td>11.0</td>\n",
       "    </tr>\n",
       "    <tr>\n",
       "      <th>3256</th>\n",
       "      <td>1499</td>\n",
       "      <td>35</td>\n",
       "      <td>NaT</td>\n",
       "      <td>Пермь</td>\n",
       "      <td>Гектор</td>\n",
       "      <td>Корнилов</td>\n",
       "      <td>2018-09-27</td>\n",
       "      <td>smart</td>\n",
       "      <td>2018-10-01</td>\n",
       "      <td>2018-09-01</td>\n",
       "      <td>68.0</td>\n",
       "      <td>449.0</td>\n",
       "      <td>48.0</td>\n",
       "    </tr>\n",
       "    <tr>\n",
       "      <th>3257</th>\n",
       "      <td>1499</td>\n",
       "      <td>35</td>\n",
       "      <td>NaT</td>\n",
       "      <td>Пермь</td>\n",
       "      <td>Гектор</td>\n",
       "      <td>Корнилов</td>\n",
       "      <td>2018-09-27</td>\n",
       "      <td>smart</td>\n",
       "      <td>2018-11-01</td>\n",
       "      <td>2018-09-01</td>\n",
       "      <td>74.0</td>\n",
       "      <td>612.0</td>\n",
       "      <td>59.0</td>\n",
       "    </tr>\n",
       "    <tr>\n",
       "      <th>3258</th>\n",
       "      <td>1499</td>\n",
       "      <td>35</td>\n",
       "      <td>NaT</td>\n",
       "      <td>Пермь</td>\n",
       "      <td>Гектор</td>\n",
       "      <td>Корнилов</td>\n",
       "      <td>2018-09-27</td>\n",
       "      <td>smart</td>\n",
       "      <td>2018-12-01</td>\n",
       "      <td>2018-09-01</td>\n",
       "      <td>69.0</td>\n",
       "      <td>492.0</td>\n",
       "      <td>66.0</td>\n",
       "    </tr>\n",
       "  </tbody>\n",
       "</table>\n",
       "<p>3259 rows × 13 columns</p>\n",
       "</div>"
      ],
      "text/plain": [
       "      user_id  age churn_date         city first_name  last_name   reg_date  \\\n",
       "0        1000   52        NaT    Краснодар     Рафаил  Верещагин 2018-05-25   \n",
       "1        1000   52        NaT    Краснодар     Рафаил  Верещагин 2018-05-25   \n",
       "2        1000   52        NaT    Краснодар     Рафаил  Верещагин 2018-05-25   \n",
       "3        1000   52        NaT    Краснодар     Рафаил  Верещагин 2018-05-25   \n",
       "4        1000   52        NaT    Краснодар     Рафаил  Верещагин 2018-05-25   \n",
       "...       ...  ...        ...          ...        ...        ...        ...   \n",
       "3254     1498   68 2018-10-25  Владикавказ   Всеволод    Акимчин 2018-07-19   \n",
       "3255     1499   35        NaT        Пермь     Гектор   Корнилов 2018-09-27   \n",
       "3256     1499   35        NaT        Пермь     Гектор   Корнилов 2018-09-27   \n",
       "3257     1499   35        NaT        Пермь     Гектор   Корнилов 2018-09-27   \n",
       "3258     1499   35        NaT        Пермь     Гектор   Корнилов 2018-09-27   \n",
       "\n",
       "     tariff      month  reg_month  calls_count  minutes_sum  messages_count  \n",
       "0     ultra 2018-05-01 2018-05-01         22.0        159.0            22.0  \n",
       "1     ultra 2018-06-01 2018-05-01         43.0        172.0            60.0  \n",
       "2     ultra 2018-07-01 2018-05-01         47.0        340.0            75.0  \n",
       "3     ultra 2018-08-01 2018-05-01         52.0        408.0            81.0  \n",
       "4     ultra 2018-09-01 2018-05-01         58.0        466.0            57.0  \n",
       "...     ...        ...        ...          ...          ...             ...  \n",
       "3254  smart 2018-12-01 2018-07-01          NaN          NaN             NaN  \n",
       "3255  smart 2018-09-01 2018-09-01          9.0         70.0            11.0  \n",
       "3256  smart 2018-10-01 2018-09-01         68.0        449.0            48.0  \n",
       "3257  smart 2018-11-01 2018-09-01         74.0        612.0            59.0  \n",
       "3258  smart 2018-12-01 2018-09-01         69.0        492.0            66.0  \n",
       "\n",
       "[3259 rows x 13 columns]"
      ]
     },
     "execution_count": 47,
     "metadata": {},
     "output_type": "execute_result"
    }
   ],
   "source": [
    "template"
   ]
  },
  {
   "cell_type": "markdown",
   "metadata": {
    "id": "tRaU__NdKaEl"
   },
   "source": [
    "Также узнаем объем интернет-трафика"
   ]
  },
  {
   "cell_type": "code",
   "execution_count": 48,
   "metadata": {
    "id": "TrWgIAWjKk8-"
   },
   "outputs": [],
   "source": [
    "internet_agg = internet.groupby(\n",
    "    ['user_id', 'month'])['mb_used'].sum().reset_index()"
   ]
  },
  {
   "cell_type": "code",
   "execution_count": 49,
   "metadata": {
    "id": "_2BrI2EYLBzO"
   },
   "outputs": [],
   "source": [
    "internet_agg.columns = ['user_id', 'month', 'mb_used_sum']"
   ]
  },
  {
   "cell_type": "code",
   "execution_count": 50,
   "metadata": {
    "colab": {
     "base_uri": "https://localhost:8080/",
     "height": 419
    },
    "id": "V_8P42NALJAM",
    "outputId": "83c22eb6-0499-4956-f737-1744ee928054"
   },
   "outputs": [
    {
     "data": {
      "text/html": [
       "<div>\n",
       "<style scoped>\n",
       "    .dataframe tbody tr th:only-of-type {\n",
       "        vertical-align: middle;\n",
       "    }\n",
       "\n",
       "    .dataframe tbody tr th {\n",
       "        vertical-align: top;\n",
       "    }\n",
       "\n",
       "    .dataframe thead th {\n",
       "        text-align: right;\n",
       "    }\n",
       "</style>\n",
       "<table border=\"1\" class=\"dataframe\">\n",
       "  <thead>\n",
       "    <tr style=\"text-align: right;\">\n",
       "      <th></th>\n",
       "      <th>user_id</th>\n",
       "      <th>month</th>\n",
       "      <th>mb_used_sum</th>\n",
       "    </tr>\n",
       "  </thead>\n",
       "  <tbody>\n",
       "    <tr>\n",
       "      <th>0</th>\n",
       "      <td>1000</td>\n",
       "      <td>2018-05-01</td>\n",
       "      <td>2253.49</td>\n",
       "    </tr>\n",
       "    <tr>\n",
       "      <th>1</th>\n",
       "      <td>1000</td>\n",
       "      <td>2018-06-01</td>\n",
       "      <td>23233.77</td>\n",
       "    </tr>\n",
       "    <tr>\n",
       "      <th>2</th>\n",
       "      <td>1000</td>\n",
       "      <td>2018-07-01</td>\n",
       "      <td>14003.64</td>\n",
       "    </tr>\n",
       "    <tr>\n",
       "      <th>3</th>\n",
       "      <td>1000</td>\n",
       "      <td>2018-08-01</td>\n",
       "      <td>14055.93</td>\n",
       "    </tr>\n",
       "    <tr>\n",
       "      <th>4</th>\n",
       "      <td>1000</td>\n",
       "      <td>2018-09-01</td>\n",
       "      <td>14568.91</td>\n",
       "    </tr>\n",
       "    <tr>\n",
       "      <th>...</th>\n",
       "      <td>...</td>\n",
       "      <td>...</td>\n",
       "      <td>...</td>\n",
       "    </tr>\n",
       "    <tr>\n",
       "      <th>3198</th>\n",
       "      <td>1498</td>\n",
       "      <td>2018-10-01</td>\n",
       "      <td>20579.36</td>\n",
       "    </tr>\n",
       "    <tr>\n",
       "      <th>3199</th>\n",
       "      <td>1499</td>\n",
       "      <td>2018-09-01</td>\n",
       "      <td>1845.75</td>\n",
       "    </tr>\n",
       "    <tr>\n",
       "      <th>3200</th>\n",
       "      <td>1499</td>\n",
       "      <td>2018-10-01</td>\n",
       "      <td>17788.51</td>\n",
       "    </tr>\n",
       "    <tr>\n",
       "      <th>3201</th>\n",
       "      <td>1499</td>\n",
       "      <td>2018-11-01</td>\n",
       "      <td>17963.31</td>\n",
       "    </tr>\n",
       "    <tr>\n",
       "      <th>3202</th>\n",
       "      <td>1499</td>\n",
       "      <td>2018-12-01</td>\n",
       "      <td>13055.58</td>\n",
       "    </tr>\n",
       "  </tbody>\n",
       "</table>\n",
       "<p>3203 rows × 3 columns</p>\n",
       "</div>"
      ],
      "text/plain": [
       "      user_id      month  mb_used_sum\n",
       "0        1000 2018-05-01      2253.49\n",
       "1        1000 2018-06-01     23233.77\n",
       "2        1000 2018-07-01     14003.64\n",
       "3        1000 2018-08-01     14055.93\n",
       "4        1000 2018-09-01     14568.91\n",
       "...       ...        ...          ...\n",
       "3198     1498 2018-10-01     20579.36\n",
       "3199     1499 2018-09-01      1845.75\n",
       "3200     1499 2018-10-01     17788.51\n",
       "3201     1499 2018-11-01     17963.31\n",
       "3202     1499 2018-12-01     13055.58\n",
       "\n",
       "[3203 rows x 3 columns]"
      ]
     },
     "execution_count": 50,
     "metadata": {},
     "output_type": "execute_result"
    }
   ],
   "source": [
    "internet_agg"
   ]
  },
  {
   "cell_type": "code",
   "execution_count": 51,
   "metadata": {
    "id": "C8YubShbjhfX"
   },
   "outputs": [],
   "source": [
    "internet_agg['gb_used_sum'] = (internet_agg['mb_used_sum'] / 1024).apply(np.ceil)"
   ]
  },
  {
   "cell_type": "code",
   "execution_count": 52,
   "metadata": {
    "id": "nbCKmDWMLLI9"
   },
   "outputs": [],
   "source": [
    "template = template.merge(internet_agg, how='left')"
   ]
  },
  {
   "cell_type": "code",
   "execution_count": 53,
   "metadata": {
    "colab": {
     "base_uri": "https://localhost:8080/",
     "height": 589
    },
    "id": "F1CtIvmkLSSt",
    "outputId": "3803d581-bc40-4b54-e8d4-290b3da88b66"
   },
   "outputs": [
    {
     "data": {
      "text/html": [
       "<div>\n",
       "<style scoped>\n",
       "    .dataframe tbody tr th:only-of-type {\n",
       "        vertical-align: middle;\n",
       "    }\n",
       "\n",
       "    .dataframe tbody tr th {\n",
       "        vertical-align: top;\n",
       "    }\n",
       "\n",
       "    .dataframe thead th {\n",
       "        text-align: right;\n",
       "    }\n",
       "</style>\n",
       "<table border=\"1\" class=\"dataframe\">\n",
       "  <thead>\n",
       "    <tr style=\"text-align: right;\">\n",
       "      <th></th>\n",
       "      <th>user_id</th>\n",
       "      <th>age</th>\n",
       "      <th>churn_date</th>\n",
       "      <th>city</th>\n",
       "      <th>first_name</th>\n",
       "      <th>last_name</th>\n",
       "      <th>reg_date</th>\n",
       "      <th>tariff</th>\n",
       "      <th>month</th>\n",
       "      <th>reg_month</th>\n",
       "      <th>calls_count</th>\n",
       "      <th>minutes_sum</th>\n",
       "      <th>messages_count</th>\n",
       "      <th>mb_used_sum</th>\n",
       "      <th>gb_used_sum</th>\n",
       "    </tr>\n",
       "  </thead>\n",
       "  <tbody>\n",
       "    <tr>\n",
       "      <th>0</th>\n",
       "      <td>1000</td>\n",
       "      <td>52</td>\n",
       "      <td>NaT</td>\n",
       "      <td>Краснодар</td>\n",
       "      <td>Рафаил</td>\n",
       "      <td>Верещагин</td>\n",
       "      <td>2018-05-25</td>\n",
       "      <td>ultra</td>\n",
       "      <td>2018-05-01</td>\n",
       "      <td>2018-05-01</td>\n",
       "      <td>22.0</td>\n",
       "      <td>159.0</td>\n",
       "      <td>22.0</td>\n",
       "      <td>2253.49</td>\n",
       "      <td>3.0</td>\n",
       "    </tr>\n",
       "    <tr>\n",
       "      <th>1</th>\n",
       "      <td>1000</td>\n",
       "      <td>52</td>\n",
       "      <td>NaT</td>\n",
       "      <td>Краснодар</td>\n",
       "      <td>Рафаил</td>\n",
       "      <td>Верещагин</td>\n",
       "      <td>2018-05-25</td>\n",
       "      <td>ultra</td>\n",
       "      <td>2018-06-01</td>\n",
       "      <td>2018-05-01</td>\n",
       "      <td>43.0</td>\n",
       "      <td>172.0</td>\n",
       "      <td>60.0</td>\n",
       "      <td>23233.77</td>\n",
       "      <td>23.0</td>\n",
       "    </tr>\n",
       "    <tr>\n",
       "      <th>2</th>\n",
       "      <td>1000</td>\n",
       "      <td>52</td>\n",
       "      <td>NaT</td>\n",
       "      <td>Краснодар</td>\n",
       "      <td>Рафаил</td>\n",
       "      <td>Верещагин</td>\n",
       "      <td>2018-05-25</td>\n",
       "      <td>ultra</td>\n",
       "      <td>2018-07-01</td>\n",
       "      <td>2018-05-01</td>\n",
       "      <td>47.0</td>\n",
       "      <td>340.0</td>\n",
       "      <td>75.0</td>\n",
       "      <td>14003.64</td>\n",
       "      <td>14.0</td>\n",
       "    </tr>\n",
       "    <tr>\n",
       "      <th>3</th>\n",
       "      <td>1000</td>\n",
       "      <td>52</td>\n",
       "      <td>NaT</td>\n",
       "      <td>Краснодар</td>\n",
       "      <td>Рафаил</td>\n",
       "      <td>Верещагин</td>\n",
       "      <td>2018-05-25</td>\n",
       "      <td>ultra</td>\n",
       "      <td>2018-08-01</td>\n",
       "      <td>2018-05-01</td>\n",
       "      <td>52.0</td>\n",
       "      <td>408.0</td>\n",
       "      <td>81.0</td>\n",
       "      <td>14055.93</td>\n",
       "      <td>14.0</td>\n",
       "    </tr>\n",
       "    <tr>\n",
       "      <th>4</th>\n",
       "      <td>1000</td>\n",
       "      <td>52</td>\n",
       "      <td>NaT</td>\n",
       "      <td>Краснодар</td>\n",
       "      <td>Рафаил</td>\n",
       "      <td>Верещагин</td>\n",
       "      <td>2018-05-25</td>\n",
       "      <td>ultra</td>\n",
       "      <td>2018-09-01</td>\n",
       "      <td>2018-05-01</td>\n",
       "      <td>58.0</td>\n",
       "      <td>466.0</td>\n",
       "      <td>57.0</td>\n",
       "      <td>14568.91</td>\n",
       "      <td>15.0</td>\n",
       "    </tr>\n",
       "    <tr>\n",
       "      <th>...</th>\n",
       "      <td>...</td>\n",
       "      <td>...</td>\n",
       "      <td>...</td>\n",
       "      <td>...</td>\n",
       "      <td>...</td>\n",
       "      <td>...</td>\n",
       "      <td>...</td>\n",
       "      <td>...</td>\n",
       "      <td>...</td>\n",
       "      <td>...</td>\n",
       "      <td>...</td>\n",
       "      <td>...</td>\n",
       "      <td>...</td>\n",
       "      <td>...</td>\n",
       "      <td>...</td>\n",
       "    </tr>\n",
       "    <tr>\n",
       "      <th>3254</th>\n",
       "      <td>1498</td>\n",
       "      <td>68</td>\n",
       "      <td>2018-10-25</td>\n",
       "      <td>Владикавказ</td>\n",
       "      <td>Всеволод</td>\n",
       "      <td>Акимчин</td>\n",
       "      <td>2018-07-19</td>\n",
       "      <td>smart</td>\n",
       "      <td>2018-12-01</td>\n",
       "      <td>2018-07-01</td>\n",
       "      <td>NaN</td>\n",
       "      <td>NaN</td>\n",
       "      <td>NaN</td>\n",
       "      <td>NaN</td>\n",
       "      <td>NaN</td>\n",
       "    </tr>\n",
       "    <tr>\n",
       "      <th>3255</th>\n",
       "      <td>1499</td>\n",
       "      <td>35</td>\n",
       "      <td>NaT</td>\n",
       "      <td>Пермь</td>\n",
       "      <td>Гектор</td>\n",
       "      <td>Корнилов</td>\n",
       "      <td>2018-09-27</td>\n",
       "      <td>smart</td>\n",
       "      <td>2018-09-01</td>\n",
       "      <td>2018-09-01</td>\n",
       "      <td>9.0</td>\n",
       "      <td>70.0</td>\n",
       "      <td>11.0</td>\n",
       "      <td>1845.75</td>\n",
       "      <td>2.0</td>\n",
       "    </tr>\n",
       "    <tr>\n",
       "      <th>3256</th>\n",
       "      <td>1499</td>\n",
       "      <td>35</td>\n",
       "      <td>NaT</td>\n",
       "      <td>Пермь</td>\n",
       "      <td>Гектор</td>\n",
       "      <td>Корнилов</td>\n",
       "      <td>2018-09-27</td>\n",
       "      <td>smart</td>\n",
       "      <td>2018-10-01</td>\n",
       "      <td>2018-09-01</td>\n",
       "      <td>68.0</td>\n",
       "      <td>449.0</td>\n",
       "      <td>48.0</td>\n",
       "      <td>17788.51</td>\n",
       "      <td>18.0</td>\n",
       "    </tr>\n",
       "    <tr>\n",
       "      <th>3257</th>\n",
       "      <td>1499</td>\n",
       "      <td>35</td>\n",
       "      <td>NaT</td>\n",
       "      <td>Пермь</td>\n",
       "      <td>Гектор</td>\n",
       "      <td>Корнилов</td>\n",
       "      <td>2018-09-27</td>\n",
       "      <td>smart</td>\n",
       "      <td>2018-11-01</td>\n",
       "      <td>2018-09-01</td>\n",
       "      <td>74.0</td>\n",
       "      <td>612.0</td>\n",
       "      <td>59.0</td>\n",
       "      <td>17963.31</td>\n",
       "      <td>18.0</td>\n",
       "    </tr>\n",
       "    <tr>\n",
       "      <th>3258</th>\n",
       "      <td>1499</td>\n",
       "      <td>35</td>\n",
       "      <td>NaT</td>\n",
       "      <td>Пермь</td>\n",
       "      <td>Гектор</td>\n",
       "      <td>Корнилов</td>\n",
       "      <td>2018-09-27</td>\n",
       "      <td>smart</td>\n",
       "      <td>2018-12-01</td>\n",
       "      <td>2018-09-01</td>\n",
       "      <td>69.0</td>\n",
       "      <td>492.0</td>\n",
       "      <td>66.0</td>\n",
       "      <td>13055.58</td>\n",
       "      <td>13.0</td>\n",
       "    </tr>\n",
       "  </tbody>\n",
       "</table>\n",
       "<p>3259 rows × 15 columns</p>\n",
       "</div>"
      ],
      "text/plain": [
       "      user_id  age churn_date         city first_name  last_name   reg_date  \\\n",
       "0        1000   52        NaT    Краснодар     Рафаил  Верещагин 2018-05-25   \n",
       "1        1000   52        NaT    Краснодар     Рафаил  Верещагин 2018-05-25   \n",
       "2        1000   52        NaT    Краснодар     Рафаил  Верещагин 2018-05-25   \n",
       "3        1000   52        NaT    Краснодар     Рафаил  Верещагин 2018-05-25   \n",
       "4        1000   52        NaT    Краснодар     Рафаил  Верещагин 2018-05-25   \n",
       "...       ...  ...        ...          ...        ...        ...        ...   \n",
       "3254     1498   68 2018-10-25  Владикавказ   Всеволод    Акимчин 2018-07-19   \n",
       "3255     1499   35        NaT        Пермь     Гектор   Корнилов 2018-09-27   \n",
       "3256     1499   35        NaT        Пермь     Гектор   Корнилов 2018-09-27   \n",
       "3257     1499   35        NaT        Пермь     Гектор   Корнилов 2018-09-27   \n",
       "3258     1499   35        NaT        Пермь     Гектор   Корнилов 2018-09-27   \n",
       "\n",
       "     tariff      month  reg_month  calls_count  minutes_sum  messages_count  \\\n",
       "0     ultra 2018-05-01 2018-05-01         22.0        159.0            22.0   \n",
       "1     ultra 2018-06-01 2018-05-01         43.0        172.0            60.0   \n",
       "2     ultra 2018-07-01 2018-05-01         47.0        340.0            75.0   \n",
       "3     ultra 2018-08-01 2018-05-01         52.0        408.0            81.0   \n",
       "4     ultra 2018-09-01 2018-05-01         58.0        466.0            57.0   \n",
       "...     ...        ...        ...          ...          ...             ...   \n",
       "3254  smart 2018-12-01 2018-07-01          NaN          NaN             NaN   \n",
       "3255  smart 2018-09-01 2018-09-01          9.0         70.0            11.0   \n",
       "3256  smart 2018-10-01 2018-09-01         68.0        449.0            48.0   \n",
       "3257  smart 2018-11-01 2018-09-01         74.0        612.0            59.0   \n",
       "3258  smart 2018-12-01 2018-09-01         69.0        492.0            66.0   \n",
       "\n",
       "      mb_used_sum  gb_used_sum  \n",
       "0         2253.49          3.0  \n",
       "1        23233.77         23.0  \n",
       "2        14003.64         14.0  \n",
       "3        14055.93         14.0  \n",
       "4        14568.91         15.0  \n",
       "...           ...          ...  \n",
       "3254          NaN          NaN  \n",
       "3255      1845.75          2.0  \n",
       "3256     17788.51         18.0  \n",
       "3257     17963.31         18.0  \n",
       "3258     13055.58         13.0  \n",
       "\n",
       "[3259 rows x 15 columns]"
      ]
     },
     "execution_count": 53,
     "metadata": {},
     "output_type": "execute_result"
    }
   ],
   "source": [
    "template"
   ]
  },
  {
   "cell_type": "markdown",
   "metadata": {
    "id": "iax8fcxhLWjt"
   },
   "source": [
    "Теперь рассчитаем помесячную выручку для каждого пользователя. Для этого сначала также добавим в таблицу данные по тарифам"
   ]
  },
  {
   "cell_type": "code",
   "execution_count": 54,
   "metadata": {
    "id": "wrkX7PKKLyOs"
   },
   "outputs": [],
   "source": [
    "template.rename(columns={'tariff': 'tariff_name'}, inplace=True)"
   ]
  },
  {
   "cell_type": "code",
   "execution_count": 55,
   "metadata": {
    "id": "uUGHMH5TLoRu"
   },
   "outputs": [],
   "source": [
    "template = template.merge(tariffs, how='left')"
   ]
  },
  {
   "cell_type": "code",
   "execution_count": 56,
   "metadata": {
    "colab": {
     "base_uri": "https://localhost:8080/",
     "height": 111
    },
    "id": "u2aNOO4xjAkW",
    "outputId": "7a169b5b-3565-4616-812a-a6a9a1e21c6d"
   },
   "outputs": [
    {
     "data": {
      "text/html": [
       "<div>\n",
       "<style scoped>\n",
       "    .dataframe tbody tr th:only-of-type {\n",
       "        vertical-align: middle;\n",
       "    }\n",
       "\n",
       "    .dataframe tbody tr th {\n",
       "        vertical-align: top;\n",
       "    }\n",
       "\n",
       "    .dataframe thead th {\n",
       "        text-align: right;\n",
       "    }\n",
       "</style>\n",
       "<table border=\"1\" class=\"dataframe\">\n",
       "  <thead>\n",
       "    <tr style=\"text-align: right;\">\n",
       "      <th></th>\n",
       "      <th>messages_included</th>\n",
       "      <th>mb_per_month_included</th>\n",
       "      <th>minutes_included</th>\n",
       "      <th>rub_monthly_fee</th>\n",
       "      <th>rub_per_gb</th>\n",
       "      <th>rub_per_message</th>\n",
       "      <th>rub_per_minute</th>\n",
       "      <th>tariff_name</th>\n",
       "    </tr>\n",
       "  </thead>\n",
       "  <tbody>\n",
       "    <tr>\n",
       "      <th>0</th>\n",
       "      <td>50</td>\n",
       "      <td>15360</td>\n",
       "      <td>500</td>\n",
       "      <td>550</td>\n",
       "      <td>200</td>\n",
       "      <td>3</td>\n",
       "      <td>3</td>\n",
       "      <td>smart</td>\n",
       "    </tr>\n",
       "    <tr>\n",
       "      <th>1</th>\n",
       "      <td>1000</td>\n",
       "      <td>30720</td>\n",
       "      <td>3000</td>\n",
       "      <td>1950</td>\n",
       "      <td>150</td>\n",
       "      <td>1</td>\n",
       "      <td>1</td>\n",
       "      <td>ultra</td>\n",
       "    </tr>\n",
       "  </tbody>\n",
       "</table>\n",
       "</div>"
      ],
      "text/plain": [
       "   messages_included  mb_per_month_included  minutes_included  \\\n",
       "0                 50                  15360               500   \n",
       "1               1000                  30720              3000   \n",
       "\n",
       "   rub_monthly_fee  rub_per_gb  rub_per_message  rub_per_minute tariff_name  \n",
       "0              550         200                3               3       smart  \n",
       "1             1950         150                1               1       ultra  "
      ]
     },
     "execution_count": 56,
     "metadata": {},
     "output_type": "execute_result"
    }
   ],
   "source": [
    "tariffs"
   ]
  },
  {
   "cell_type": "code",
   "execution_count": 57,
   "metadata": {
    "id": "tV4s4EMkNDeg"
   },
   "outputs": [],
   "source": [
    "template['money_spent_minutes_over'] = (\n",
    "    (template['minutes_sum'] - template['minutes_included']\n",
    "     ) * template['rub_per_minute']\n",
    ").clip(lower=0)"
   ]
  },
  {
   "cell_type": "code",
   "execution_count": 58,
   "metadata": {
    "id": "7oIuqbALQVlQ"
   },
   "outputs": [],
   "source": [
    "template['money_spent_messages_over'] = (\n",
    "    (template['messages_count'] - template['messages_included']\n",
    "    ) * template['rub_per_message']\n",
    ").clip(lower=0)"
   ]
  },
  {
   "cell_type": "code",
   "execution_count": 59,
   "metadata": {
    "id": "6Cd3-x_ykndA"
   },
   "outputs": [],
   "source": [
    "template['money_spent_internet_over'] = (\n",
    "    (((template['mb_used_sum'] - template['mb_per_month_included']) / 1024\n",
    "     ).apply(np.ceil)\n",
    "    ) * template['rub_per_gb']\n",
    ").clip(lower=0)"
   ]
  },
  {
   "cell_type": "code",
   "execution_count": 60,
   "metadata": {
    "id": "LraqPHERheen"
   },
   "outputs": [],
   "source": [
    "template['money_spent_total'] = (\n",
    "    template['money_spent_minutes_over']\n",
    "    + template['money_spent_messages_over']\n",
    "    + template['money_spent_internet_over']\n",
    "    + template['rub_monthly_fee']\n",
    ")"
   ]
  },
  {
   "cell_type": "code",
   "execution_count": 61,
   "metadata": {
    "colab": {
     "base_uri": "https://localhost:8080/",
     "height": 609
    },
    "id": "mNYBcWIckzKw",
    "outputId": "441ecb73-2ee8-4a83-dd6a-d1cf36c8cfc9"
   },
   "outputs": [
    {
     "data": {
      "text/html": [
       "<div>\n",
       "<style scoped>\n",
       "    .dataframe tbody tr th:only-of-type {\n",
       "        vertical-align: middle;\n",
       "    }\n",
       "\n",
       "    .dataframe tbody tr th {\n",
       "        vertical-align: top;\n",
       "    }\n",
       "\n",
       "    .dataframe thead th {\n",
       "        text-align: right;\n",
       "    }\n",
       "</style>\n",
       "<table border=\"1\" class=\"dataframe\">\n",
       "  <thead>\n",
       "    <tr style=\"text-align: right;\">\n",
       "      <th></th>\n",
       "      <th>user_id</th>\n",
       "      <th>age</th>\n",
       "      <th>churn_date</th>\n",
       "      <th>city</th>\n",
       "      <th>first_name</th>\n",
       "      <th>last_name</th>\n",
       "      <th>reg_date</th>\n",
       "      <th>tariff_name</th>\n",
       "      <th>month</th>\n",
       "      <th>reg_month</th>\n",
       "      <th>...</th>\n",
       "      <th>mb_per_month_included</th>\n",
       "      <th>minutes_included</th>\n",
       "      <th>rub_monthly_fee</th>\n",
       "      <th>rub_per_gb</th>\n",
       "      <th>rub_per_message</th>\n",
       "      <th>rub_per_minute</th>\n",
       "      <th>money_spent_minutes_over</th>\n",
       "      <th>money_spent_messages_over</th>\n",
       "      <th>money_spent_internet_over</th>\n",
       "      <th>money_spent_total</th>\n",
       "    </tr>\n",
       "  </thead>\n",
       "  <tbody>\n",
       "    <tr>\n",
       "      <th>8</th>\n",
       "      <td>1001</td>\n",
       "      <td>41</td>\n",
       "      <td>NaT</td>\n",
       "      <td>Москва</td>\n",
       "      <td>Иван</td>\n",
       "      <td>Ежов</td>\n",
       "      <td>2018-11-01</td>\n",
       "      <td>smart</td>\n",
       "      <td>2018-11-01</td>\n",
       "      <td>2018-11-01</td>\n",
       "      <td>...</td>\n",
       "      <td>15360</td>\n",
       "      <td>500</td>\n",
       "      <td>550</td>\n",
       "      <td>200</td>\n",
       "      <td>3</td>\n",
       "      <td>3</td>\n",
       "      <td>0.0</td>\n",
       "      <td>NaN</td>\n",
       "      <td>600.0</td>\n",
       "      <td>NaN</td>\n",
       "    </tr>\n",
       "    <tr>\n",
       "      <th>9</th>\n",
       "      <td>1001</td>\n",
       "      <td>41</td>\n",
       "      <td>NaT</td>\n",
       "      <td>Москва</td>\n",
       "      <td>Иван</td>\n",
       "      <td>Ежов</td>\n",
       "      <td>2018-11-01</td>\n",
       "      <td>smart</td>\n",
       "      <td>2018-12-01</td>\n",
       "      <td>2018-11-01</td>\n",
       "      <td>...</td>\n",
       "      <td>15360</td>\n",
       "      <td>500</td>\n",
       "      <td>550</td>\n",
       "      <td>200</td>\n",
       "      <td>3</td>\n",
       "      <td>3</td>\n",
       "      <td>0.0</td>\n",
       "      <td>NaN</td>\n",
       "      <td>0.0</td>\n",
       "      <td>NaN</td>\n",
       "    </tr>\n",
       "    <tr>\n",
       "      <th>42</th>\n",
       "      <td>1006</td>\n",
       "      <td>21</td>\n",
       "      <td>NaT</td>\n",
       "      <td>Ульяновск</td>\n",
       "      <td>Леонид</td>\n",
       "      <td>Ермолаев</td>\n",
       "      <td>2018-02-26</td>\n",
       "      <td>smart</td>\n",
       "      <td>2018-02-01</td>\n",
       "      <td>2018-02-01</td>\n",
       "      <td>...</td>\n",
       "      <td>15360</td>\n",
       "      <td>500</td>\n",
       "      <td>550</td>\n",
       "      <td>200</td>\n",
       "      <td>3</td>\n",
       "      <td>3</td>\n",
       "      <td>0.0</td>\n",
       "      <td>NaN</td>\n",
       "      <td>0.0</td>\n",
       "      <td>NaN</td>\n",
       "    </tr>\n",
       "    <tr>\n",
       "      <th>43</th>\n",
       "      <td>1006</td>\n",
       "      <td>21</td>\n",
       "      <td>NaT</td>\n",
       "      <td>Ульяновск</td>\n",
       "      <td>Леонид</td>\n",
       "      <td>Ермолаев</td>\n",
       "      <td>2018-02-26</td>\n",
       "      <td>smart</td>\n",
       "      <td>2018-03-01</td>\n",
       "      <td>2018-02-01</td>\n",
       "      <td>...</td>\n",
       "      <td>15360</td>\n",
       "      <td>500</td>\n",
       "      <td>550</td>\n",
       "      <td>200</td>\n",
       "      <td>3</td>\n",
       "      <td>3</td>\n",
       "      <td>0.0</td>\n",
       "      <td>NaN</td>\n",
       "      <td>400.0</td>\n",
       "      <td>NaN</td>\n",
       "    </tr>\n",
       "    <tr>\n",
       "      <th>44</th>\n",
       "      <td>1006</td>\n",
       "      <td>21</td>\n",
       "      <td>NaT</td>\n",
       "      <td>Ульяновск</td>\n",
       "      <td>Леонид</td>\n",
       "      <td>Ермолаев</td>\n",
       "      <td>2018-02-26</td>\n",
       "      <td>smart</td>\n",
       "      <td>2018-04-01</td>\n",
       "      <td>2018-02-01</td>\n",
       "      <td>...</td>\n",
       "      <td>15360</td>\n",
       "      <td>500</td>\n",
       "      <td>550</td>\n",
       "      <td>200</td>\n",
       "      <td>3</td>\n",
       "      <td>3</td>\n",
       "      <td>0.0</td>\n",
       "      <td>NaN</td>\n",
       "      <td>0.0</td>\n",
       "      <td>NaN</td>\n",
       "    </tr>\n",
       "    <tr>\n",
       "      <th>...</th>\n",
       "      <td>...</td>\n",
       "      <td>...</td>\n",
       "      <td>...</td>\n",
       "      <td>...</td>\n",
       "      <td>...</td>\n",
       "      <td>...</td>\n",
       "      <td>...</td>\n",
       "      <td>...</td>\n",
       "      <td>...</td>\n",
       "      <td>...</td>\n",
       "      <td>...</td>\n",
       "      <td>...</td>\n",
       "      <td>...</td>\n",
       "      <td>...</td>\n",
       "      <td>...</td>\n",
       "      <td>...</td>\n",
       "      <td>...</td>\n",
       "      <td>...</td>\n",
       "      <td>...</td>\n",
       "      <td>...</td>\n",
       "      <td>...</td>\n",
       "    </tr>\n",
       "    <tr>\n",
       "      <th>3226</th>\n",
       "      <td>1494</td>\n",
       "      <td>62</td>\n",
       "      <td>NaT</td>\n",
       "      <td>Омск</td>\n",
       "      <td>Ренат</td>\n",
       "      <td>Андропов</td>\n",
       "      <td>2018-08-17</td>\n",
       "      <td>smart</td>\n",
       "      <td>2018-10-01</td>\n",
       "      <td>2018-08-01</td>\n",
       "      <td>...</td>\n",
       "      <td>15360</td>\n",
       "      <td>500</td>\n",
       "      <td>550</td>\n",
       "      <td>200</td>\n",
       "      <td>3</td>\n",
       "      <td>3</td>\n",
       "      <td>0.0</td>\n",
       "      <td>NaN</td>\n",
       "      <td>600.0</td>\n",
       "      <td>NaN</td>\n",
       "    </tr>\n",
       "    <tr>\n",
       "      <th>3227</th>\n",
       "      <td>1494</td>\n",
       "      <td>62</td>\n",
       "      <td>NaT</td>\n",
       "      <td>Омск</td>\n",
       "      <td>Ренат</td>\n",
       "      <td>Андропов</td>\n",
       "      <td>2018-08-17</td>\n",
       "      <td>smart</td>\n",
       "      <td>2018-11-01</td>\n",
       "      <td>2018-08-01</td>\n",
       "      <td>...</td>\n",
       "      <td>15360</td>\n",
       "      <td>500</td>\n",
       "      <td>550</td>\n",
       "      <td>200</td>\n",
       "      <td>3</td>\n",
       "      <td>3</td>\n",
       "      <td>0.0</td>\n",
       "      <td>NaN</td>\n",
       "      <td>600.0</td>\n",
       "      <td>NaN</td>\n",
       "    </tr>\n",
       "    <tr>\n",
       "      <th>3228</th>\n",
       "      <td>1494</td>\n",
       "      <td>62</td>\n",
       "      <td>NaT</td>\n",
       "      <td>Омск</td>\n",
       "      <td>Ренат</td>\n",
       "      <td>Андропов</td>\n",
       "      <td>2018-08-17</td>\n",
       "      <td>smart</td>\n",
       "      <td>2018-12-01</td>\n",
       "      <td>2018-08-01</td>\n",
       "      <td>...</td>\n",
       "      <td>15360</td>\n",
       "      <td>500</td>\n",
       "      <td>550</td>\n",
       "      <td>200</td>\n",
       "      <td>3</td>\n",
       "      <td>3</td>\n",
       "      <td>0.0</td>\n",
       "      <td>NaN</td>\n",
       "      <td>600.0</td>\n",
       "      <td>NaN</td>\n",
       "    </tr>\n",
       "    <tr>\n",
       "      <th>3253</th>\n",
       "      <td>1498</td>\n",
       "      <td>68</td>\n",
       "      <td>2018-10-25</td>\n",
       "      <td>Владикавказ</td>\n",
       "      <td>Всеволод</td>\n",
       "      <td>Акимчин</td>\n",
       "      <td>2018-07-19</td>\n",
       "      <td>smart</td>\n",
       "      <td>2018-11-01</td>\n",
       "      <td>2018-07-01</td>\n",
       "      <td>...</td>\n",
       "      <td>15360</td>\n",
       "      <td>500</td>\n",
       "      <td>550</td>\n",
       "      <td>200</td>\n",
       "      <td>3</td>\n",
       "      <td>3</td>\n",
       "      <td>NaN</td>\n",
       "      <td>NaN</td>\n",
       "      <td>NaN</td>\n",
       "      <td>NaN</td>\n",
       "    </tr>\n",
       "    <tr>\n",
       "      <th>3254</th>\n",
       "      <td>1498</td>\n",
       "      <td>68</td>\n",
       "      <td>2018-10-25</td>\n",
       "      <td>Владикавказ</td>\n",
       "      <td>Всеволод</td>\n",
       "      <td>Акимчин</td>\n",
       "      <td>2018-07-19</td>\n",
       "      <td>smart</td>\n",
       "      <td>2018-12-01</td>\n",
       "      <td>2018-07-01</td>\n",
       "      <td>...</td>\n",
       "      <td>15360</td>\n",
       "      <td>500</td>\n",
       "      <td>550</td>\n",
       "      <td>200</td>\n",
       "      <td>3</td>\n",
       "      <td>3</td>\n",
       "      <td>NaN</td>\n",
       "      <td>NaN</td>\n",
       "      <td>NaN</td>\n",
       "      <td>NaN</td>\n",
       "    </tr>\n",
       "  </tbody>\n",
       "</table>\n",
       "<p>592 rows × 26 columns</p>\n",
       "</div>"
      ],
      "text/plain": [
       "      user_id  age churn_date         city first_name last_name   reg_date  \\\n",
       "8        1001   41        NaT       Москва       Иван      Ежов 2018-11-01   \n",
       "9        1001   41        NaT       Москва       Иван      Ежов 2018-11-01   \n",
       "42       1006   21        NaT    Ульяновск     Леонид  Ермолаев 2018-02-26   \n",
       "43       1006   21        NaT    Ульяновск     Леонид  Ермолаев 2018-02-26   \n",
       "44       1006   21        NaT    Ульяновск     Леонид  Ермолаев 2018-02-26   \n",
       "...       ...  ...        ...          ...        ...       ...        ...   \n",
       "3226     1494   62        NaT         Омск      Ренат  Андропов 2018-08-17   \n",
       "3227     1494   62        NaT         Омск      Ренат  Андропов 2018-08-17   \n",
       "3228     1494   62        NaT         Омск      Ренат  Андропов 2018-08-17   \n",
       "3253     1498   68 2018-10-25  Владикавказ   Всеволод   Акимчин 2018-07-19   \n",
       "3254     1498   68 2018-10-25  Владикавказ   Всеволод   Акимчин 2018-07-19   \n",
       "\n",
       "     tariff_name      month  reg_month  ...  mb_per_month_included  \\\n",
       "8          smart 2018-11-01 2018-11-01  ...                  15360   \n",
       "9          smart 2018-12-01 2018-11-01  ...                  15360   \n",
       "42         smart 2018-02-01 2018-02-01  ...                  15360   \n",
       "43         smart 2018-03-01 2018-02-01  ...                  15360   \n",
       "44         smart 2018-04-01 2018-02-01  ...                  15360   \n",
       "...          ...        ...        ...  ...                    ...   \n",
       "3226       smart 2018-10-01 2018-08-01  ...                  15360   \n",
       "3227       smart 2018-11-01 2018-08-01  ...                  15360   \n",
       "3228       smart 2018-12-01 2018-08-01  ...                  15360   \n",
       "3253       smart 2018-11-01 2018-07-01  ...                  15360   \n",
       "3254       smart 2018-12-01 2018-07-01  ...                  15360   \n",
       "\n",
       "      minutes_included  rub_monthly_fee  rub_per_gb  rub_per_message  \\\n",
       "8                  500              550         200                3   \n",
       "9                  500              550         200                3   \n",
       "42                 500              550         200                3   \n",
       "43                 500              550         200                3   \n",
       "44                 500              550         200                3   \n",
       "...                ...              ...         ...              ...   \n",
       "3226               500              550         200                3   \n",
       "3227               500              550         200                3   \n",
       "3228               500              550         200                3   \n",
       "3253               500              550         200                3   \n",
       "3254               500              550         200                3   \n",
       "\n",
       "      rub_per_minute  money_spent_minutes_over  money_spent_messages_over  \\\n",
       "8                  3                       0.0                        NaN   \n",
       "9                  3                       0.0                        NaN   \n",
       "42                 3                       0.0                        NaN   \n",
       "43                 3                       0.0                        NaN   \n",
       "44                 3                       0.0                        NaN   \n",
       "...              ...                       ...                        ...   \n",
       "3226               3                       0.0                        NaN   \n",
       "3227               3                       0.0                        NaN   \n",
       "3228               3                       0.0                        NaN   \n",
       "3253               3                       NaN                        NaN   \n",
       "3254               3                       NaN                        NaN   \n",
       "\n",
       "      money_spent_internet_over  money_spent_total  \n",
       "8                         600.0                NaN  \n",
       "9                           0.0                NaN  \n",
       "42                          0.0                NaN  \n",
       "43                        400.0                NaN  \n",
       "44                          0.0                NaN  \n",
       "...                         ...                ...  \n",
       "3226                      600.0                NaN  \n",
       "3227                      600.0                NaN  \n",
       "3228                      600.0                NaN  \n",
       "3253                        NaN                NaN  \n",
       "3254                        NaN                NaN  \n",
       "\n",
       "[592 rows x 26 columns]"
      ]
     },
     "execution_count": 61,
     "metadata": {},
     "output_type": "execute_result"
    }
   ],
   "source": [
    "template[template['money_spent_total'].isna()]"
   ]
  },
  {
   "cell_type": "markdown",
   "metadata": {
    "id": "QLEEe1MnN2-x"
   },
   "source": [
    "Имеем два случая:\n",
    "* Если в одном из трех значений стоимостей сверх лимита (минуты, гигабайты, смс) значение было пропущено, то и выручка будет неизвестным значением;\n",
    "* Если во всех трех значения стоимости сверх лимита пропущены, то это говорит о том, что в этом месяце абонент не пользовался тарифом."
   ]
  },
  {
   "cell_type": "markdown",
   "metadata": {
    "id": "hNGZAUxNPFrG"
   },
   "source": [
    "В первом случае нам необходимо заменить NaN нулями. Для этого определим те строки, где все три значения пропущены, и выделим такие строки в отдельный датафрейм для дальнейшего анализа оттока клиентов. Еще в таких строках `churn_date` будет меньше `month`"
   ]
  },
  {
   "cell_type": "code",
   "execution_count": 62,
   "metadata": {
    "colab": {
     "base_uri": "https://localhost:8080/"
    },
    "id": "g5G-LkhSQgnJ",
    "outputId": "b720e9d1-13fc-4ac5-9b58-0a402ab54fdc"
   },
   "outputs": [
    {
     "data": {
      "text/plain": [
       "45"
      ]
     },
     "execution_count": 62,
     "metadata": {},
     "output_type": "execute_result"
    }
   ],
   "source": [
    "len(template[(template['money_spent_minutes_over'].isna())\n",
    "    & (template['money_spent_messages_over'].isna())\n",
    "    & (template['money_spent_internet_over'].isna())]\n",
    ")"
   ]
  },
  {
   "cell_type": "code",
   "execution_count": 63,
   "metadata": {
    "id": "fz2cGswITMw2"
   },
   "outputs": [],
   "source": [
    "template['churn_month'] = template['churn_date'].to_numpy().astype('datetime64[M]')"
   ]
  },
  {
   "cell_type": "code",
   "execution_count": 64,
   "metadata": {
    "colab": {
     "base_uri": "https://localhost:8080/"
    },
    "id": "jsPi0jaOUK9l",
    "outputId": "1ef87a3c-8d11-4191-f2a0-32fa12d157de"
   },
   "outputs": [
    {
     "data": {
      "text/plain": [
       "43"
      ]
     },
     "execution_count": 64,
     "metadata": {},
     "output_type": "execute_result"
    }
   ],
   "source": [
    "len(template[template['churn_month'] < template['month']])"
   ]
  },
  {
   "cell_type": "markdown",
   "metadata": {
    "id": "Ns4S_qTlcB2v"
   },
   "source": [
    "Суммы не совпадают, посмотрим на те строки, которые не вошли во второй датафрейм"
   ]
  },
  {
   "cell_type": "code",
   "execution_count": 65,
   "metadata": {
    "id": "caG-yjgHU9A4"
   },
   "outputs": [],
   "source": [
    "temp_first = template[(template['money_spent_minutes_over'].isna())\n",
    "    & (template['money_spent_messages_over'].isna())\n",
    "    & (template['money_spent_internet_over'].isna())]"
   ]
  },
  {
   "cell_type": "code",
   "execution_count": 66,
   "metadata": {
    "id": "tmnyZRtljGxH"
   },
   "outputs": [],
   "source": [
    "churn_clients = temp_first.copy()"
   ]
  },
  {
   "cell_type": "code",
   "execution_count": 67,
   "metadata": {
    "colab": {
     "base_uri": "https://localhost:8080/"
    },
    "id": "lrCTqTEvY0Af",
    "outputId": "436fe38e-86be-4a0a-927d-7fb596d4f8df",
    "scrolled": false
   },
   "outputs": [
    {
     "data": {
      "text/plain": [
       "Index(['user_id', 'age', 'churn_date', 'city', 'first_name', 'last_name',\n",
       "       'reg_date', 'tariff_name', 'month', 'reg_month', 'calls_count',\n",
       "       'minutes_sum', 'messages_count', 'mb_used_sum', 'gb_used_sum',\n",
       "       'messages_included', 'mb_per_month_included', 'minutes_included',\n",
       "       'rub_monthly_fee', 'rub_per_gb', 'rub_per_message', 'rub_per_minute',\n",
       "       'money_spent_minutes_over', 'money_spent_messages_over',\n",
       "       'money_spent_internet_over', 'money_spent_total', 'churn_month'],\n",
       "      dtype='object')"
      ]
     },
     "execution_count": 67,
     "metadata": {},
     "output_type": "execute_result"
    }
   ],
   "source": [
    "temp_first.columns"
   ]
  },
  {
   "cell_type": "code",
   "execution_count": 68,
   "metadata": {
    "id": "jtQ80Al4WK11"
   },
   "outputs": [],
   "source": [
    "temp_second = template[template['churn_month'] < template['month']]"
   ]
  },
  {
   "cell_type": "code",
   "execution_count": 69,
   "metadata": {
    "id": "yhhowECZW2jn"
   },
   "outputs": [],
   "source": [
    "temp_first_second_merge = pd.merge(temp_first, temp_second, on=[\n",
    "        'user_id', 'age', 'churn_date', 'city', 'first_name', 'last_name',\n",
    "       'reg_date', 'tariff_name', 'month', 'reg_month', 'calls_count',\n",
    "       'minutes_sum', 'messages_count', 'mb_used_sum', 'gb_used_sum',\n",
    "       'messages_included', 'mb_per_month_included', 'minutes_included',\n",
    "       'rub_monthly_fee', 'rub_per_gb', 'rub_per_message', 'rub_per_minute',\n",
    "       'money_spent_minutes_over', 'money_spent_messages_over',\n",
    "       'money_spent_internet_over', 'money_spent_total', 'churn_month'],\n",
    "       how='inner'\n",
    ")"
   ]
  },
  {
   "cell_type": "code",
   "execution_count": 70,
   "metadata": {
    "id": "hPWQukWLZGDD"
   },
   "outputs": [],
   "source": [
    "temp_first = temp_first.append(temp_first_second_merge)"
   ]
  },
  {
   "cell_type": "code",
   "execution_count": 71,
   "metadata": {
    "id": "JnBMIKPTZK15"
   },
   "outputs": [],
   "source": [
    "temp_first['duplicated'] = temp_first.duplicated(keep=False)"
   ]
  },
  {
   "cell_type": "code",
   "execution_count": 72,
   "metadata": {
    "colab": {
     "base_uri": "https://localhost:8080/",
     "height": 165
    },
    "id": "7WVxAxNrZTld",
    "outputId": "ffebad8f-cd1b-499b-9311-1b78646530d5"
   },
   "outputs": [
    {
     "data": {
      "text/html": [
       "<div>\n",
       "<style scoped>\n",
       "    .dataframe tbody tr th:only-of-type {\n",
       "        vertical-align: middle;\n",
       "    }\n",
       "\n",
       "    .dataframe tbody tr th {\n",
       "        vertical-align: top;\n",
       "    }\n",
       "\n",
       "    .dataframe thead th {\n",
       "        text-align: right;\n",
       "    }\n",
       "</style>\n",
       "<table border=\"1\" class=\"dataframe\">\n",
       "  <thead>\n",
       "    <tr style=\"text-align: right;\">\n",
       "      <th></th>\n",
       "      <th>user_id</th>\n",
       "      <th>age</th>\n",
       "      <th>churn_date</th>\n",
       "      <th>city</th>\n",
       "      <th>first_name</th>\n",
       "      <th>last_name</th>\n",
       "      <th>reg_date</th>\n",
       "      <th>tariff_name</th>\n",
       "      <th>month</th>\n",
       "      <th>reg_month</th>\n",
       "      <th>...</th>\n",
       "      <th>rub_monthly_fee</th>\n",
       "      <th>rub_per_gb</th>\n",
       "      <th>rub_per_message</th>\n",
       "      <th>rub_per_minute</th>\n",
       "      <th>money_spent_minutes_over</th>\n",
       "      <th>money_spent_messages_over</th>\n",
       "      <th>money_spent_internet_over</th>\n",
       "      <th>money_spent_total</th>\n",
       "      <th>churn_month</th>\n",
       "      <th>duplicated</th>\n",
       "    </tr>\n",
       "  </thead>\n",
       "  <tbody>\n",
       "    <tr>\n",
       "      <th>840</th>\n",
       "      <td>1128</td>\n",
       "      <td>51</td>\n",
       "      <td>2018-12-23</td>\n",
       "      <td>Волжский</td>\n",
       "      <td>Ксения</td>\n",
       "      <td>Агаева</td>\n",
       "      <td>2018-12-15</td>\n",
       "      <td>ultra</td>\n",
       "      <td>2018-12-01</td>\n",
       "      <td>2018-12-01</td>\n",
       "      <td>...</td>\n",
       "      <td>1950</td>\n",
       "      <td>150</td>\n",
       "      <td>1</td>\n",
       "      <td>1</td>\n",
       "      <td>NaN</td>\n",
       "      <td>NaN</td>\n",
       "      <td>NaN</td>\n",
       "      <td>NaN</td>\n",
       "      <td>2018-12-01</td>\n",
       "      <td>False</td>\n",
       "    </tr>\n",
       "    <tr>\n",
       "      <th>2370</th>\n",
       "      <td>1371</td>\n",
       "      <td>50</td>\n",
       "      <td>2018-12-30</td>\n",
       "      <td>Омск</td>\n",
       "      <td>Ириней</td>\n",
       "      <td>Трофимов</td>\n",
       "      <td>2018-12-25</td>\n",
       "      <td>smart</td>\n",
       "      <td>2018-12-01</td>\n",
       "      <td>2018-12-01</td>\n",
       "      <td>...</td>\n",
       "      <td>550</td>\n",
       "      <td>200</td>\n",
       "      <td>3</td>\n",
       "      <td>3</td>\n",
       "      <td>NaN</td>\n",
       "      <td>NaN</td>\n",
       "      <td>NaN</td>\n",
       "      <td>NaN</td>\n",
       "      <td>2018-12-01</td>\n",
       "      <td>False</td>\n",
       "    </tr>\n",
       "  </tbody>\n",
       "</table>\n",
       "<p>2 rows × 28 columns</p>\n",
       "</div>"
      ],
      "text/plain": [
       "      user_id  age churn_date      city first_name last_name   reg_date  \\\n",
       "840      1128   51 2018-12-23  Волжский     Ксения    Агаева 2018-12-15   \n",
       "2370     1371   50 2018-12-30      Омск     Ириней  Трофимов 2018-12-25   \n",
       "\n",
       "     tariff_name      month  reg_month  ...  rub_monthly_fee  rub_per_gb  \\\n",
       "840        ultra 2018-12-01 2018-12-01  ...             1950         150   \n",
       "2370       smart 2018-12-01 2018-12-01  ...              550         200   \n",
       "\n",
       "      rub_per_message  rub_per_minute  money_spent_minutes_over  \\\n",
       "840                 1               1                       NaN   \n",
       "2370                3               3                       NaN   \n",
       "\n",
       "      money_spent_messages_over  money_spent_internet_over  money_spent_total  \\\n",
       "840                         NaN                        NaN                NaN   \n",
       "2370                        NaN                        NaN                NaN   \n",
       "\n",
       "      churn_month  duplicated  \n",
       "840    2018-12-01       False  \n",
       "2370   2018-12-01       False  \n",
       "\n",
       "[2 rows x 28 columns]"
      ]
     },
     "execution_count": 72,
     "metadata": {},
     "output_type": "execute_result"
    }
   ],
   "source": [
    "temp_first[temp_first['duplicated']==False]"
   ]
  },
  {
   "cell_type": "markdown",
   "metadata": {
    "id": "1nuSMu0YaXnC"
   },
   "source": [
    "Получилось так, что есть 2 пользователя, которые не пользовались услугами сотовой связи в декабре (регистрация тоже в декабре), но при этом тариф у них действовал (правда, всего несколько дней)\n",
    "\n",
    "По таким клиентам мы не сможем ничего проанализировать. От этих двух строк тоже избавимся, нас они не интересуют."
   ]
  },
  {
   "cell_type": "code",
   "execution_count": 73,
   "metadata": {
    "colab": {
     "base_uri": "https://localhost:8080/"
    },
    "id": "wvpNXXf8hmiK",
    "outputId": "1bacd840-c833-4a4d-bc6d-4143350d911b"
   },
   "outputs": [
    {
     "data": {
      "text/plain": [
       "3259"
      ]
     },
     "execution_count": 73,
     "metadata": {},
     "output_type": "execute_result"
    }
   ],
   "source": [
    "len(template)"
   ]
  },
  {
   "cell_type": "code",
   "execution_count": 74,
   "metadata": {
    "id": "VMiiIBA7hrl1"
   },
   "outputs": [],
   "source": [
    "template = template[(template['money_spent_minutes_over'].isna()==False)\n",
    "    | (template['money_spent_messages_over'].isna()==False)\n",
    "    | (template['money_spent_internet_over'].isna()==False)]"
   ]
  },
  {
   "cell_type": "code",
   "execution_count": 75,
   "metadata": {
    "colab": {
     "base_uri": "https://localhost:8080/"
    },
    "id": "2cRe7DVVkDJp",
    "outputId": "8ca2426f-e67c-48f8-9537-648790ada46d"
   },
   "outputs": [
    {
     "data": {
      "text/plain": [
       "3214"
      ]
     },
     "execution_count": 75,
     "metadata": {},
     "output_type": "execute_result"
    }
   ],
   "source": [
    "len(template)"
   ]
  },
  {
   "cell_type": "code",
   "execution_count": 76,
   "metadata": {
    "colab": {
     "base_uri": "https://localhost:8080/"
    },
    "id": "Mk3dW0xBik1F",
    "outputId": "cae916c8-7aa2-4ba7-c1ce-1f9f7fd829eb"
   },
   "outputs": [
    {
     "data": {
      "text/plain": [
       "45"
      ]
     },
     "execution_count": 76,
     "metadata": {},
     "output_type": "execute_result"
    }
   ],
   "source": [
    "3259 - 3214 "
   ]
  },
  {
   "cell_type": "code",
   "execution_count": 77,
   "metadata": {
    "colab": {
     "base_uri": "https://localhost:8080/",
     "height": 609
    },
    "id": "zjID9RE8pfy_",
    "outputId": "84b10892-ddd5-4d9e-ac29-a02a53f6dab0"
   },
   "outputs": [
    {
     "data": {
      "text/html": [
       "<div>\n",
       "<style scoped>\n",
       "    .dataframe tbody tr th:only-of-type {\n",
       "        vertical-align: middle;\n",
       "    }\n",
       "\n",
       "    .dataframe tbody tr th {\n",
       "        vertical-align: top;\n",
       "    }\n",
       "\n",
       "    .dataframe thead th {\n",
       "        text-align: right;\n",
       "    }\n",
       "</style>\n",
       "<table border=\"1\" class=\"dataframe\">\n",
       "  <thead>\n",
       "    <tr style=\"text-align: right;\">\n",
       "      <th></th>\n",
       "      <th>user_id</th>\n",
       "      <th>age</th>\n",
       "      <th>churn_date</th>\n",
       "      <th>city</th>\n",
       "      <th>first_name</th>\n",
       "      <th>last_name</th>\n",
       "      <th>reg_date</th>\n",
       "      <th>tariff_name</th>\n",
       "      <th>month</th>\n",
       "      <th>reg_month</th>\n",
       "      <th>...</th>\n",
       "      <th>minutes_included</th>\n",
       "      <th>rub_monthly_fee</th>\n",
       "      <th>rub_per_gb</th>\n",
       "      <th>rub_per_message</th>\n",
       "      <th>rub_per_minute</th>\n",
       "      <th>money_spent_minutes_over</th>\n",
       "      <th>money_spent_messages_over</th>\n",
       "      <th>money_spent_internet_over</th>\n",
       "      <th>money_spent_total</th>\n",
       "      <th>churn_month</th>\n",
       "    </tr>\n",
       "  </thead>\n",
       "  <tbody>\n",
       "    <tr>\n",
       "      <th>0</th>\n",
       "      <td>1000</td>\n",
       "      <td>52</td>\n",
       "      <td>NaT</td>\n",
       "      <td>Краснодар</td>\n",
       "      <td>Рафаил</td>\n",
       "      <td>Верещагин</td>\n",
       "      <td>2018-05-25</td>\n",
       "      <td>ultra</td>\n",
       "      <td>2018-05-01</td>\n",
       "      <td>2018-05-01</td>\n",
       "      <td>...</td>\n",
       "      <td>3000</td>\n",
       "      <td>1950</td>\n",
       "      <td>150</td>\n",
       "      <td>1</td>\n",
       "      <td>1</td>\n",
       "      <td>0.0</td>\n",
       "      <td>0.0</td>\n",
       "      <td>0.0</td>\n",
       "      <td>1950.0</td>\n",
       "      <td>NaT</td>\n",
       "    </tr>\n",
       "    <tr>\n",
       "      <th>1</th>\n",
       "      <td>1000</td>\n",
       "      <td>52</td>\n",
       "      <td>NaT</td>\n",
       "      <td>Краснодар</td>\n",
       "      <td>Рафаил</td>\n",
       "      <td>Верещагин</td>\n",
       "      <td>2018-05-25</td>\n",
       "      <td>ultra</td>\n",
       "      <td>2018-06-01</td>\n",
       "      <td>2018-05-01</td>\n",
       "      <td>...</td>\n",
       "      <td>3000</td>\n",
       "      <td>1950</td>\n",
       "      <td>150</td>\n",
       "      <td>1</td>\n",
       "      <td>1</td>\n",
       "      <td>0.0</td>\n",
       "      <td>0.0</td>\n",
       "      <td>0.0</td>\n",
       "      <td>1950.0</td>\n",
       "      <td>NaT</td>\n",
       "    </tr>\n",
       "    <tr>\n",
       "      <th>2</th>\n",
       "      <td>1000</td>\n",
       "      <td>52</td>\n",
       "      <td>NaT</td>\n",
       "      <td>Краснодар</td>\n",
       "      <td>Рафаил</td>\n",
       "      <td>Верещагин</td>\n",
       "      <td>2018-05-25</td>\n",
       "      <td>ultra</td>\n",
       "      <td>2018-07-01</td>\n",
       "      <td>2018-05-01</td>\n",
       "      <td>...</td>\n",
       "      <td>3000</td>\n",
       "      <td>1950</td>\n",
       "      <td>150</td>\n",
       "      <td>1</td>\n",
       "      <td>1</td>\n",
       "      <td>0.0</td>\n",
       "      <td>0.0</td>\n",
       "      <td>0.0</td>\n",
       "      <td>1950.0</td>\n",
       "      <td>NaT</td>\n",
       "    </tr>\n",
       "    <tr>\n",
       "      <th>3</th>\n",
       "      <td>1000</td>\n",
       "      <td>52</td>\n",
       "      <td>NaT</td>\n",
       "      <td>Краснодар</td>\n",
       "      <td>Рафаил</td>\n",
       "      <td>Верещагин</td>\n",
       "      <td>2018-05-25</td>\n",
       "      <td>ultra</td>\n",
       "      <td>2018-08-01</td>\n",
       "      <td>2018-05-01</td>\n",
       "      <td>...</td>\n",
       "      <td>3000</td>\n",
       "      <td>1950</td>\n",
       "      <td>150</td>\n",
       "      <td>1</td>\n",
       "      <td>1</td>\n",
       "      <td>0.0</td>\n",
       "      <td>0.0</td>\n",
       "      <td>0.0</td>\n",
       "      <td>1950.0</td>\n",
       "      <td>NaT</td>\n",
       "    </tr>\n",
       "    <tr>\n",
       "      <th>4</th>\n",
       "      <td>1000</td>\n",
       "      <td>52</td>\n",
       "      <td>NaT</td>\n",
       "      <td>Краснодар</td>\n",
       "      <td>Рафаил</td>\n",
       "      <td>Верещагин</td>\n",
       "      <td>2018-05-25</td>\n",
       "      <td>ultra</td>\n",
       "      <td>2018-09-01</td>\n",
       "      <td>2018-05-01</td>\n",
       "      <td>...</td>\n",
       "      <td>3000</td>\n",
       "      <td>1950</td>\n",
       "      <td>150</td>\n",
       "      <td>1</td>\n",
       "      <td>1</td>\n",
       "      <td>0.0</td>\n",
       "      <td>0.0</td>\n",
       "      <td>0.0</td>\n",
       "      <td>1950.0</td>\n",
       "      <td>NaT</td>\n",
       "    </tr>\n",
       "    <tr>\n",
       "      <th>...</th>\n",
       "      <td>...</td>\n",
       "      <td>...</td>\n",
       "      <td>...</td>\n",
       "      <td>...</td>\n",
       "      <td>...</td>\n",
       "      <td>...</td>\n",
       "      <td>...</td>\n",
       "      <td>...</td>\n",
       "      <td>...</td>\n",
       "      <td>...</td>\n",
       "      <td>...</td>\n",
       "      <td>...</td>\n",
       "      <td>...</td>\n",
       "      <td>...</td>\n",
       "      <td>...</td>\n",
       "      <td>...</td>\n",
       "      <td>...</td>\n",
       "      <td>...</td>\n",
       "      <td>...</td>\n",
       "      <td>...</td>\n",
       "      <td>...</td>\n",
       "    </tr>\n",
       "    <tr>\n",
       "      <th>3252</th>\n",
       "      <td>1498</td>\n",
       "      <td>68</td>\n",
       "      <td>2018-10-25</td>\n",
       "      <td>Владикавказ</td>\n",
       "      <td>Всеволод</td>\n",
       "      <td>Акимчин</td>\n",
       "      <td>2018-07-19</td>\n",
       "      <td>smart</td>\n",
       "      <td>2018-10-01</td>\n",
       "      <td>2018-07-01</td>\n",
       "      <td>...</td>\n",
       "      <td>500</td>\n",
       "      <td>550</td>\n",
       "      <td>200</td>\n",
       "      <td>3</td>\n",
       "      <td>3</td>\n",
       "      <td>0.0</td>\n",
       "      <td>0.0</td>\n",
       "      <td>1200.0</td>\n",
       "      <td>1750.0</td>\n",
       "      <td>2018-10-01</td>\n",
       "    </tr>\n",
       "    <tr>\n",
       "      <th>3255</th>\n",
       "      <td>1499</td>\n",
       "      <td>35</td>\n",
       "      <td>NaT</td>\n",
       "      <td>Пермь</td>\n",
       "      <td>Гектор</td>\n",
       "      <td>Корнилов</td>\n",
       "      <td>2018-09-27</td>\n",
       "      <td>smart</td>\n",
       "      <td>2018-09-01</td>\n",
       "      <td>2018-09-01</td>\n",
       "      <td>...</td>\n",
       "      <td>500</td>\n",
       "      <td>550</td>\n",
       "      <td>200</td>\n",
       "      <td>3</td>\n",
       "      <td>3</td>\n",
       "      <td>0.0</td>\n",
       "      <td>0.0</td>\n",
       "      <td>0.0</td>\n",
       "      <td>550.0</td>\n",
       "      <td>NaT</td>\n",
       "    </tr>\n",
       "    <tr>\n",
       "      <th>3256</th>\n",
       "      <td>1499</td>\n",
       "      <td>35</td>\n",
       "      <td>NaT</td>\n",
       "      <td>Пермь</td>\n",
       "      <td>Гектор</td>\n",
       "      <td>Корнилов</td>\n",
       "      <td>2018-09-27</td>\n",
       "      <td>smart</td>\n",
       "      <td>2018-10-01</td>\n",
       "      <td>2018-09-01</td>\n",
       "      <td>...</td>\n",
       "      <td>500</td>\n",
       "      <td>550</td>\n",
       "      <td>200</td>\n",
       "      <td>3</td>\n",
       "      <td>3</td>\n",
       "      <td>0.0</td>\n",
       "      <td>0.0</td>\n",
       "      <td>600.0</td>\n",
       "      <td>1150.0</td>\n",
       "      <td>NaT</td>\n",
       "    </tr>\n",
       "    <tr>\n",
       "      <th>3257</th>\n",
       "      <td>1499</td>\n",
       "      <td>35</td>\n",
       "      <td>NaT</td>\n",
       "      <td>Пермь</td>\n",
       "      <td>Гектор</td>\n",
       "      <td>Корнилов</td>\n",
       "      <td>2018-09-27</td>\n",
       "      <td>smart</td>\n",
       "      <td>2018-11-01</td>\n",
       "      <td>2018-09-01</td>\n",
       "      <td>...</td>\n",
       "      <td>500</td>\n",
       "      <td>550</td>\n",
       "      <td>200</td>\n",
       "      <td>3</td>\n",
       "      <td>3</td>\n",
       "      <td>336.0</td>\n",
       "      <td>27.0</td>\n",
       "      <td>600.0</td>\n",
       "      <td>1513.0</td>\n",
       "      <td>NaT</td>\n",
       "    </tr>\n",
       "    <tr>\n",
       "      <th>3258</th>\n",
       "      <td>1499</td>\n",
       "      <td>35</td>\n",
       "      <td>NaT</td>\n",
       "      <td>Пермь</td>\n",
       "      <td>Гектор</td>\n",
       "      <td>Корнилов</td>\n",
       "      <td>2018-09-27</td>\n",
       "      <td>smart</td>\n",
       "      <td>2018-12-01</td>\n",
       "      <td>2018-09-01</td>\n",
       "      <td>...</td>\n",
       "      <td>500</td>\n",
       "      <td>550</td>\n",
       "      <td>200</td>\n",
       "      <td>3</td>\n",
       "      <td>3</td>\n",
       "      <td>0.0</td>\n",
       "      <td>48.0</td>\n",
       "      <td>0.0</td>\n",
       "      <td>598.0</td>\n",
       "      <td>NaT</td>\n",
       "    </tr>\n",
       "  </tbody>\n",
       "</table>\n",
       "<p>3214 rows × 27 columns</p>\n",
       "</div>"
      ],
      "text/plain": [
       "      user_id  age churn_date         city first_name  last_name   reg_date  \\\n",
       "0        1000   52        NaT    Краснодар     Рафаил  Верещагин 2018-05-25   \n",
       "1        1000   52        NaT    Краснодар     Рафаил  Верещагин 2018-05-25   \n",
       "2        1000   52        NaT    Краснодар     Рафаил  Верещагин 2018-05-25   \n",
       "3        1000   52        NaT    Краснодар     Рафаил  Верещагин 2018-05-25   \n",
       "4        1000   52        NaT    Краснодар     Рафаил  Верещагин 2018-05-25   \n",
       "...       ...  ...        ...          ...        ...        ...        ...   \n",
       "3252     1498   68 2018-10-25  Владикавказ   Всеволод    Акимчин 2018-07-19   \n",
       "3255     1499   35        NaT        Пермь     Гектор   Корнилов 2018-09-27   \n",
       "3256     1499   35        NaT        Пермь     Гектор   Корнилов 2018-09-27   \n",
       "3257     1499   35        NaT        Пермь     Гектор   Корнилов 2018-09-27   \n",
       "3258     1499   35        NaT        Пермь     Гектор   Корнилов 2018-09-27   \n",
       "\n",
       "     tariff_name      month  reg_month  ...  minutes_included  \\\n",
       "0          ultra 2018-05-01 2018-05-01  ...              3000   \n",
       "1          ultra 2018-06-01 2018-05-01  ...              3000   \n",
       "2          ultra 2018-07-01 2018-05-01  ...              3000   \n",
       "3          ultra 2018-08-01 2018-05-01  ...              3000   \n",
       "4          ultra 2018-09-01 2018-05-01  ...              3000   \n",
       "...          ...        ...        ...  ...               ...   \n",
       "3252       smart 2018-10-01 2018-07-01  ...               500   \n",
       "3255       smart 2018-09-01 2018-09-01  ...               500   \n",
       "3256       smart 2018-10-01 2018-09-01  ...               500   \n",
       "3257       smart 2018-11-01 2018-09-01  ...               500   \n",
       "3258       smart 2018-12-01 2018-09-01  ...               500   \n",
       "\n",
       "      rub_monthly_fee  rub_per_gb  rub_per_message  rub_per_minute  \\\n",
       "0                1950         150                1               1   \n",
       "1                1950         150                1               1   \n",
       "2                1950         150                1               1   \n",
       "3                1950         150                1               1   \n",
       "4                1950         150                1               1   \n",
       "...               ...         ...              ...             ...   \n",
       "3252              550         200                3               3   \n",
       "3255              550         200                3               3   \n",
       "3256              550         200                3               3   \n",
       "3257              550         200                3               3   \n",
       "3258              550         200                3               3   \n",
       "\n",
       "      money_spent_minutes_over  money_spent_messages_over  \\\n",
       "0                          0.0                        0.0   \n",
       "1                          0.0                        0.0   \n",
       "2                          0.0                        0.0   \n",
       "3                          0.0                        0.0   \n",
       "4                          0.0                        0.0   \n",
       "...                        ...                        ...   \n",
       "3252                       0.0                        0.0   \n",
       "3255                       0.0                        0.0   \n",
       "3256                       0.0                        0.0   \n",
       "3257                     336.0                       27.0   \n",
       "3258                       0.0                       48.0   \n",
       "\n",
       "      money_spent_internet_over  money_spent_total  churn_month  \n",
       "0                           0.0             1950.0          NaT  \n",
       "1                           0.0             1950.0          NaT  \n",
       "2                           0.0             1950.0          NaT  \n",
       "3                           0.0             1950.0          NaT  \n",
       "4                           0.0             1950.0          NaT  \n",
       "...                         ...                ...          ...  \n",
       "3252                     1200.0             1750.0   2018-10-01  \n",
       "3255                        0.0              550.0          NaT  \n",
       "3256                      600.0             1150.0          NaT  \n",
       "3257                      600.0             1513.0          NaT  \n",
       "3258                        0.0              598.0          NaT  \n",
       "\n",
       "[3214 rows x 27 columns]"
      ]
     },
     "execution_count": 77,
     "metadata": {},
     "output_type": "execute_result"
    }
   ],
   "source": [
    "template"
   ]
  },
  {
   "cell_type": "markdown",
   "metadata": {
    "id": "Gp2U7zBKjf5_"
   },
   "source": [
    "Суммы сходятся. Теперь заполним пропущенные значения стоимостей нулями, а затем заново пересчитаем выручку по каждому клиенту."
   ]
  },
  {
   "cell_type": "code",
   "execution_count": 78,
   "metadata": {
    "id": "2CRBGp5xkXzR"
   },
   "outputs": [],
   "source": [
    "template.loc[:, [\n",
    "                 'money_spent_minutes_over',\n",
    "                 'money_spent_messages_over',\n",
    "                 'money_spent_internet_over'\n",
    "                 ]] = template.loc[:, [\n",
    "                                       'money_spent_minutes_over',\n",
    "                                       'money_spent_messages_over',\n",
    "                                       'money_spent_internet_over'\n",
    "                                       ]].fillna(0)"
   ]
  },
  {
   "cell_type": "code",
   "execution_count": 79,
   "metadata": {
    "id": "2DJzz39er9vj"
   },
   "outputs": [],
   "source": [
    "template['money_spent_total'] = (\n",
    "    template['money_spent_minutes_over']\n",
    "    + template['money_spent_messages_over']\n",
    "    + template['money_spent_internet_over']\n",
    "    + template['rub_monthly_fee']\n",
    ")"
   ]
  },
  {
   "cell_type": "code",
   "execution_count": 80,
   "metadata": {
    "colab": {
     "base_uri": "https://localhost:8080/"
    },
    "id": "MUFnOO04sStw",
    "outputId": "46a2d080-88af-4aee-ab69-b6ad7896acbd"
   },
   "outputs": [
    {
     "data": {
      "text/plain": [
       "0"
      ]
     },
     "execution_count": 80,
     "metadata": {},
     "output_type": "execute_result"
    }
   ],
   "source": [
    "template['money_spent_total'].isna().sum()"
   ]
  },
  {
   "cell_type": "markdown",
   "metadata": {
    "id": "vuNnL13Zsbrn"
   },
   "source": [
    "Теперь видим, что пропусков нет, можно переходить к следующему этапу"
   ]
  },
  {
   "cell_type": "markdown",
   "metadata": {
    "id": "FbWnav1FkGiE"
   },
   "source": [
    "Для удобства перезапишем данные в df"
   ]
  },
  {
   "cell_type": "code",
   "execution_count": 81,
   "metadata": {
    "id": "FLxhThXhkNw3"
   },
   "outputs": [],
   "source": [
    "df = template.copy()"
   ]
  },
  {
   "cell_type": "markdown",
   "metadata": {
    "id": "Ng41BN8pF0B-"
   },
   "source": [
    "## **Вывод**"
   ]
  },
  {
   "cell_type": "markdown",
   "metadata": {
    "id": "u046gD-bF5d_"
   },
   "source": [
    "В данном разделе подготовили данные об израсходованных минутах, количестве звонков, отправленных сообщений, израсходованном трафике и выручке по месяцам для каждого клиента. Столкнулись со сложностью, что для некоторых пользователей есть данные, которые пропущены. Те строки по месяцам, в которых клиенты ни звонили, ни отправляли смс, ни пользовались интернетом, вырезали в отдельный датафрейм для дальнейшего анализа оттока клиентов."
   ]
  },
  {
   "cell_type": "markdown",
   "metadata": {},
   "source": [
    "Так как личная информация в виде имени и фамилии клиента излишняя, то удалим такие столбцы"
   ]
  },
  {
   "cell_type": "code",
   "execution_count": 82,
   "metadata": {
    "scrolled": false
   },
   "outputs": [
    {
     "data": {
      "text/plain": [
       "Index(['user_id', 'age', 'churn_date', 'city', 'first_name', 'last_name',\n",
       "       'reg_date', 'tariff_name', 'month', 'reg_month', 'calls_count',\n",
       "       'minutes_sum', 'messages_count', 'mb_used_sum', 'gb_used_sum',\n",
       "       'messages_included', 'mb_per_month_included', 'minutes_included',\n",
       "       'rub_monthly_fee', 'rub_per_gb', 'rub_per_message', 'rub_per_minute',\n",
       "       'money_spent_minutes_over', 'money_spent_messages_over',\n",
       "       'money_spent_internet_over', 'money_spent_total', 'churn_month'],\n",
       "      dtype='object')"
      ]
     },
     "execution_count": 82,
     "metadata": {},
     "output_type": "execute_result"
    }
   ],
   "source": [
    "df.columns"
   ]
  },
  {
   "cell_type": "code",
   "execution_count": 83,
   "metadata": {
    "scrolled": false
   },
   "outputs": [
    {
     "name": "stderr",
     "output_type": "stream",
     "text": [
      "/opt/conda/lib/python3.7/site-packages/ipykernel_launcher.py:1: FutureWarning: In a future version of pandas all arguments of DataFrame.drop except for the argument 'labels' will be keyword-only\n",
      "  \"\"\"Entry point for launching an IPython kernel.\n"
     ]
    }
   ],
   "source": [
    "df = df.drop(['first_name', 'last_name'], 1)"
   ]
  },
  {
   "cell_type": "code",
   "execution_count": 84,
   "metadata": {},
   "outputs": [],
   "source": [
    "df['money_spent_total'] = df['money_spent_total'].astype(int)"
   ]
  },
  {
   "cell_type": "markdown",
   "metadata": {
    "id": "YLJDY8zPGXR-"
   },
   "source": [
    "# 3. Исследовательский анализ данных"
   ]
  },
  {
   "cell_type": "markdown",
   "metadata": {
    "id": "jrdd2uqQuBhp"
   },
   "source": [
    "## 3.1 Отток клиентов"
   ]
  },
  {
   "cell_type": "code",
   "execution_count": 85,
   "metadata": {
    "colab": {
     "base_uri": "https://localhost:8080/"
    },
    "id": "Z62WNQdikJvz",
    "outputId": "16650b38-55ec-4d1d-acff-d73453db125c"
   },
   "outputs": [
    {
     "data": {
      "text/plain": [
       "24"
      ]
     },
     "execution_count": 85,
     "metadata": {},
     "output_type": "execute_result"
    }
   ],
   "source": [
    "len(churn_clients.groupby('user_id'))"
   ]
  },
  {
   "cell_type": "code",
   "execution_count": 86,
   "metadata": {
    "colab": {
     "base_uri": "https://localhost:8080/"
    },
    "id": "yecvBe0clAZb",
    "outputId": "dca1f58f-780c-44a5-a8a9-adbc5120c5d3"
   },
   "outputs": [
    {
     "name": "stdout",
     "output_type": "stream",
     "text": [
      "Процент клиентов, которые перестали пользоваться услугами данного оператора составляет 4.8%\n"
     ]
    }
   ],
   "source": [
    "print(f'Процент клиентов, которые перестали пользоваться услугами данного оператора составляет {24/500*100}%')"
   ]
  },
  {
   "cell_type": "markdown",
   "metadata": {
    "id": "Hpqmpov8kdXq"
   },
   "source": [
    "## 3.2 Сколько минут разговора, сколько сообщений и какой объём интернет-трафика требуется пользователям каждого тарифа в месяц?"
   ]
  },
  {
   "cell_type": "markdown",
   "metadata": {
    "id": "tOZpMkDAlKAb"
   },
   "source": [
    "Для того, чтобы ответить на этот вопрос, составим сводную таблицу"
   ]
  },
  {
   "cell_type": "code",
   "execution_count": 87,
   "metadata": {
    "id": "PyHsFin3n8Q-"
   },
   "outputs": [],
   "source": [
    "pd.set_option('display.float_format', lambda x: '%.2f' % x)"
   ]
  },
  {
   "cell_type": "code",
   "execution_count": 88,
   "metadata": {
    "colab": {
     "base_uri": "https://localhost:8080/"
    },
    "id": "Jdsxnv7wnsbX",
    "outputId": "344b5723-4d1c-4e34-c363-9ea11da5eb83",
    "scrolled": false
   },
   "outputs": [
    {
     "data": {
      "text/plain": [
       "Index(['user_id', 'age', 'churn_date', 'city', 'reg_date', 'tariff_name',\n",
       "       'month', 'reg_month', 'calls_count', 'minutes_sum', 'messages_count',\n",
       "       'mb_used_sum', 'gb_used_sum', 'messages_included',\n",
       "       'mb_per_month_included', 'minutes_included', 'rub_monthly_fee',\n",
       "       'rub_per_gb', 'rub_per_message', 'rub_per_minute',\n",
       "       'money_spent_minutes_over', 'money_spent_messages_over',\n",
       "       'money_spent_internet_over', 'money_spent_total', 'churn_month'],\n",
       "      dtype='object')"
      ]
     },
     "execution_count": 88,
     "metadata": {},
     "output_type": "execute_result"
    }
   ],
   "source": [
    "df.columns"
   ]
  },
  {
   "cell_type": "code",
   "execution_count": 89,
   "metadata": {
    "colab": {
     "base_uri": "https://localhost:8080/"
    },
    "id": "IePy-18OlWK0",
    "outputId": "3630795f-39f3-4890-cc14-c3604c92e6b7",
    "scrolled": false
   },
   "outputs": [
    {
     "name": "stderr",
     "output_type": "stream",
     "text": [
      "/opt/conda/lib/python3.7/site-packages/ipykernel_launcher.py:2: FutureWarning: Indexing with multiple keys (implicitly converted to a tuple of keys) will be deprecated, use a list instead.\n",
      "  \n"
     ]
    }
   ],
   "source": [
    "df_pivot_traffic_monthly = df.groupby(['tariff_name', 'month'])[\n",
    "                          'minutes_sum',\n",
    "                          'messages_count',\n",
    "                          'mb_used_sum'\n",
    "                          ].agg(['median', 'mean']).reset_index()"
   ]
  },
  {
   "cell_type": "code",
   "execution_count": 90,
   "metadata": {
    "id": "cbyZ7z6YrIvq"
   },
   "outputs": [],
   "source": [
    "df_pivot_traffic_monthly.columns = ['_'.join(col).rstrip('_') for col in df_pivot_traffic_monthly.columns.values]"
   ]
  },
  {
   "cell_type": "code",
   "execution_count": 91,
   "metadata": {
    "colab": {
     "base_uri": "https://localhost:8080/",
     "height": 793
    },
    "id": "H89UUTaHrSLc",
    "outputId": "f497dccb-26ac-4a29-967f-ec06dccdd561"
   },
   "outputs": [
    {
     "data": {
      "text/html": [
       "<div>\n",
       "<style scoped>\n",
       "    .dataframe tbody tr th:only-of-type {\n",
       "        vertical-align: middle;\n",
       "    }\n",
       "\n",
       "    .dataframe tbody tr th {\n",
       "        vertical-align: top;\n",
       "    }\n",
       "\n",
       "    .dataframe thead th {\n",
       "        text-align: right;\n",
       "    }\n",
       "</style>\n",
       "<table border=\"1\" class=\"dataframe\">\n",
       "  <thead>\n",
       "    <tr style=\"text-align: right;\">\n",
       "      <th></th>\n",
       "      <th>tariff_name</th>\n",
       "      <th>month</th>\n",
       "      <th>minutes_sum_median</th>\n",
       "      <th>minutes_sum_mean</th>\n",
       "      <th>messages_count_median</th>\n",
       "      <th>messages_count_mean</th>\n",
       "      <th>mb_used_sum_median</th>\n",
       "      <th>mb_used_sum_mean</th>\n",
       "    </tr>\n",
       "  </thead>\n",
       "  <tbody>\n",
       "    <tr>\n",
       "      <th>0</th>\n",
       "      <td>smart</td>\n",
       "      <td>2018-01-01</td>\n",
       "      <td>162.50</td>\n",
       "      <td>203.85</td>\n",
       "      <td>16.00</td>\n",
       "      <td>20.00</td>\n",
       "      <td>7096.19</td>\n",
       "      <td>8513.72</td>\n",
       "    </tr>\n",
       "    <tr>\n",
       "      <th>1</th>\n",
       "      <td>smart</td>\n",
       "      <td>2018-02-01</td>\n",
       "      <td>258.00</td>\n",
       "      <td>298.69</td>\n",
       "      <td>22.50</td>\n",
       "      <td>27.94</td>\n",
       "      <td>12553.71</td>\n",
       "      <td>11597.05</td>\n",
       "    </tr>\n",
       "    <tr>\n",
       "      <th>2</th>\n",
       "      <td>smart</td>\n",
       "      <td>2018-03-01</td>\n",
       "      <td>409.00</td>\n",
       "      <td>390.05</td>\n",
       "      <td>29.00</td>\n",
       "      <td>35.55</td>\n",
       "      <td>15670.25</td>\n",
       "      <td>15104.16</td>\n",
       "    </tr>\n",
       "    <tr>\n",
       "      <th>3</th>\n",
       "      <td>smart</td>\n",
       "      <td>2018-04-01</td>\n",
       "      <td>368.50</td>\n",
       "      <td>367.13</td>\n",
       "      <td>32.50</td>\n",
       "      <td>35.86</td>\n",
       "      <td>14087.65</td>\n",
       "      <td>13462.18</td>\n",
       "    </tr>\n",
       "    <tr>\n",
       "      <th>4</th>\n",
       "      <td>smart</td>\n",
       "      <td>2018-05-01</td>\n",
       "      <td>433.00</td>\n",
       "      <td>387.36</td>\n",
       "      <td>37.00</td>\n",
       "      <td>39.03</td>\n",
       "      <td>16323.94</td>\n",
       "      <td>15805.18</td>\n",
       "    </tr>\n",
       "    <tr>\n",
       "      <th>5</th>\n",
       "      <td>smart</td>\n",
       "      <td>2018-06-01</td>\n",
       "      <td>401.00</td>\n",
       "      <td>398.07</td>\n",
       "      <td>33.00</td>\n",
       "      <td>38.58</td>\n",
       "      <td>16077.44</td>\n",
       "      <td>15794.65</td>\n",
       "    </tr>\n",
       "    <tr>\n",
       "      <th>6</th>\n",
       "      <td>smart</td>\n",
       "      <td>2018-07-01</td>\n",
       "      <td>414.00</td>\n",
       "      <td>408.35</td>\n",
       "      <td>35.00</td>\n",
       "      <td>38.99</td>\n",
       "      <td>15925.29</td>\n",
       "      <td>15743.15</td>\n",
       "    </tr>\n",
       "    <tr>\n",
       "      <th>7</th>\n",
       "      <td>smart</td>\n",
       "      <td>2018-08-01</td>\n",
       "      <td>432.50</td>\n",
       "      <td>423.27</td>\n",
       "      <td>33.50</td>\n",
       "      <td>38.75</td>\n",
       "      <td>16834.71</td>\n",
       "      <td>16681.71</td>\n",
       "    </tr>\n",
       "    <tr>\n",
       "      <th>8</th>\n",
       "      <td>smart</td>\n",
       "      <td>2018-09-01</td>\n",
       "      <td>436.00</td>\n",
       "      <td>430.27</td>\n",
       "      <td>34.00</td>\n",
       "      <td>39.22</td>\n",
       "      <td>16028.43</td>\n",
       "      <td>16303.58</td>\n",
       "    </tr>\n",
       "    <tr>\n",
       "      <th>9</th>\n",
       "      <td>smart</td>\n",
       "      <td>2018-10-01</td>\n",
       "      <td>428.00</td>\n",
       "      <td>427.59</td>\n",
       "      <td>35.00</td>\n",
       "      <td>39.08</td>\n",
       "      <td>17225.33</td>\n",
       "      <td>16757.12</td>\n",
       "    </tr>\n",
       "    <tr>\n",
       "      <th>10</th>\n",
       "      <td>smart</td>\n",
       "      <td>2018-11-01</td>\n",
       "      <td>430.00</td>\n",
       "      <td>436.65</td>\n",
       "      <td>34.00</td>\n",
       "      <td>39.88</td>\n",
       "      <td>17013.80</td>\n",
       "      <td>16895.70</td>\n",
       "    </tr>\n",
       "    <tr>\n",
       "      <th>11</th>\n",
       "      <td>smart</td>\n",
       "      <td>2018-12-01</td>\n",
       "      <td>471.00</td>\n",
       "      <td>479.99</td>\n",
       "      <td>38.00</td>\n",
       "      <td>42.26</td>\n",
       "      <td>17713.51</td>\n",
       "      <td>18113.66</td>\n",
       "    </tr>\n",
       "    <tr>\n",
       "      <th>12</th>\n",
       "      <td>ultra</td>\n",
       "      <td>2018-01-01</td>\n",
       "      <td>382.00</td>\n",
       "      <td>428.11</td>\n",
       "      <td>50.00</td>\n",
       "      <td>43.43</td>\n",
       "      <td>14791.37</td>\n",
       "      <td>13140.68</td>\n",
       "    </tr>\n",
       "    <tr>\n",
       "      <th>13</th>\n",
       "      <td>ultra</td>\n",
       "      <td>2018-02-01</td>\n",
       "      <td>168.00</td>\n",
       "      <td>297.12</td>\n",
       "      <td>35.50</td>\n",
       "      <td>32.94</td>\n",
       "      <td>9654.83</td>\n",
       "      <td>12846.48</td>\n",
       "    </tr>\n",
       "    <tr>\n",
       "      <th>14</th>\n",
       "      <td>ultra</td>\n",
       "      <td>2018-03-01</td>\n",
       "      <td>403.00</td>\n",
       "      <td>489.65</td>\n",
       "      <td>27.00</td>\n",
       "      <td>47.80</td>\n",
       "      <td>17495.18</td>\n",
       "      <td>17535.55</td>\n",
       "    </tr>\n",
       "    <tr>\n",
       "      <th>15</th>\n",
       "      <td>ultra</td>\n",
       "      <td>2018-04-01</td>\n",
       "      <td>485.00</td>\n",
       "      <td>475.30</td>\n",
       "      <td>34.00</td>\n",
       "      <td>44.51</td>\n",
       "      <td>16645.78</td>\n",
       "      <td>16828.13</td>\n",
       "    </tr>\n",
       "    <tr>\n",
       "      <th>16</th>\n",
       "      <td>ultra</td>\n",
       "      <td>2018-05-01</td>\n",
       "      <td>527.00</td>\n",
       "      <td>534.25</td>\n",
       "      <td>34.00</td>\n",
       "      <td>48.77</td>\n",
       "      <td>18914.02</td>\n",
       "      <td>19656.53</td>\n",
       "    </tr>\n",
       "    <tr>\n",
       "      <th>17</th>\n",
       "      <td>ultra</td>\n",
       "      <td>2018-06-01</td>\n",
       "      <td>483.00</td>\n",
       "      <td>497.47</td>\n",
       "      <td>39.00</td>\n",
       "      <td>52.31</td>\n",
       "      <td>19660.38</td>\n",
       "      <td>19152.95</td>\n",
       "    </tr>\n",
       "    <tr>\n",
       "      <th>18</th>\n",
       "      <td>ultra</td>\n",
       "      <td>2018-07-01</td>\n",
       "      <td>570.00</td>\n",
       "      <td>564.40</td>\n",
       "      <td>51.00</td>\n",
       "      <td>62.14</td>\n",
       "      <td>20016.49</td>\n",
       "      <td>20723.39</td>\n",
       "    </tr>\n",
       "    <tr>\n",
       "      <th>19</th>\n",
       "      <td>ultra</td>\n",
       "      <td>2018-08-01</td>\n",
       "      <td>512.00</td>\n",
       "      <td>530.61</td>\n",
       "      <td>47.50</td>\n",
       "      <td>58.90</td>\n",
       "      <td>19010.65</td>\n",
       "      <td>19760.73</td>\n",
       "    </tr>\n",
       "    <tr>\n",
       "      <th>20</th>\n",
       "      <td>ultra</td>\n",
       "      <td>2018-09-01</td>\n",
       "      <td>531.00</td>\n",
       "      <td>558.88</td>\n",
       "      <td>56.00</td>\n",
       "      <td>63.29</td>\n",
       "      <td>19951.26</td>\n",
       "      <td>19372.74</td>\n",
       "    </tr>\n",
       "    <tr>\n",
       "      <th>21</th>\n",
       "      <td>ultra</td>\n",
       "      <td>2018-10-01</td>\n",
       "      <td>540.00</td>\n",
       "      <td>581.73</td>\n",
       "      <td>61.00</td>\n",
       "      <td>69.78</td>\n",
       "      <td>20355.26</td>\n",
       "      <td>20209.64</td>\n",
       "    </tr>\n",
       "    <tr>\n",
       "      <th>22</th>\n",
       "      <td>ultra</td>\n",
       "      <td>2018-11-01</td>\n",
       "      <td>552.00</td>\n",
       "      <td>562.36</td>\n",
       "      <td>58.00</td>\n",
       "      <td>66.16</td>\n",
       "      <td>18512.22</td>\n",
       "      <td>19935.59</td>\n",
       "    </tr>\n",
       "    <tr>\n",
       "      <th>23</th>\n",
       "      <td>ultra</td>\n",
       "      <td>2018-12-01</td>\n",
       "      <td>592.00</td>\n",
       "      <td>614.93</td>\n",
       "      <td>61.00</td>\n",
       "      <td>72.01</td>\n",
       "      <td>21997.45</td>\n",
       "      <td>21951.09</td>\n",
       "    </tr>\n",
       "  </tbody>\n",
       "</table>\n",
       "</div>"
      ],
      "text/plain": [
       "   tariff_name      month  minutes_sum_median  minutes_sum_mean  \\\n",
       "0        smart 2018-01-01              162.50            203.85   \n",
       "1        smart 2018-02-01              258.00            298.69   \n",
       "2        smart 2018-03-01              409.00            390.05   \n",
       "3        smart 2018-04-01              368.50            367.13   \n",
       "4        smart 2018-05-01              433.00            387.36   \n",
       "5        smart 2018-06-01              401.00            398.07   \n",
       "6        smart 2018-07-01              414.00            408.35   \n",
       "7        smart 2018-08-01              432.50            423.27   \n",
       "8        smart 2018-09-01              436.00            430.27   \n",
       "9        smart 2018-10-01              428.00            427.59   \n",
       "10       smart 2018-11-01              430.00            436.65   \n",
       "11       smart 2018-12-01              471.00            479.99   \n",
       "12       ultra 2018-01-01              382.00            428.11   \n",
       "13       ultra 2018-02-01              168.00            297.12   \n",
       "14       ultra 2018-03-01              403.00            489.65   \n",
       "15       ultra 2018-04-01              485.00            475.30   \n",
       "16       ultra 2018-05-01              527.00            534.25   \n",
       "17       ultra 2018-06-01              483.00            497.47   \n",
       "18       ultra 2018-07-01              570.00            564.40   \n",
       "19       ultra 2018-08-01              512.00            530.61   \n",
       "20       ultra 2018-09-01              531.00            558.88   \n",
       "21       ultra 2018-10-01              540.00            581.73   \n",
       "22       ultra 2018-11-01              552.00            562.36   \n",
       "23       ultra 2018-12-01              592.00            614.93   \n",
       "\n",
       "    messages_count_median  messages_count_mean  mb_used_sum_median  \\\n",
       "0                   16.00                20.00             7096.19   \n",
       "1                   22.50                27.94            12553.71   \n",
       "2                   29.00                35.55            15670.25   \n",
       "3                   32.50                35.86            14087.65   \n",
       "4                   37.00                39.03            16323.94   \n",
       "5                   33.00                38.58            16077.44   \n",
       "6                   35.00                38.99            15925.29   \n",
       "7                   33.50                38.75            16834.71   \n",
       "8                   34.00                39.22            16028.43   \n",
       "9                   35.00                39.08            17225.33   \n",
       "10                  34.00                39.88            17013.80   \n",
       "11                  38.00                42.26            17713.51   \n",
       "12                  50.00                43.43            14791.37   \n",
       "13                  35.50                32.94             9654.83   \n",
       "14                  27.00                47.80            17495.18   \n",
       "15                  34.00                44.51            16645.78   \n",
       "16                  34.00                48.77            18914.02   \n",
       "17                  39.00                52.31            19660.38   \n",
       "18                  51.00                62.14            20016.49   \n",
       "19                  47.50                58.90            19010.65   \n",
       "20                  56.00                63.29            19951.26   \n",
       "21                  61.00                69.78            20355.26   \n",
       "22                  58.00                66.16            18512.22   \n",
       "23                  61.00                72.01            21997.45   \n",
       "\n",
       "    mb_used_sum_mean  \n",
       "0            8513.72  \n",
       "1           11597.05  \n",
       "2           15104.16  \n",
       "3           13462.18  \n",
       "4           15805.18  \n",
       "5           15794.65  \n",
       "6           15743.15  \n",
       "7           16681.71  \n",
       "8           16303.58  \n",
       "9           16757.12  \n",
       "10          16895.70  \n",
       "11          18113.66  \n",
       "12          13140.68  \n",
       "13          12846.48  \n",
       "14          17535.55  \n",
       "15          16828.13  \n",
       "16          19656.53  \n",
       "17          19152.95  \n",
       "18          20723.39  \n",
       "19          19760.73  \n",
       "20          19372.74  \n",
       "21          20209.64  \n",
       "22          19935.59  \n",
       "23          21951.09  "
      ]
     },
     "execution_count": 91,
     "metadata": {},
     "output_type": "execute_result"
    }
   ],
   "source": [
    "df_pivot_traffic_monthly"
   ]
  },
  {
   "cell_type": "code",
   "execution_count": 92,
   "metadata": {
    "colab": {
     "base_uri": "https://localhost:8080/",
     "height": 312
    },
    "id": "d-lvlyoisDxC",
    "outputId": "8642f8c2-f66b-4079-ebeb-64178a436528"
   },
   "outputs": [
    {
     "data": {
      "text/plain": [
       "<function matplotlib.pyplot.show(*args, **kw)>"
      ]
     },
     "execution_count": 92,
     "metadata": {},
     "output_type": "execute_result"
    },
    {
     "data": {
      "image/png": "[encoded data removed]",
      "text/plain": [
       "<Figure size 432x288 with 1 Axes>"
      ]
     },
     "metadata": {
      "needs_background": "light"
     },
     "output_type": "display_data"
    }
   ],
   "source": [
    "sns.lineplot(data=df_pivot_traffic_monthly, x='month', y='minutes_sum_mean', hue='tariff_name', palette='bright', legend='full')\n",
    "sns.lineplot(data=df_pivot_traffic_monthly, x='month', y='minutes_sum_median', hue='tariff_name')\n",
    "plt.ylim(0)\n",
    "plt.title('Потраченные минуты (среднее и медиана)')\n",
    "plt.xlabel('Месяцы')\n",
    "plt.ylabel('Минуты')\n",
    "plt.show"
   ]
  },
  {
   "cell_type": "markdown",
   "metadata": {
    "id": "cJmvYrnnyCXq"
   },
   "source": [
    "На графике видно, что количество израсходованных минут увеличивается в течение года. Пользователи тарифа ультра больше тратят минут, чем пользователи тарифа смарт."
   ]
  },
  {
   "cell_type": "code",
   "execution_count": 93,
   "metadata": {
    "colab": {
     "base_uri": "https://localhost:8080/",
     "height": 312
    },
    "id": "bfO0kS1F3qx4",
    "outputId": "6978f2b5-8a1f-4af4-f403-ac4da89ead40"
   },
   "outputs": [
    {
     "data": {
      "text/plain": [
       "<function matplotlib.pyplot.show(*args, **kw)>"
      ]
     },
     "execution_count": 93,
     "metadata": {},
     "output_type": "execute_result"
    },
    {
     "data": {
      "image/png": "[encoded data removed]",
      "text/plain": [
       "<Figure size 432x288 with 1 Axes>"
      ]
     },
     "metadata": {
      "needs_background": "light"
     },
     "output_type": "display_data"
    }
   ],
   "source": [
    "sns.lineplot(data=df_pivot_traffic_monthly, x='month', y='messages_count_mean', hue='tariff_name', palette='bright', legend='full')\n",
    "sns.lineplot(data=df_pivot_traffic_monthly, x='month', y='messages_count_median', hue='tariff_name')\n",
    "plt.ylim(0)\n",
    "plt.title('Количество сообщений (среднее и медиана)')\n",
    "plt.xlabel('Месяцы')\n",
    "plt.ylabel('Количество сообщений')\n",
    "plt.show"
   ]
  },
  {
   "cell_type": "markdown",
   "metadata": {
    "id": "_3PPyuyy3zlT"
   },
   "source": [
    "Количество сообщений тоже увеличивается в течение года"
   ]
  },
  {
   "cell_type": "code",
   "execution_count": 94,
   "metadata": {
    "colab": {
     "base_uri": "https://localhost:8080/",
     "height": 312
    },
    "id": "mIU4wPX938gs",
    "outputId": "cfbdf612-6dd4-424e-d9e9-b88339250f0f"
   },
   "outputs": [
    {
     "data": {
      "text/plain": [
       "<function matplotlib.pyplot.show(*args, **kw)>"
      ]
     },
     "execution_count": 94,
     "metadata": {},
     "output_type": "execute_result"
    },
    {
     "data": {
      "image/png": "[encoded data removed]",
      "text/plain": [
       "<Figure size 432x288 with 1 Axes>"
      ]
     },
     "metadata": {
      "needs_background": "light"
     },
     "output_type": "display_data"
    }
   ],
   "source": [
    "sns.lineplot(data=df_pivot_traffic_monthly, x='month', y='mb_used_sum_mean', hue='tariff_name', palette='bright', legend='full')\n",
    "sns.lineplot(data=df_pivot_traffic_monthly, x='month', y='mb_used_sum_median', hue='tariff_name')\n",
    "plt.ylim(0)\n",
    "plt.title('Интернет-трафик (среднее и медиана)')\n",
    "plt.xlabel('Месяцы')\n",
    "plt.ylabel('Мегабайты')\n",
    "plt.show"
   ]
  },
  {
   "cell_type": "markdown",
   "metadata": {
    "id": "EDm2CrHdYSSb"
   },
   "source": [
    "Количество израсходованных минут, мегабайт и смс в течение года растет. Пользователи тарифа \"Ультра\" больше расходуют минут, мегабайт и смс."
   ]
  },
  {
   "cell_type": "code",
   "execution_count": 95,
   "metadata": {
    "colab": {
     "base_uri": "https://localhost:8080/",
     "height": 142
    },
    "id": "DzVMcoa9SShF",
    "outputId": "12b312cc-c057-407e-b329-a5d0c2d771ad"
   },
   "outputs": [
    {
     "data": {
      "text/html": [
       "<div>\n",
       "<style scoped>\n",
       "    .dataframe tbody tr th:only-of-type {\n",
       "        vertical-align: middle;\n",
       "    }\n",
       "\n",
       "    .dataframe tbody tr th {\n",
       "        vertical-align: top;\n",
       "    }\n",
       "\n",
       "    .dataframe thead tr th {\n",
       "        text-align: left;\n",
       "    }\n",
       "</style>\n",
       "<table border=\"1\" class=\"dataframe\">\n",
       "  <thead>\n",
       "    <tr>\n",
       "      <th></th>\n",
       "      <th>tariff_name</th>\n",
       "      <th colspan=\"2\" halign=\"left\">minutes_sum</th>\n",
       "      <th colspan=\"2\" halign=\"left\">messages_count</th>\n",
       "      <th colspan=\"2\" halign=\"left\">mb_used_sum</th>\n",
       "    </tr>\n",
       "    <tr>\n",
       "      <th></th>\n",
       "      <th></th>\n",
       "      <th>mean</th>\n",
       "      <th>median</th>\n",
       "      <th>mean</th>\n",
       "      <th>median</th>\n",
       "      <th>mean</th>\n",
       "      <th>median</th>\n",
       "    </tr>\n",
       "  </thead>\n",
       "  <tbody>\n",
       "    <tr>\n",
       "      <th>0</th>\n",
       "      <td>smart</td>\n",
       "      <td>419.06</td>\n",
       "      <td>423.00</td>\n",
       "      <td>38.72</td>\n",
       "      <td>34.00</td>\n",
       "      <td>16215.66</td>\n",
       "      <td>16507.74</td>\n",
       "    </tr>\n",
       "    <tr>\n",
       "      <th>1</th>\n",
       "      <td>ultra</td>\n",
       "      <td>545.45</td>\n",
       "      <td>528.00</td>\n",
       "      <td>61.16</td>\n",
       "      <td>51.00</td>\n",
       "      <td>19668.49</td>\n",
       "      <td>19394.29</td>\n",
       "    </tr>\n",
       "  </tbody>\n",
       "</table>\n",
       "</div>"
      ],
      "text/plain": [
       "  tariff_name minutes_sum        messages_count        mb_used_sum         \n",
       "                     mean median           mean median        mean   median\n",
       "0       smart      419.06 423.00          38.72  34.00    16215.66 16507.74\n",
       "1       ultra      545.45 528.00          61.16  51.00    19668.49 19394.29"
      ]
     },
     "execution_count": 95,
     "metadata": {},
     "output_type": "execute_result"
    }
   ],
   "source": [
    "df.groupby('tariff_name')[['minutes_sum', 'messages_count', 'mb_used_sum']].agg(['mean', 'median']).reset_index()"
   ]
  },
  {
   "cell_type": "markdown",
   "metadata": {
    "id": "Lb6MKT9iZC6l"
   },
   "source": [
    "Такое количество минут, сообщений, мегабайт каждый месяц в среднем требуется пользователям разных тарифов. Интересно, что среднее и медиана почти схожи. Это говорит о том, что значения \"в целом\" распределены нормально."
   ]
  },
  {
   "cell_type": "code",
   "execution_count": 96,
   "metadata": {
    "id": "Geok_E2YruBh"
   },
   "outputs": [],
   "source": [
    "var_smart_minutes = np.var(df[df['tariff_name']=='smart']['minutes_sum'], ddof=1)"
   ]
  },
  {
   "cell_type": "code",
   "execution_count": 97,
   "metadata": {
    "id": "V3y9EsMHsv_T"
   },
   "outputs": [],
   "source": [
    "var_ultra_minutes = np.var(df[df['tariff_name']=='ultra']['minutes_sum'], ddof=1)"
   ]
  },
  {
   "cell_type": "code",
   "execution_count": 98,
   "metadata": {
    "id": "aANeBtwOs1Ar"
   },
   "outputs": [],
   "source": [
    "var_smart_messages = np.var(df[df['tariff_name']=='smart']['messages_count'], ddof=1)"
   ]
  },
  {
   "cell_type": "code",
   "execution_count": 99,
   "metadata": {
    "id": "A9u_ELJKuB9D"
   },
   "outputs": [],
   "source": [
    "var_ultra_messages = np.var(df[df['tariff_name']=='ultra']['messages_count'], ddof=1)"
   ]
  },
  {
   "cell_type": "code",
   "execution_count": 100,
   "metadata": {
    "id": "eP91AB_kuHTD"
   },
   "outputs": [],
   "source": [
    "var_smart_mb = np.var(df[df['tariff_name']=='smart']['mb_used_sum'], ddof=1)"
   ]
  },
  {
   "cell_type": "code",
   "execution_count": 101,
   "metadata": {
    "id": "iqhbGNQruJrz"
   },
   "outputs": [],
   "source": [
    "var_ultra_mb = np.var(df[df['tariff_name']=='ultra']['mb_used_sum'], ddof=1)"
   ]
  },
  {
   "cell_type": "code",
   "execution_count": 102,
   "metadata": {
    "id": "WDNrfAkMuTv-"
   },
   "outputs": [],
   "source": [
    "std_smart_minutes = np.sqrt(var_smart_minutes)"
   ]
  },
  {
   "cell_type": "code",
   "execution_count": 103,
   "metadata": {
    "id": "yu_vWJXrvQ-_"
   },
   "outputs": [],
   "source": [
    "std_ultra_minutes = np.sqrt(var_ultra_minutes)"
   ]
  },
  {
   "cell_type": "code",
   "execution_count": 104,
   "metadata": {
    "id": "ZBsKFzyjvZsk"
   },
   "outputs": [],
   "source": [
    "std_smart_messages = np.sqrt(var_smart_messages)"
   ]
  },
  {
   "cell_type": "code",
   "execution_count": 105,
   "metadata": {
    "id": "CNdSYvF7vkkw"
   },
   "outputs": [],
   "source": [
    "std_ultra_messages = np.sqrt(var_ultra_messages)"
   ]
  },
  {
   "cell_type": "code",
   "execution_count": 106,
   "metadata": {
    "id": "OtDYCfutvsUd"
   },
   "outputs": [],
   "source": [
    "std_smart_mb = np.sqrt(var_smart_mb)"
   ]
  },
  {
   "cell_type": "code",
   "execution_count": 107,
   "metadata": {
    "id": "8PG6I4DXzoxh"
   },
   "outputs": [],
   "source": [
    "std_ultra_mb = np.sqrt(var_ultra_mb)"
   ]
  },
  {
   "cell_type": "markdown",
   "metadata": {
    "id": "2ET32i4R9dFZ"
   },
   "source": [
    "Построим таблицы с дисперсией и стандартным отклонением в разрезе тарифов"
   ]
  },
  {
   "cell_type": "code",
   "execution_count": 108,
   "metadata": {
    "id": "pMZvZlTjzzYa"
   },
   "outputs": [],
   "source": [
    "tariffs_var_table = pd.DataFrame(data=[[\n",
    "                                                'smart',\n",
    "                                                var_smart_minutes,\n",
    "                                                var_smart_messages,\n",
    "                                                var_smart_mb\n",
    "                                                ],\n",
    "                                                [\n",
    "                                                 'ultra',\n",
    "                                                 var_ultra_minutes,\n",
    "                                                 var_ultra_messages,\n",
    "                                                 var_ultra_mb\n",
    "                                                ]], columns=[\n",
    "                                                            'tariff_name',\n",
    "                                                            'var_minutes',\n",
    "                                                            'var_messages',\n",
    "                                                            'var_mb']\n",
    ")"
   ]
  },
  {
   "cell_type": "code",
   "execution_count": 109,
   "metadata": {
    "colab": {
     "base_uri": "https://localhost:8080/",
     "height": 111
    },
    "id": "ObqKoMwA7nZc",
    "outputId": "93b8e274-5198-4f13-d472-e5ee02bb001b"
   },
   "outputs": [
    {
     "data": {
      "text/html": [
       "<div>\n",
       "<style scoped>\n",
       "    .dataframe tbody tr th:only-of-type {\n",
       "        vertical-align: middle;\n",
       "    }\n",
       "\n",
       "    .dataframe tbody tr th {\n",
       "        vertical-align: top;\n",
       "    }\n",
       "\n",
       "    .dataframe thead th {\n",
       "        text-align: right;\n",
       "    }\n",
       "</style>\n",
       "<table border=\"1\" class=\"dataframe\">\n",
       "  <thead>\n",
       "    <tr style=\"text-align: right;\">\n",
       "      <th></th>\n",
       "      <th>tariff_name</th>\n",
       "      <th>var_minutes</th>\n",
       "      <th>var_messages</th>\n",
       "      <th>var_mb</th>\n",
       "    </tr>\n",
       "  </thead>\n",
       "  <tbody>\n",
       "    <tr>\n",
       "      <th>0</th>\n",
       "      <td>smart</td>\n",
       "      <td>35844.19</td>\n",
       "      <td>717.59</td>\n",
       "      <td>34359951.68</td>\n",
       "    </tr>\n",
       "    <tr>\n",
       "      <th>1</th>\n",
       "      <td>ultra</td>\n",
       "      <td>94203.42</td>\n",
       "      <td>2109.66</td>\n",
       "      <td>98864248.95</td>\n",
       "    </tr>\n",
       "  </tbody>\n",
       "</table>\n",
       "</div>"
      ],
      "text/plain": [
       "  tariff_name  var_minutes  var_messages      var_mb\n",
       "0       smart     35844.19        717.59 34359951.68\n",
       "1       ultra     94203.42       2109.66 98864248.95"
      ]
     },
     "execution_count": 109,
     "metadata": {},
     "output_type": "execute_result"
    }
   ],
   "source": [
    "tariffs_var_table"
   ]
  },
  {
   "cell_type": "code",
   "execution_count": 110,
   "metadata": {
    "scrolled": true
   },
   "outputs": [
    {
     "data": {
      "text/html": [
       "<div>\n",
       "<style scoped>\n",
       "    .dataframe tbody tr th:only-of-type {\n",
       "        vertical-align: middle;\n",
       "    }\n",
       "\n",
       "    .dataframe tbody tr th {\n",
       "        vertical-align: top;\n",
       "    }\n",
       "\n",
       "    .dataframe thead tr th {\n",
       "        text-align: left;\n",
       "    }\n",
       "</style>\n",
       "<table border=\"1\" class=\"dataframe\">\n",
       "  <thead>\n",
       "    <tr>\n",
       "      <th></th>\n",
       "      <th>tariff_name</th>\n",
       "      <th colspan=\"4\" halign=\"left\">minutes_sum</th>\n",
       "      <th colspan=\"4\" halign=\"left\">messages_count</th>\n",
       "      <th colspan=\"4\" halign=\"left\">mb_used_sum</th>\n",
       "    </tr>\n",
       "    <tr>\n",
       "      <th></th>\n",
       "      <th></th>\n",
       "      <th>mean</th>\n",
       "      <th>median</th>\n",
       "      <th>var</th>\n",
       "      <th>std</th>\n",
       "      <th>mean</th>\n",
       "      <th>median</th>\n",
       "      <th>var</th>\n",
       "      <th>std</th>\n",
       "      <th>mean</th>\n",
       "      <th>median</th>\n",
       "      <th>var</th>\n",
       "      <th>std</th>\n",
       "    </tr>\n",
       "  </thead>\n",
       "  <tbody>\n",
       "    <tr>\n",
       "      <th>0</th>\n",
       "      <td>smart</td>\n",
       "      <td>419.06</td>\n",
       "      <td>423.00</td>\n",
       "      <td>35844.19</td>\n",
       "      <td>189.33</td>\n",
       "      <td>38.72</td>\n",
       "      <td>34.00</td>\n",
       "      <td>717.59</td>\n",
       "      <td>26.79</td>\n",
       "      <td>16215.66</td>\n",
       "      <td>16507.74</td>\n",
       "      <td>34359951.68</td>\n",
       "      <td>5861.74</td>\n",
       "    </tr>\n",
       "    <tr>\n",
       "      <th>1</th>\n",
       "      <td>ultra</td>\n",
       "      <td>545.45</td>\n",
       "      <td>528.00</td>\n",
       "      <td>94203.42</td>\n",
       "      <td>306.93</td>\n",
       "      <td>61.16</td>\n",
       "      <td>51.00</td>\n",
       "      <td>2109.66</td>\n",
       "      <td>45.93</td>\n",
       "      <td>19668.49</td>\n",
       "      <td>19394.29</td>\n",
       "      <td>98864248.95</td>\n",
       "      <td>9943.05</td>\n",
       "    </tr>\n",
       "  </tbody>\n",
       "</table>\n",
       "</div>"
      ],
      "text/plain": [
       "  tariff_name minutes_sum                        messages_count         \\\n",
       "                     mean median      var    std           mean median   \n",
       "0       smart      419.06 423.00 35844.19 189.33          38.72  34.00   \n",
       "1       ultra      545.45 528.00 94203.42 306.93          61.16  51.00   \n",
       "\n",
       "                mb_used_sum                               \n",
       "      var   std        mean   median         var     std  \n",
       "0  717.59 26.79    16215.66 16507.74 34359951.68 5861.74  \n",
       "1 2109.66 45.93    19668.49 19394.29 98864248.95 9943.05  "
      ]
     },
     "execution_count": 110,
     "metadata": {},
     "output_type": "execute_result"
    }
   ],
   "source": [
    "df.groupby('tariff_name')[['minutes_sum', 'messages_count', 'mb_used_sum']].agg(['mean', 'median', 'var', 'std']).reset_index()"
   ]
  },
  {
   "cell_type": "code",
   "execution_count": 111,
   "metadata": {
    "id": "oJSvJzud8IU5"
   },
   "outputs": [],
   "source": [
    "tariffs_std_table = pd.DataFrame(data=[[\n",
    "                                        'smart',\n",
    "                                        std_smart_minutes,\n",
    "                                        std_smart_messages,\n",
    "                                        std_smart_mb\n",
    "                                        ],\n",
    "                                        [\n",
    "                                         'ultra',\n",
    "                                         std_ultra_minutes,\n",
    "                                         std_ultra_messages,\n",
    "                                         std_ultra_mb\n",
    "                                        ]], columns=[\n",
    "                                                   'tariff_name',\n",
    "                                                   'std_minutes',\n",
    "                                                   'std_messages',\n",
    "                                                   'std_mb'\n",
    "                                                   ])"
   ]
  },
  {
   "cell_type": "code",
   "execution_count": 112,
   "metadata": {
    "colab": {
     "base_uri": "https://localhost:8080/",
     "height": 111
    },
    "id": "4VJ_umqC9GXL",
    "outputId": "b6ffa280-4935-4e07-af50-caa349ef208f"
   },
   "outputs": [
    {
     "data": {
      "text/html": [
       "<div>\n",
       "<style scoped>\n",
       "    .dataframe tbody tr th:only-of-type {\n",
       "        vertical-align: middle;\n",
       "    }\n",
       "\n",
       "    .dataframe tbody tr th {\n",
       "        vertical-align: top;\n",
       "    }\n",
       "\n",
       "    .dataframe thead th {\n",
       "        text-align: right;\n",
       "    }\n",
       "</style>\n",
       "<table border=\"1\" class=\"dataframe\">\n",
       "  <thead>\n",
       "    <tr style=\"text-align: right;\">\n",
       "      <th></th>\n",
       "      <th>tariff_name</th>\n",
       "      <th>std_minutes</th>\n",
       "      <th>std_messages</th>\n",
       "      <th>std_mb</th>\n",
       "    </tr>\n",
       "  </thead>\n",
       "  <tbody>\n",
       "    <tr>\n",
       "      <th>0</th>\n",
       "      <td>smart</td>\n",
       "      <td>189.33</td>\n",
       "      <td>26.79</td>\n",
       "      <td>5861.74</td>\n",
       "    </tr>\n",
       "    <tr>\n",
       "      <th>1</th>\n",
       "      <td>ultra</td>\n",
       "      <td>306.93</td>\n",
       "      <td>45.93</td>\n",
       "      <td>9943.05</td>\n",
       "    </tr>\n",
       "  </tbody>\n",
       "</table>\n",
       "</div>"
      ],
      "text/plain": [
       "  tariff_name  std_minutes  std_messages  std_mb\n",
       "0       smart       189.33         26.79 5861.74\n",
       "1       ultra       306.93         45.93 9943.05"
      ]
     },
     "execution_count": 112,
     "metadata": {},
     "output_type": "execute_result"
    }
   ],
   "source": [
    "tariffs_std_table"
   ]
  },
  {
   "cell_type": "markdown",
   "metadata": {
    "id": "AVFq5fON9QT2"
   },
   "source": [
    "Построим гистограммы и определим распределение данных"
   ]
  },
  {
   "cell_type": "code",
   "execution_count": 113,
   "metadata": {
    "colab": {
     "base_uri": "https://localhost:8080/",
     "height": 295
    },
    "id": "YYmTq2TD9tzf",
    "outputId": "a3ffe10c-26e0-429c-f28d-bd875097c9da"
   },
   "outputs": [
    {
     "data": {
      "image/png": "[encoded data removed]",
      "text/plain": [
       "<Figure size 432x288 with 1 Axes>"
      ]
     },
     "metadata": {
      "needs_background": "light"
     },
     "output_type": "display_data"
    }
   ],
   "source": [
    "df[df['tariff_name']=='smart']['minutes_sum'].hist(bins=30)\n",
    "plt.xlabel('минуты')\n",
    "plt.ylabel('число')\n",
    "plt.title('Смарт')\n",
    "plt.show()"
   ]
  },
  {
   "cell_type": "markdown",
   "metadata": {
    "id": "PI2gdZaABH03"
   },
   "source": [
    "Минуты звонков по тарифу смарт за месяц распределены \"в целом\" нормально, скошенность вправо."
   ]
  },
  {
   "cell_type": "code",
   "execution_count": 114,
   "metadata": {
    "colab": {
     "base_uri": "https://localhost:8080/",
     "height": 295
    },
    "id": "LSV8_e8eBjgZ",
    "outputId": "18a2398f-8121-4104-9b17-83a3370fce35"
   },
   "outputs": [
    {
     "data": {
      "image/png": "[encoded data removed]",
      "text/plain": [
       "<Figure size 432x288 with 1 Axes>"
      ]
     },
     "metadata": {
      "needs_background": "light"
     },
     "output_type": "display_data"
    }
   ],
   "source": [
    "df[df['tariff_name']=='ultra']['minutes_sum'].hist(bins=50)\n",
    "plt.xlabel('минуты')\n",
    "plt.ylabel('число')\n",
    "plt.title('Ультра')\n",
    "plt.show()"
   ]
  },
  {
   "cell_type": "markdown",
   "metadata": {
    "id": "jtiAZao8C9WY"
   },
   "source": [
    "Для тарифа \"Ультра\" пик ярко выражен, скошенность тоже вправо"
   ]
  },
  {
   "cell_type": "code",
   "execution_count": 115,
   "metadata": {
    "colab": {
     "base_uri": "https://localhost:8080/",
     "height": 295
    },
    "id": "rJnCgEUnDMyG",
    "outputId": "66091d3c-cc54-40a3-9573-23c2c60d8bf0"
   },
   "outputs": [
    {
     "data": {
      "image/png": "[encoded data removed]",
      "text/plain": [
       "<Figure size 432x288 with 1 Axes>"
      ]
     },
     "metadata": {
      "needs_background": "light"
     },
     "output_type": "display_data"
    }
   ],
   "source": [
    "df[df['tariff_name']=='smart']['messages_count'].hist(bins=10)\n",
    "plt.xlabel('количество сообщений')\n",
    "plt.ylabel('число')\n",
    "plt.title('Смарт')\n",
    "plt.show()"
   ]
  },
  {
   "cell_type": "code",
   "execution_count": 116,
   "metadata": {
    "colab": {
     "base_uri": "https://localhost:8080/",
     "height": 295
    },
    "id": "GUnkOEAYDY8M",
    "outputId": "b1f5ee84-48bc-4746-8366-77f40e3dbb3a"
   },
   "outputs": [
    {
     "data": {
      "image/png": "[encoded data removed]",
      "text/plain": [
       "<Figure size 432x288 with 1 Axes>"
      ]
     },
     "metadata": {
      "needs_background": "light"
     },
     "output_type": "display_data"
    }
   ],
   "source": [
    "df[df['tariff_name']=='ultra']['messages_count'].hist(bins=10)\n",
    "plt.xlabel('количество сообщений')\n",
    "plt.ylabel('число')\n",
    "plt.title('Ультра')\n",
    "plt.show()"
   ]
  },
  {
   "cell_type": "code",
   "execution_count": 117,
   "metadata": {
    "colab": {
     "base_uri": "https://localhost:8080/",
     "height": 295
    },
    "id": "391z3vzcDebe",
    "outputId": "951e5d7a-0cc0-45b6-8478-b6e20018701f"
   },
   "outputs": [
    {
     "data": {
      "image/png": "[encoded data removed]",
      "text/plain": [
       "<Figure size 432x288 with 1 Axes>"
      ]
     },
     "metadata": {
      "needs_background": "light"
     },
     "output_type": "display_data"
    }
   ],
   "source": [
    "df[df['tariff_name']=='smart']['mb_used_sum'].hist(bins=30)\n",
    "plt.xlabel('мегабайты')\n",
    "plt.ylabel('число')\n",
    "plt.title('Смарт')\n",
    "plt.show()"
   ]
  },
  {
   "cell_type": "code",
   "execution_count": 118,
   "metadata": {
    "colab": {
     "base_uri": "https://localhost:8080/",
     "height": 295
    },
    "id": "eTN058pBDxy4",
    "outputId": "5d6e04b4-7929-4951-c0c3-f619e050459e"
   },
   "outputs": [
    {
     "data": {
      "image/png": "[encoded data removed]",
      "text/plain": [
       "<Figure size 432x288 with 1 Axes>"
      ]
     },
     "metadata": {
      "needs_background": "light"
     },
     "output_type": "display_data"
    }
   ],
   "source": [
    "df[df['tariff_name']=='ultra']['mb_used_sum'].hist(bins=20)\n",
    "plt.xlabel('мегабайты')\n",
    "plt.ylabel('число')\n",
    "plt.title('Ультра')\n",
    "plt.show()"
   ]
  },
  {
   "cell_type": "code",
   "execution_count": 119,
   "metadata": {
    "colab": {
     "base_uri": "https://localhost:8080/"
    },
    "id": "PyyQ8YoBEh8Y",
    "outputId": "d5009516-5145-4e44-a44b-615760bbde6b"
   },
   "outputs": [
    {
     "data": {
      "text/plain": [
       "0.693528313627878"
      ]
     },
     "execution_count": 119,
     "metadata": {},
     "output_type": "execute_result"
    }
   ],
   "source": [
    "len(df[df['tariff_name']=='smart']) / len(df)"
   ]
  },
  {
   "cell_type": "markdown",
   "metadata": {
    "id": "souvnyxM46CC"
   },
   "source": [
    "### Выводы"
   ]
  },
  {
   "cell_type": "markdown",
   "metadata": {
    "id": "aoVKxrS0VMxB"
   },
   "source": [
    "Количество израсходованных минут, мегабайт и смс в течение года растет. Пользователи тарифа \"Ультра\" больше расходуют минут, мегабайт и смс.\n",
    "Распределение потраченных минут и мегабайтов интернета близко к нормальному. При этом в данной выборке больше данных по месяцам по тарифу \"Смарт\", чем \"Ультра\""
   ]
  },
  {
   "cell_type": "markdown",
   "metadata": {},
   "source": [
    "Дополнительные визуализации"
   ]
  },
  {
   "cell_type": "code",
   "execution_count": 120,
   "metadata": {},
   "outputs": [
    {
     "data": {
      "text/plain": [
       "<matplotlib.axes._subplots.AxesSubplot at 0x7f7c13346b90>"
      ]
     },
     "execution_count": 120,
     "metadata": {},
     "output_type": "execute_result"
    },
    {
     "data": {
      "image/png": "[encoded data removed]",
      "text/plain": [
       "<Figure size 432x288 with 1 Axes>"
      ]
     },
     "metadata": {
      "needs_background": "light"
     },
     "output_type": "display_data"
    }
   ],
   "source": [
    "sns.histplot(data=df, x='minutes_sum', hue='tariff_name')"
   ]
  },
  {
   "cell_type": "code",
   "execution_count": 121,
   "metadata": {},
   "outputs": [
    {
     "data": {
      "text/plain": [
       "<matplotlib.axes._subplots.AxesSubplot at 0x7f7c13351a10>"
      ]
     },
     "execution_count": 121,
     "metadata": {},
     "output_type": "execute_result"
    },
    {
     "data": {
      "image/png": "[encoded data removed]",
      "text/plain": [
       "<Figure size 432x288 with 1 Axes>"
      ]
     },
     "metadata": {
      "needs_background": "light"
     },
     "output_type": "display_data"
    }
   ],
   "source": [
    "sns.histplot(data=df, x='messages_count', hue='tariff_name')"
   ]
  },
  {
   "cell_type": "code",
   "execution_count": 122,
   "metadata": {},
   "outputs": [
    {
     "data": {
      "text/plain": [
       "<matplotlib.axes._subplots.AxesSubplot at 0x7f7c13079410>"
      ]
     },
     "execution_count": 122,
     "metadata": {},
     "output_type": "execute_result"
    },
    {
     "data": {
      "image/png": "[encoded data removed]",
      "text/plain": [
       "<Figure size 432x288 with 1 Axes>"
      ]
     },
     "metadata": {
      "needs_background": "light"
     },
     "output_type": "display_data"
    }
   ],
   "source": [
    "sns.histplot(data=df, x='mb_used_sum', hue='tariff_name')"
   ]
  },
  {
   "cell_type": "markdown",
   "metadata": {
    "id": "GYu-YBg4Vmbo"
   },
   "source": [
    "# 4. Проверка гипотез"
   ]
  },
  {
   "cell_type": "markdown",
   "metadata": {
    "id": "-7rXT91pFfgr"
   },
   "source": [
    "## 4.1 Гипотеза: средняя выручка пользователей тарифов «Ультра» и «Смарт» различаются;"
   ]
  },
  {
   "cell_type": "markdown",
   "metadata": {
    "id": "1P-5c1WnFmz3"
   },
   "source": [
    "Если альтернативная гипотеза состоит в том, что средние выручки пользователей разных тарифов ультра различаются, то нулевой гипотезой будет: средние выручки пользователей разных тарифов равны."
   ]
  },
  {
   "cell_type": "markdown",
   "metadata": {
    "id": "pFiF-EZRnRKO"
   },
   "source": [
    "Сначала определим среднюю выручку по тарифам"
   ]
  },
  {
   "cell_type": "code",
   "execution_count": 123,
   "metadata": {
    "colab": {
     "base_uri": "https://localhost:8080/"
    },
    "id": "ruP06qqCn3Q7",
    "outputId": "7f49ed13-2ba9-41f4-978a-eef81ebfbce3",
    "scrolled": false
   },
   "outputs": [
    {
     "data": {
      "text/plain": [
       "Index(['user_id', 'age', 'churn_date', 'city', 'reg_date', 'tariff_name',\n",
       "       'month', 'reg_month', 'calls_count', 'minutes_sum', 'messages_count',\n",
       "       'mb_used_sum', 'gb_used_sum', 'messages_included',\n",
       "       'mb_per_month_included', 'minutes_included', 'rub_monthly_fee',\n",
       "       'rub_per_gb', 'rub_per_message', 'rub_per_minute',\n",
       "       'money_spent_minutes_over', 'money_spent_messages_over',\n",
       "       'money_spent_internet_over', 'money_spent_total', 'churn_month'],\n",
       "      dtype='object')"
      ]
     },
     "execution_count": 123,
     "metadata": {},
     "output_type": "execute_result"
    }
   ],
   "source": [
    "df.columns"
   ]
  },
  {
   "cell_type": "code",
   "execution_count": 124,
   "metadata": {
    "colab": {
     "base_uri": "https://localhost:8080/"
    },
    "id": "_u_MWyddn5jo",
    "outputId": "400664f5-6268-4814-a227-92c0d054f9f1"
   },
   "outputs": [
    {
     "data": {
      "text/plain": [
       "tariff_name\n",
       "smart   1289.97\n",
       "ultra   2070.15\n",
       "Name: money_spent_total, dtype: float64"
      ]
     },
     "execution_count": 124,
     "metadata": {},
     "output_type": "execute_result"
    }
   ],
   "source": [
    "df.groupby('tariff_name')['money_spent_total'].mean()"
   ]
  },
  {
   "cell_type": "markdown",
   "metadata": {
    "id": "OVtoLIJsrVJq"
   },
   "source": [
    "Как видим, средние выручки по тарифам из данной выборки не равны. Какова вероятность, что средние выручек разных тарифов генеральной совокупности равны? Для этого, чтобы определить это сначала выделим тарифы в отдельные переменные, а затем воспользуемся методом `ttest_ind`."
   ]
  },
  {
   "cell_type": "code",
   "execution_count": 125,
   "metadata": {
    "id": "c0Fv_-Bhsk3J"
   },
   "outputs": [],
   "source": [
    "df_smart = df.loc[df.loc[:, 'tariff_name'] == 'smart']['money_spent_total'].copy()"
   ]
  },
  {
   "cell_type": "code",
   "execution_count": 126,
   "metadata": {
    "id": "Hy57gZIZtH1I"
   },
   "outputs": [],
   "source": [
    "df_ultra = df.loc[df.loc[:, 'tariff_name'] == 'ultra']['money_spent_total'].copy()"
   ]
  },
  {
   "cell_type": "markdown",
   "metadata": {
    "id": "HCLHzlIwtcL6"
   },
   "source": [
    "Проверка сумм"
   ]
  },
  {
   "cell_type": "code",
   "execution_count": 127,
   "metadata": {
    "colab": {
     "base_uri": "https://localhost:8080/"
    },
    "id": "3jX8igW9tSVm",
    "outputId": "e80ef0a3-74a0-481b-a7b0-b468a6167acf"
   },
   "outputs": [
    {
     "data": {
      "text/plain": [
       "True"
      ]
     },
     "execution_count": 127,
     "metadata": {},
     "output_type": "execute_result"
    }
   ],
   "source": [
    "len(df_smart) + len(df_ultra) == len(df)"
   ]
  },
  {
   "cell_type": "markdown",
   "metadata": {
    "id": "KeOASLHxtew9"
   },
   "source": [
    "При использовании метода `ttest_ind` параметр ***equal_var*** проигнорируем. Оценить дисперсии генеральных совокупностей этих тарифов не предполагается возможным и данный параметр необязателен."
   ]
  },
  {
   "cell_type": "markdown",
   "metadata": {
    "id": "zsIY2ryRuK31"
   },
   "source": [
    "Порог (alpha) зададим 5% (будем строгими)"
   ]
  },
  {
   "cell_type": "code",
   "execution_count": 128,
   "metadata": {
    "id": "967ihc3auIHv"
   },
   "outputs": [],
   "source": [
    "results = st.ttest_ind(df_smart, df_ultra)"
   ]
  },
  {
   "cell_type": "code",
   "execution_count": 129,
   "metadata": {
    "colab": {
     "base_uri": "https://localhost:8080/"
    },
    "id": "gpaOsFCsxkta",
    "outputId": "db35b0ba-015f-4706-d192-3c4b27901aa4"
   },
   "outputs": [
    {
     "data": {
      "text/plain": [
       "1.4229814360764067e-160"
      ]
     },
     "execution_count": 129,
     "metadata": {},
     "output_type": "execute_result"
    }
   ],
   "source": [
    "results.pvalue"
   ]
  },
  {
   "cell_type": "markdown",
   "metadata": {
    "id": "_-3sWi-mx4Dw"
   },
   "source": [
    "Как видим, это значение близко к нулю. Это значит, что нулевая гипотез маловероятна (не подтвердилась, можно отвергнуть). Тогда принимаем альтернативную гипотезу."
   ]
  },
  {
   "cell_type": "markdown",
   "metadata": {
    "id": "Um3y8YnfyBwJ"
   },
   "source": [
    "### Выводы"
   ]
  },
  {
   "cell_type": "markdown",
   "metadata": {
    "id": "az0jMbz-yEZJ"
   },
   "source": [
    "После проведения t-теста нулевая гипотеза (средние выручки клиентов разных тарифов примерно равны) была отвергнута. Была принята альтернативная гипотеза (средние выручки различных тарифов не равны (различаются))"
   ]
  },
  {
   "cell_type": "markdown",
   "metadata": {
    "id": "euRPtAE1yvGB"
   },
   "source": [
    "## 4.2 Гипотеза: средняя выручка пользователей из Москвы отличается от выручки пользователей из других регионов."
   ]
  },
  {
   "cell_type": "markdown",
   "metadata": {
    "id": "33PbTeqNy_95"
   },
   "source": [
    "Если альтернативная гипотеза состоит в том, что средняя выручка пользователи из Москвы отличается от выручки пользователей из других регионов, то нулевая гипотеза будет: средняя выручка пользователей из Москвы равна выручке пользователей из других регионов."
   ]
  },
  {
   "cell_type": "markdown",
   "metadata": {
    "id": "0PJBKxjmzb36"
   },
   "source": [
    "Создадим соответствующие датасеты с пользователями из Москвы и не из Москвы в разрезе тарифов"
   ]
  },
  {
   "cell_type": "code",
   "execution_count": 130,
   "metadata": {
    "colab": {
     "base_uri": "https://localhost:8080/"
    },
    "id": "cck1CU_pzuED",
    "outputId": "33cbe9a5-f99f-47cc-847f-48e5dc6b123c"
   },
   "outputs": [
    {
     "data": {
      "text/plain": [
       "array(['Краснодар', 'Москва', 'Стерлитамак', 'Новокузнецк',\n",
       "       'Набережные Челны', 'Ульяновск', 'Челябинск', 'Пермь', 'Тюмень',\n",
       "       'Самара', 'Санкт-Петербург', 'Иваново', 'Чебоксары', 'Омск', 'Уфа',\n",
       "       'Томск', 'Чита', 'Мурманск', 'Петрозаводск', 'Тверь',\n",
       "       'Екатеринбург', 'Махачкала', 'Вологда', 'Череповец', 'Ярославль',\n",
       "       'Сочи', 'Хабаровск', 'Ставрополь', 'Рязань', 'Улан-Удэ', 'Тула',\n",
       "       'Саратов', 'Ростов-на-Дону', 'Казань', 'Иркутск', 'Курск',\n",
       "       'Калуга', 'Якутск', 'Астрахань', 'Химки', 'Владикавказ',\n",
       "       'Волгоград', 'Саранск', 'Ижевск', 'Новосибирск', 'Брянск',\n",
       "       'Тольятти', 'Нижний Тагил', 'Орёл', 'Белгород', 'Воронеж',\n",
       "       'Курган', 'Барнаул', 'Красноярск', 'Архангельск', 'Липецк',\n",
       "       'Кемерово', 'Киров', 'Сургут', 'Пенза', 'Волжский', 'Магнитогорск',\n",
       "       'Нижний Новгород', 'Кострома', 'Владивосток', 'Тамбов', 'Балашиха',\n",
       "       'Севастополь', 'Калининград', 'Оренбург', 'Смоленск',\n",
       "       'Нижневартовск', 'Владимир', 'Новороссийск', 'Грозный', 'Подольск'],\n",
       "      dtype=object)"
      ]
     },
     "execution_count": 130,
     "metadata": {},
     "output_type": "execute_result"
    }
   ],
   "source": [
    "df['city'].unique()"
   ]
  },
  {
   "cell_type": "code",
   "execution_count": 137,
   "metadata": {
    "id": "fqyrsGc1ziYY"
   },
   "outputs": [],
   "source": [
    "users_moscow_gain = df[df['city'] == 'Москва']['money_spent_total'].copy()"
   ]
  },
  {
   "cell_type": "code",
   "execution_count": 138,
   "metadata": {
    "id": "Tt9uOBkx0uOL"
   },
   "outputs": [],
   "source": [
    "users_region_gain = df[df['city'] != 'Москва']['money_spent_total'].copy()"
   ]
  },
  {
   "cell_type": "markdown",
   "metadata": {
    "id": "0XMDWUez0-ap"
   },
   "source": [
    "Воспользуемся тем же самым методом для подтверждения нулевой гипотезы"
   ]
  },
  {
   "cell_type": "code",
   "execution_count": 139,
   "metadata": {
    "colab": {
     "base_uri": "https://localhost:8080/"
    },
    "id": "isSqUuOB2Fno",
    "outputId": "75226e78-5b8f-4f6d-a8d1-0cbba11fb812"
   },
   "outputs": [
    {
     "name": "stdout",
     "output_type": "stream",
     "text": [
      "0.5440152911670224\n"
     ]
    }
   ],
   "source": [
    "results = st.ttest_ind(users_moscow_gain, users_region_gain)\n",
    "print(results.pvalue)"
   ]
  },
  {
   "cell_type": "markdown",
   "metadata": {
    "id": "0Xhru2AU2tJr"
   },
   "source": [
    "### Выводы"
   ]
  },
  {
   "cell_type": "markdown",
   "metadata": {
    "id": "3ogkJHUE2_gp"
   },
   "source": [
    "Вероятность, что средние выручек пользователей не из Москвы и из Москвы равны велика. В этом случае принимаем нулевую гипотезу, что средние показатели выручек клиентов из Москвы и не из Москвы могут быть примерно равны.\n",
    "\n",
    "Тогда альтернативную гипотезу (средняя выручка пользователей из Москвы отличается от выручки пользователей из других регионов) отвергаем."
   ]
  },
  {
   "cell_type": "markdown",
   "metadata": {},
   "source": [
    "# Финальный вывод"
   ]
  },
  {
   "cell_type": "markdown",
   "metadata": {},
   "source": [
    "В результате проделанной работы было выявлено:\n",
    "\n",
    "* В данных были обнаружены пропуски в кол-ве отправленных смс, потраченных минут, использованного трафика. Это скорее всего говорит о том, что есть пользователи, которые пользовались не всеми услугами. Такие пропуски заполнили нулями;\n",
    "* Выручка пользователей растет в течение года (пользователи к концу года стали больше тратить минут, гигабайт и смс;\n",
    "* Пользователи тарифа \"Смарт\" используют в среднем 419 минут, 39 смс, 16 ГБ интернет-трафика в месяц;\n",
    "* Пользователи тарифа \"Ультра\" используют в среднем 545 минут, 61 смс, 19.5 ГБ интернет-трафика в месяц;\n",
    "* Было выявлено, что данные количеству израсходованных минут, смс, ГБ распределены нормально со скошенностью вправо;\n",
    "* Гипотеза \"средняя выручка пользователей тарифов «Ультра» и «Смарт» различаются\" принята;\n",
    "* Гипотеза \"средняя выручка пользователи из Москвы отличается от выручки пользователей из других регионов\" отвергнута;"
   ]
  }
 ],
 "metadata": {
  "ExecuteTimeLog": [
   {
    "duration": 11188,
    "start_time": "2021-09-25T16:54:06.550Z"
   },
   {
    "duration": 3270,
    "start_time": "2021-09-25T16:55:27.920Z"
   },
   {
    "duration": 1663,
    "start_time": "2021-09-25T16:55:53.397Z"
   },
   {
    "duration": 4631,
    "start_time": "2021-09-25T16:56:19.850Z"
   },
   {
    "duration": 4,
    "start_time": "2021-09-25T16:56:24.485Z"
   },
   {
    "duration": 1436,
    "start_time": "2021-09-25T16:56:24.492Z"
   },
   {
    "duration": 128,
    "start_time": "2021-09-25T16:56:25.931Z"
   },
   {
    "duration": 233,
    "start_time": "2021-09-25T16:56:26.061Z"
   },
   {
    "duration": 29,
    "start_time": "2021-09-25T16:56:26.296Z"
   },
   {
    "duration": 10,
    "start_time": "2021-09-25T16:56:26.327Z"
   },
   {
    "duration": 6,
    "start_time": "2021-09-25T16:56:26.339Z"
   },
   {
    "duration": 7,
    "start_time": "2021-09-25T16:56:26.349Z"
   },
   {
    "duration": 6,
    "start_time": "2021-09-25T16:56:26.359Z"
   },
   {
    "duration": 59,
    "start_time": "2021-09-25T16:56:26.367Z"
   },
   {
    "duration": 40,
    "start_time": "2021-09-25T16:56:26.429Z"
   },
   {
    "duration": 55,
    "start_time": "2021-09-25T16:56:26.472Z"
   },
   {
    "duration": 9,
    "start_time": "2021-09-25T16:56:26.532Z"
   },
   {
    "duration": 29,
    "start_time": "2021-09-25T16:56:26.543Z"
   },
   {
    "duration": 19,
    "start_time": "2021-09-25T16:56:26.575Z"
   },
   {
    "duration": 33,
    "start_time": "2021-09-25T16:56:26.621Z"
   },
   {
    "duration": 22,
    "start_time": "2021-09-25T16:56:26.656Z"
   },
   {
    "duration": 52,
    "start_time": "2021-09-25T16:56:26.680Z"
   },
   {
    "duration": 18,
    "start_time": "2021-09-25T16:56:26.735Z"
   },
   {
    "duration": 8,
    "start_time": "2021-09-25T16:56:26.756Z"
   },
   {
    "duration": 10,
    "start_time": "2021-09-25T16:56:26.767Z"
   },
   {
    "duration": 45,
    "start_time": "2021-09-25T16:56:26.779Z"
   },
   {
    "duration": 7,
    "start_time": "2021-09-25T16:56:26.827Z"
   },
   {
    "duration": 7,
    "start_time": "2021-09-25T16:56:26.837Z"
   },
   {
    "duration": 7,
    "start_time": "2021-09-25T16:56:26.846Z"
   },
   {
    "duration": 10,
    "start_time": "2021-09-25T16:56:26.859Z"
   },
   {
    "duration": 5,
    "start_time": "2021-09-25T16:56:26.873Z"
   },
   {
    "duration": 39,
    "start_time": "2021-09-25T16:56:26.880Z"
   },
   {
    "duration": 7,
    "start_time": "2021-09-25T16:56:26.922Z"
   },
   {
    "duration": 10,
    "start_time": "2021-09-25T16:56:26.932Z"
   },
   {
    "duration": 16,
    "start_time": "2021-09-25T16:56:26.944Z"
   },
   {
    "duration": 65,
    "start_time": "2021-09-25T16:56:26.963Z"
   },
   {
    "duration": 7,
    "start_time": "2021-09-25T16:56:27.031Z"
   },
   {
    "duration": 8,
    "start_time": "2021-09-25T16:56:27.040Z"
   },
   {
    "duration": 18,
    "start_time": "2021-09-25T16:56:27.050Z"
   },
   {
    "duration": 72,
    "start_time": "2021-09-25T16:56:27.072Z"
   },
   {
    "duration": 4,
    "start_time": "2021-09-25T16:56:27.147Z"
   },
   {
    "duration": 18,
    "start_time": "2021-09-25T16:56:27.154Z"
   },
   {
    "duration": 43,
    "start_time": "2021-09-25T16:56:27.175Z"
   },
   {
    "duration": 32,
    "start_time": "2021-09-25T16:56:27.221Z"
   },
   {
    "duration": 26,
    "start_time": "2021-09-25T16:56:27.256Z"
   },
   {
    "duration": 4,
    "start_time": "2021-09-25T16:56:27.284Z"
   },
   {
    "duration": 46,
    "start_time": "2021-09-25T16:56:27.291Z"
   },
   {
    "duration": 13,
    "start_time": "2021-09-25T16:56:27.339Z"
   },
   {
    "duration": 30,
    "start_time": "2021-09-25T16:56:27.355Z"
   },
   {
    "duration": 45,
    "start_time": "2021-09-25T16:56:27.388Z"
   },
   {
    "duration": 3,
    "start_time": "2021-09-25T16:56:27.436Z"
   },
   {
    "duration": 19,
    "start_time": "2021-09-25T16:56:27.442Z"
   },
   {
    "duration": 8,
    "start_time": "2021-09-25T16:56:27.463Z"
   },
   {
    "duration": 51,
    "start_time": "2021-09-25T16:56:27.473Z"
   },
   {
    "duration": 35,
    "start_time": "2021-09-25T16:56:27.526Z"
   },
   {
    "duration": 4,
    "start_time": "2021-09-25T16:56:27.564Z"
   },
   {
    "duration": 12,
    "start_time": "2021-09-25T16:56:27.571Z"
   },
   {
    "duration": 47,
    "start_time": "2021-09-25T16:56:27.585Z"
   },
   {
    "duration": 9,
    "start_time": "2021-09-25T16:56:27.634Z"
   },
   {
    "duration": 8,
    "start_time": "2021-09-25T16:56:27.645Z"
   },
   {
    "duration": 9,
    "start_time": "2021-09-25T16:56:27.655Z"
   },
   {
    "duration": 6,
    "start_time": "2021-09-25T16:56:27.666Z"
   },
   {
    "duration": 75,
    "start_time": "2021-09-25T16:56:27.674Z"
   },
   {
    "duration": 8,
    "start_time": "2021-09-25T16:56:27.751Z"
   },
   {
    "duration": 7,
    "start_time": "2021-09-25T16:56:27.761Z"
   },
   {
    "duration": 9,
    "start_time": "2021-09-25T16:56:27.770Z"
   },
   {
    "duration": 47,
    "start_time": "2021-09-25T16:56:27.781Z"
   },
   {
    "duration": 3,
    "start_time": "2021-09-25T16:56:27.831Z"
   },
   {
    "duration": 9,
    "start_time": "2021-09-25T16:56:27.837Z"
   },
   {
    "duration": 5,
    "start_time": "2021-09-25T16:56:27.849Z"
   },
   {
    "duration": 22,
    "start_time": "2021-09-25T16:56:27.856Z"
   },
   {
    "duration": 44,
    "start_time": "2021-09-25T16:56:27.880Z"
   },
   {
    "duration": 12,
    "start_time": "2021-09-25T16:56:27.927Z"
   },
   {
    "duration": 33,
    "start_time": "2021-09-25T16:56:27.942Z"
   },
   {
    "duration": 5,
    "start_time": "2021-09-25T16:56:27.977Z"
   },
   {
    "duration": 32,
    "start_time": "2021-09-25T16:56:27.984Z"
   },
   {
    "duration": 9,
    "start_time": "2021-09-25T16:56:28.019Z"
   },
   {
    "duration": 9,
    "start_time": "2021-09-25T16:56:28.031Z"
   },
   {
    "duration": 47,
    "start_time": "2021-09-25T16:56:28.043Z"
   },
   {
    "duration": 38,
    "start_time": "2021-09-25T16:56:28.092Z"
   },
   {
    "duration": 6,
    "start_time": "2021-09-25T16:56:28.133Z"
   },
   {
    "duration": 15,
    "start_time": "2021-09-25T16:56:28.141Z"
   },
   {
    "duration": 11,
    "start_time": "2021-09-25T16:56:28.159Z"
   },
   {
    "duration": 8,
    "start_time": "2021-09-25T16:56:28.180Z"
   },
   {
    "duration": 32,
    "start_time": "2021-09-25T16:56:28.192Z"
   },
   {
    "duration": 5,
    "start_time": "2021-09-25T16:56:28.226Z"
   },
   {
    "duration": 13,
    "start_time": "2021-09-25T16:56:28.233Z"
   },
   {
    "duration": 27,
    "start_time": "2021-09-25T16:56:28.248Z"
   },
   {
    "duration": 4,
    "start_time": "2021-09-25T16:56:28.277Z"
   },
   {
    "duration": 56,
    "start_time": "2021-09-25T16:56:28.283Z"
   },
   {
    "duration": 450,
    "start_time": "2021-09-25T16:56:28.342Z"
   },
   {
    "duration": 474,
    "start_time": "2021-09-25T16:56:28.795Z"
   },
   {
    "duration": 461,
    "start_time": "2021-09-25T16:56:29.271Z"
   },
   {
    "duration": 26,
    "start_time": "2021-09-25T16:56:29.735Z"
   },
   {
    "duration": 6,
    "start_time": "2021-09-25T16:56:29.764Z"
   },
   {
    "duration": 13,
    "start_time": "2021-09-25T16:56:29.772Z"
   },
   {
    "duration": 36,
    "start_time": "2021-09-25T16:56:29.787Z"
   },
   {
    "duration": 6,
    "start_time": "2021-09-25T16:56:29.829Z"
   },
   {
    "duration": 11,
    "start_time": "2021-09-25T16:56:29.837Z"
   },
   {
    "duration": 8,
    "start_time": "2021-09-25T16:56:29.851Z"
   },
   {
    "duration": 5,
    "start_time": "2021-09-25T16:56:29.861Z"
   },
   {
    "duration": 5,
    "start_time": "2021-09-25T16:56:29.869Z"
   },
   {
    "duration": 47,
    "start_time": "2021-09-25T16:56:29.877Z"
   },
   {
    "duration": 4,
    "start_time": "2021-09-25T16:56:29.927Z"
   },
   {
    "duration": 6,
    "start_time": "2021-09-25T16:56:29.934Z"
   },
   {
    "duration": 7,
    "start_time": "2021-09-25T16:56:29.943Z"
   },
   {
    "duration": 9,
    "start_time": "2021-09-25T16:56:29.952Z"
   },
   {
    "duration": 14,
    "start_time": "2021-09-25T16:56:29.963Z"
   },
   {
    "duration": 40,
    "start_time": "2021-09-25T16:56:29.980Z"
   },
   {
    "duration": 30,
    "start_time": "2021-09-25T16:56:30.024Z"
   },
   {
    "duration": 1636,
    "start_time": "2021-09-25T16:56:30.056Z"
   },
   {
    "duration": 421,
    "start_time": "2021-09-25T16:56:31.695Z"
   },
   {
    "duration": 330,
    "start_time": "2021-09-25T16:56:32.122Z"
   },
   {
    "duration": 308,
    "start_time": "2021-09-25T16:56:32.454Z"
   },
   {
    "duration": 377,
    "start_time": "2021-09-25T16:56:32.765Z"
   },
   {
    "duration": 327,
    "start_time": "2021-09-25T16:56:33.144Z"
   },
   {
    "duration": 7,
    "start_time": "2021-09-25T16:56:33.473Z"
   },
   {
    "duration": 9,
    "start_time": "2021-09-25T16:56:33.483Z"
   },
   {
    "duration": 35,
    "start_time": "2021-09-25T16:56:33.494Z"
   },
   {
    "duration": 7,
    "start_time": "2021-09-25T16:56:33.532Z"
   },
   {
    "duration": 6,
    "start_time": "2021-09-25T16:56:33.541Z"
   },
   {
    "duration": 10,
    "start_time": "2021-09-25T16:56:33.550Z"
   },
   {
    "duration": 8,
    "start_time": "2021-09-25T16:56:33.562Z"
   },
   {
    "duration": 8,
    "start_time": "2021-09-25T16:56:33.572Z"
   },
   {
    "duration": 42,
    "start_time": "2021-09-25T16:56:33.583Z"
   },
   {
    "duration": 10,
    "start_time": "2021-09-25T16:56:33.628Z"
   },
   {
    "duration": 7,
    "start_time": "2021-09-25T16:56:33.641Z"
   },
   {
    "duration": 11,
    "start_time": "2021-09-25T16:56:33.651Z"
   },
   {
    "duration": 15,
    "start_time": "2021-09-25T16:56:33.665Z"
   },
   {
    "duration": 42,
    "start_time": "2021-09-25T16:56:33.682Z"
   },
   {
    "duration": 6,
    "start_time": "2021-09-25T16:56:33.726Z"
   },
   {
    "duration": 248841,
    "start_time": "2021-09-26T07:19:38.167Z"
   },
   {
    "duration": 1619,
    "start_time": "2021-09-26T07:23:47.011Z"
   },
   {
    "duration": 1106,
    "start_time": "2021-09-26T07:23:48.634Z"
   },
   {
    "duration": 122,
    "start_time": "2021-09-26T07:23:49.743Z"
   },
   {
    "duration": 237,
    "start_time": "2021-09-26T07:23:49.867Z"
   },
   {
    "duration": 7,
    "start_time": "2021-09-26T07:23:50.106Z"
   },
   {
    "duration": 41,
    "start_time": "2021-09-26T07:23:50.116Z"
   },
   {
    "duration": 6,
    "start_time": "2021-09-26T07:23:50.161Z"
   },
   {
    "duration": 13,
    "start_time": "2021-09-26T07:23:50.170Z"
   },
   {
    "duration": 15,
    "start_time": "2021-09-26T07:23:50.185Z"
   },
   {
    "duration": 9,
    "start_time": "2021-09-26T07:23:50.203Z"
   },
   {
    "duration": 77,
    "start_time": "2021-09-26T07:23:50.215Z"
   },
   {
    "duration": 27,
    "start_time": "2021-09-26T07:23:50.294Z"
   },
   {
    "duration": 36,
    "start_time": "2021-09-26T07:23:50.324Z"
   },
   {
    "duration": 30,
    "start_time": "2021-09-26T07:23:50.363Z"
   },
   {
    "duration": 21,
    "start_time": "2021-09-26T07:23:50.396Z"
   },
   {
    "duration": 63,
    "start_time": "2021-09-26T07:23:50.421Z"
   },
   {
    "duration": 23,
    "start_time": "2021-09-26T07:23:50.487Z"
   },
   {
    "duration": 55,
    "start_time": "2021-09-26T07:23:50.513Z"
   },
   {
    "duration": 21,
    "start_time": "2021-09-26T07:23:50.571Z"
   },
   {
    "duration": 10,
    "start_time": "2021-09-26T07:23:50.594Z"
   },
   {
    "duration": 17,
    "start_time": "2021-09-26T07:23:50.607Z"
   },
   {
    "duration": 5,
    "start_time": "2021-09-26T07:23:50.656Z"
   },
   {
    "duration": 12,
    "start_time": "2021-09-26T07:23:50.665Z"
   },
   {
    "duration": 11,
    "start_time": "2021-09-26T07:23:50.679Z"
   },
   {
    "duration": 10,
    "start_time": "2021-09-26T07:23:50.692Z"
   },
   {
    "duration": 21,
    "start_time": "2021-09-26T07:23:50.704Z"
   },
   {
    "duration": 5,
    "start_time": "2021-09-26T07:23:50.727Z"
   },
   {
    "duration": 4,
    "start_time": "2021-09-26T07:23:50.757Z"
   },
   {
    "duration": 10,
    "start_time": "2021-09-26T07:23:50.763Z"
   },
   {
    "duration": 13,
    "start_time": "2021-09-26T07:23:50.775Z"
   },
   {
    "duration": 19,
    "start_time": "2021-09-26T07:23:50.790Z"
   },
   {
    "duration": 54,
    "start_time": "2021-09-26T07:23:50.811Z"
   },
   {
    "duration": 8,
    "start_time": "2021-09-26T07:23:50.867Z"
   },
   {
    "duration": 10,
    "start_time": "2021-09-26T07:23:50.878Z"
   },
   {
    "duration": 23,
    "start_time": "2021-09-26T07:23:50.891Z"
   },
   {
    "duration": 59,
    "start_time": "2021-09-26T07:23:50.916Z"
   },
   {
    "duration": 3,
    "start_time": "2021-09-26T07:23:50.978Z"
   },
   {
    "duration": 22,
    "start_time": "2021-09-26T07:23:50.984Z"
   },
   {
    "duration": 19,
    "start_time": "2021-09-26T07:23:51.008Z"
   },
   {
    "duration": 47,
    "start_time": "2021-09-26T07:23:51.030Z"
   },
   {
    "duration": 28,
    "start_time": "2021-09-26T07:23:51.080Z"
   },
   {
    "duration": 4,
    "start_time": "2021-09-26T07:23:51.110Z"
   },
   {
    "duration": 41,
    "start_time": "2021-09-26T07:23:51.116Z"
   },
   {
    "duration": 14,
    "start_time": "2021-09-26T07:23:51.160Z"
   },
   {
    "duration": 31,
    "start_time": "2021-09-26T07:23:51.176Z"
   },
   {
    "duration": 47,
    "start_time": "2021-09-26T07:23:51.209Z"
   },
   {
    "duration": 4,
    "start_time": "2021-09-26T07:23:51.258Z"
   },
   {
    "duration": 17,
    "start_time": "2021-09-26T07:23:51.264Z"
   },
   {
    "duration": 6,
    "start_time": "2021-09-26T07:23:51.283Z"
   },
   {
    "duration": 19,
    "start_time": "2021-09-26T07:23:51.291Z"
   },
   {
    "duration": 63,
    "start_time": "2021-09-26T07:23:51.313Z"
   },
   {
    "duration": 4,
    "start_time": "2021-09-26T07:23:51.378Z"
   },
   {
    "duration": 14,
    "start_time": "2021-09-26T07:23:51.384Z"
   },
   {
    "duration": 10,
    "start_time": "2021-09-26T07:23:51.401Z"
   },
   {
    "duration": 11,
    "start_time": "2021-09-26T07:23:51.413Z"
   },
   {
    "duration": 36,
    "start_time": "2021-09-26T07:23:51.426Z"
   },
   {
    "duration": 8,
    "start_time": "2021-09-26T07:23:51.465Z"
   },
   {
    "duration": 8,
    "start_time": "2021-09-26T07:23:51.476Z"
   },
   {
    "duration": 48,
    "start_time": "2021-09-26T07:23:51.486Z"
   },
   {
    "duration": 8,
    "start_time": "2021-09-26T07:23:51.556Z"
   },
   {
    "duration": 12,
    "start_time": "2021-09-26T07:23:51.566Z"
   },
   {
    "duration": 13,
    "start_time": "2021-09-26T07:23:51.581Z"
   },
   {
    "duration": 8,
    "start_time": "2021-09-26T07:23:51.596Z"
   },
   {
    "duration": 10,
    "start_time": "2021-09-26T07:23:51.606Z"
   },
   {
    "duration": 9,
    "start_time": "2021-09-26T07:23:51.618Z"
   },
   {
    "duration": 6,
    "start_time": "2021-09-26T07:23:51.657Z"
   },
   {
    "duration": 20,
    "start_time": "2021-09-26T07:23:51.673Z"
   },
   {
    "duration": 8,
    "start_time": "2021-09-26T07:23:51.697Z"
   },
   {
    "duration": 48,
    "start_time": "2021-09-26T07:23:51.708Z"
   },
   {
    "duration": 34,
    "start_time": "2021-09-26T07:23:51.758Z"
   },
   {
    "duration": 4,
    "start_time": "2021-09-26T07:23:51.794Z"
   },
   {
    "duration": 8,
    "start_time": "2021-09-26T07:23:51.801Z"
   },
   {
    "duration": 7,
    "start_time": "2021-09-26T07:23:51.811Z"
   },
   {
    "duration": 6,
    "start_time": "2021-09-26T07:23:51.857Z"
   },
   {
    "duration": 45,
    "start_time": "2021-09-26T07:23:51.865Z"
   },
   {
    "duration": 8,
    "start_time": "2021-09-26T07:23:51.912Z"
   },
   {
    "duration": 35,
    "start_time": "2021-09-26T07:23:51.922Z"
   },
   {
    "duration": 7,
    "start_time": "2021-09-26T07:23:51.959Z"
   },
   {
    "duration": 8,
    "start_time": "2021-09-26T07:23:51.968Z"
   },
   {
    "duration": 13,
    "start_time": "2021-09-26T07:23:51.978Z"
   },
   {
    "duration": 5,
    "start_time": "2021-09-26T07:23:51.993Z"
   },
   {
    "duration": 10,
    "start_time": "2021-09-26T07:23:52.000Z"
   },
   {
    "duration": 19,
    "start_time": "2021-09-26T07:23:52.012Z"
   },
   {
    "duration": 22,
    "start_time": "2021-09-26T07:23:52.056Z"
   },
   {
    "duration": 4,
    "start_time": "2021-09-26T07:23:52.081Z"
   },
   {
    "duration": 26,
    "start_time": "2021-09-26T07:23:52.087Z"
   },
   {
    "duration": 465,
    "start_time": "2021-09-26T07:23:52.115Z"
   },
   {
    "duration": 456,
    "start_time": "2021-09-26T07:23:52.583Z"
   },
   {
    "duration": 437,
    "start_time": "2021-09-26T07:23:53.041Z"
   },
   {
    "duration": 27,
    "start_time": "2021-09-26T07:23:53.480Z"
   },
   {
    "duration": 6,
    "start_time": "2021-09-26T07:23:53.509Z"
   },
   {
    "duration": 40,
    "start_time": "2021-09-26T07:23:53.517Z"
   },
   {
    "duration": 10,
    "start_time": "2021-09-26T07:23:53.560Z"
   },
   {
    "duration": 15,
    "start_time": "2021-09-26T07:23:53.572Z"
   },
   {
    "duration": 11,
    "start_time": "2021-09-26T07:23:53.589Z"
   },
   {
    "duration": 8,
    "start_time": "2021-09-26T07:23:53.602Z"
   },
   {
    "duration": 10,
    "start_time": "2021-09-26T07:23:53.612Z"
   },
   {
    "duration": 6,
    "start_time": "2021-09-26T07:23:53.625Z"
   },
   {
    "duration": 4,
    "start_time": "2021-09-26T07:23:53.656Z"
   },
   {
    "duration": 6,
    "start_time": "2021-09-26T07:23:53.662Z"
   },
   {
    "duration": 5,
    "start_time": "2021-09-26T07:23:53.671Z"
   },
   {
    "duration": 5,
    "start_time": "2021-09-26T07:23:53.679Z"
   },
   {
    "duration": 8,
    "start_time": "2021-09-26T07:23:53.686Z"
   },
   {
    "duration": 15,
    "start_time": "2021-09-26T07:23:53.699Z"
   },
   {
    "duration": 5,
    "start_time": "2021-09-26T07:23:53.717Z"
   },
   {
    "duration": 14,
    "start_time": "2021-09-26T07:23:53.757Z"
   },
   {
    "duration": 274368,
    "start_time": "2021-09-26T07:23:53.774Z"
   },
   {
    "duration": 403,
    "start_time": "2021-09-26T07:28:28.144Z"
   },
   {
    "duration": 318,
    "start_time": "2021-09-26T07:28:28.549Z"
   },
   {
    "duration": 301,
    "start_time": "2021-09-26T07:28:28.869Z"
   },
   {
    "duration": 365,
    "start_time": "2021-09-26T07:28:29.172Z"
   },
   {
    "duration": 330,
    "start_time": "2021-09-26T07:28:29.540Z"
   },
   {
    "duration": 8,
    "start_time": "2021-09-26T07:28:29.873Z"
   },
   {
    "duration": 9,
    "start_time": "2021-09-26T07:28:29.883Z"
   },
   {
    "duration": 15,
    "start_time": "2021-09-26T07:28:29.895Z"
   },
   {
    "duration": 8,
    "start_time": "2021-09-26T07:28:29.912Z"
   },
   {
    "duration": 34,
    "start_time": "2021-09-26T07:28:29.922Z"
   },
   {
    "duration": 5,
    "start_time": "2021-09-26T07:28:29.958Z"
   },
   {
    "duration": 8,
    "start_time": "2021-09-26T07:28:29.966Z"
   },
   {
    "duration": 8,
    "start_time": "2021-09-26T07:28:29.976Z"
   },
   {
    "duration": 8,
    "start_time": "2021-09-26T07:28:29.986Z"
   },
   {
    "duration": 7,
    "start_time": "2021-09-26T07:28:29.996Z"
   },
   {
    "duration": 52,
    "start_time": "2021-09-26T07:28:30.005Z"
   },
   {
    "duration": 8,
    "start_time": "2021-09-26T07:28:30.059Z"
   },
   {
    "duration": 21,
    "start_time": "2021-09-26T07:28:30.069Z"
   },
   {
    "duration": 26,
    "start_time": "2021-09-26T07:28:30.093Z"
   },
   {
    "duration": 22,
    "start_time": "2021-09-26T07:28:30.121Z"
   },
   {
    "duration": 113,
    "start_time": "2021-09-26T07:33:17.613Z"
   },
   {
    "duration": 40,
    "start_time": "2021-09-26T07:34:09.145Z"
   },
   {
    "duration": 41,
    "start_time": "2021-09-26T07:36:39.131Z"
   },
   {
    "duration": 201,
    "start_time": "2021-09-26T09:58:17.893Z"
   },
   {
    "duration": 11319,
    "start_time": "2021-09-26T09:58:59.554Z"
   },
   {
    "duration": 1675,
    "start_time": "2021-09-26T09:59:43.115Z"
   },
   {
    "duration": 1163,
    "start_time": "2021-09-26T09:59:44.793Z"
   },
   {
    "duration": 133,
    "start_time": "2021-09-26T09:59:45.959Z"
   },
   {
    "duration": 232,
    "start_time": "2021-09-26T09:59:46.094Z"
   },
   {
    "duration": 40,
    "start_time": "2021-09-26T09:59:46.328Z"
   },
   {
    "duration": 8,
    "start_time": "2021-09-26T09:59:46.370Z"
   },
   {
    "duration": 6,
    "start_time": "2021-09-26T09:59:46.380Z"
   },
   {
    "duration": 8,
    "start_time": "2021-09-26T09:59:46.391Z"
   },
   {
    "duration": 64,
    "start_time": "2021-09-26T09:59:46.402Z"
   },
   {
    "duration": 8,
    "start_time": "2021-09-26T09:59:46.468Z"
   },
   {
    "duration": 42,
    "start_time": "2021-09-26T09:59:46.479Z"
   },
   {
    "duration": 55,
    "start_time": "2021-09-26T09:59:46.523Z"
   },
   {
    "duration": 11,
    "start_time": "2021-09-26T09:59:46.581Z"
   },
   {
    "duration": 28,
    "start_time": "2021-09-26T09:59:46.594Z"
   },
   {
    "duration": 49,
    "start_time": "2021-09-26T09:59:46.625Z"
   },
   {
    "duration": 30,
    "start_time": "2021-09-26T09:59:46.677Z"
   },
   {
    "duration": 21,
    "start_time": "2021-09-26T09:59:46.710Z"
   },
   {
    "duration": 50,
    "start_time": "2021-09-26T09:59:46.733Z"
   },
   {
    "duration": 19,
    "start_time": "2021-09-26T09:59:46.785Z"
   },
   {
    "duration": 8,
    "start_time": "2021-09-26T09:59:46.806Z"
   },
   {
    "duration": 11,
    "start_time": "2021-09-26T09:59:46.816Z"
   },
   {
    "duration": 36,
    "start_time": "2021-09-26T09:59:46.830Z"
   },
   {
    "duration": 7,
    "start_time": "2021-09-26T09:59:46.873Z"
   },
   {
    "duration": 5,
    "start_time": "2021-09-26T09:59:46.884Z"
   },
   {
    "duration": 7,
    "start_time": "2021-09-26T09:59:46.892Z"
   },
   {
    "duration": 13,
    "start_time": "2021-09-26T09:59:46.901Z"
   },
   {
    "duration": 46,
    "start_time": "2021-09-26T09:59:46.916Z"
   },
   {
    "duration": 5,
    "start_time": "2021-09-26T09:59:46.964Z"
   },
   {
    "duration": 9,
    "start_time": "2021-09-26T09:59:46.971Z"
   },
   {
    "duration": 11,
    "start_time": "2021-09-26T09:59:46.982Z"
   },
   {
    "duration": 15,
    "start_time": "2021-09-26T09:59:46.995Z"
   },
   {
    "duration": 58,
    "start_time": "2021-09-26T09:59:47.012Z"
   },
   {
    "duration": 7,
    "start_time": "2021-09-26T09:59:47.072Z"
   },
   {
    "duration": 7,
    "start_time": "2021-09-26T09:59:47.081Z"
   },
   {
    "duration": 18,
    "start_time": "2021-09-26T09:59:47.090Z"
   },
   {
    "duration": 88,
    "start_time": "2021-09-26T09:59:47.111Z"
   },
   {
    "duration": 5,
    "start_time": "2021-09-26T09:59:47.202Z"
   },
   {
    "duration": 21,
    "start_time": "2021-09-26T09:59:47.210Z"
   },
   {
    "duration": 38,
    "start_time": "2021-09-26T09:59:47.234Z"
   },
   {
    "duration": 39,
    "start_time": "2021-09-26T09:59:47.274Z"
   },
   {
    "duration": 54,
    "start_time": "2021-09-26T09:59:47.315Z"
   },
   {
    "duration": 3,
    "start_time": "2021-09-26T09:59:47.372Z"
   },
   {
    "duration": 17,
    "start_time": "2021-09-26T09:59:47.377Z"
   },
   {
    "duration": 11,
    "start_time": "2021-09-26T09:59:47.397Z"
   },
   {
    "duration": 58,
    "start_time": "2021-09-26T09:59:47.410Z"
   },
   {
    "duration": 18,
    "start_time": "2021-09-26T09:59:47.470Z"
   },
   {
    "duration": 3,
    "start_time": "2021-09-26T09:59:47.490Z"
   },
   {
    "duration": 18,
    "start_time": "2021-09-26T09:59:47.496Z"
   },
   {
    "duration": 5,
    "start_time": "2021-09-26T09:59:47.516Z"
   },
   {
    "duration": 47,
    "start_time": "2021-09-26T09:59:47.523Z"
   },
   {
    "duration": 53,
    "start_time": "2021-09-26T09:59:47.573Z"
   },
   {
    "duration": 5,
    "start_time": "2021-09-26T09:59:47.629Z"
   },
   {
    "duration": 15,
    "start_time": "2021-09-26T09:59:47.662Z"
   },
   {
    "duration": 15,
    "start_time": "2021-09-26T09:59:47.680Z"
   },
   {
    "duration": 11,
    "start_time": "2021-09-26T09:59:47.698Z"
   },
   {
    "duration": 10,
    "start_time": "2021-09-26T09:59:47.712Z"
   },
   {
    "duration": 8,
    "start_time": "2021-09-26T09:59:47.762Z"
   },
   {
    "duration": 13,
    "start_time": "2021-09-26T09:59:47.772Z"
   },
   {
    "duration": 46,
    "start_time": "2021-09-26T09:59:47.789Z"
   },
   {
    "duration": 28,
    "start_time": "2021-09-26T09:59:47.837Z"
   },
   {
    "duration": 6,
    "start_time": "2021-09-26T09:59:47.868Z"
   },
   {
    "duration": 10,
    "start_time": "2021-09-26T09:59:47.877Z"
   },
   {
    "duration": 6,
    "start_time": "2021-09-26T09:59:47.889Z"
   },
   {
    "duration": 7,
    "start_time": "2021-09-26T09:59:47.898Z"
   },
   {
    "duration": 8,
    "start_time": "2021-09-26T09:59:47.907Z"
   },
   {
    "duration": 46,
    "start_time": "2021-09-26T09:59:47.917Z"
   },
   {
    "duration": 20,
    "start_time": "2021-09-26T09:59:47.966Z"
   },
   {
    "duration": 9,
    "start_time": "2021-09-26T09:59:47.993Z"
   },
   {
    "duration": 14,
    "start_time": "2021-09-26T09:59:48.005Z"
   },
   {
    "duration": 69,
    "start_time": "2021-09-26T09:59:48.022Z"
   },
   {
    "duration": 5,
    "start_time": "2021-09-26T09:59:48.093Z"
   },
   {
    "duration": 12,
    "start_time": "2021-09-26T09:59:48.100Z"
   },
   {
    "duration": 7,
    "start_time": "2021-09-26T09:59:48.115Z"
   },
   {
    "duration": 7,
    "start_time": "2021-09-26T09:59:48.124Z"
   },
   {
    "duration": 47,
    "start_time": "2021-09-26T09:59:48.163Z"
   },
   {
    "duration": 10,
    "start_time": "2021-09-26T09:59:48.213Z"
   },
   {
    "duration": 38,
    "start_time": "2021-09-26T09:59:48.226Z"
   },
   {
    "duration": 6,
    "start_time": "2021-09-26T09:59:48.266Z"
   },
   {
    "duration": 6,
    "start_time": "2021-09-26T09:59:48.275Z"
   },
   {
    "duration": 6,
    "start_time": "2021-09-26T10:00:53.899Z"
   },
   {
    "duration": 6,
    "start_time": "2021-09-26T10:02:04.682Z"
   },
   {
    "duration": 7,
    "start_time": "2021-09-26T10:03:48.874Z"
   },
   {
    "duration": 48,
    "start_time": "2021-09-26T10:04:20.572Z"
   },
   {
    "duration": 588,
    "start_time": "2021-09-26T10:05:08.650Z"
   },
   {
    "duration": 5,
    "start_time": "2021-09-26T10:07:55.051Z"
   },
   {
    "duration": 7,
    "start_time": "2021-09-26T10:12:00.132Z"
   },
   {
    "duration": 16,
    "start_time": "2021-09-26T10:12:00.141Z"
   },
   {
    "duration": 13,
    "start_time": "2021-09-26T10:12:00.160Z"
   },
   {
    "duration": 14,
    "start_time": "2021-09-26T10:12:00.176Z"
   },
   {
    "duration": 40,
    "start_time": "2021-09-26T10:12:00.192Z"
   },
   {
    "duration": 28,
    "start_time": "2021-09-26T10:12:00.234Z"
   },
   {
    "duration": 35,
    "start_time": "2021-09-26T10:12:00.266Z"
   },
   {
    "duration": 436,
    "start_time": "2021-09-26T10:12:00.304Z"
   },
   {
    "duration": 458,
    "start_time": "2021-09-26T10:12:00.742Z"
   },
   {
    "duration": 459,
    "start_time": "2021-09-26T10:12:01.202Z"
   },
   {
    "duration": 27,
    "start_time": "2021-09-26T10:12:01.664Z"
   },
   {
    "duration": 18,
    "start_time": "2021-09-26T10:12:01.694Z"
   },
   {
    "duration": 28,
    "start_time": "2021-09-26T10:12:01.714Z"
   },
   {
    "duration": 17,
    "start_time": "2021-09-26T10:12:01.744Z"
   },
   {
    "duration": 12,
    "start_time": "2021-09-26T10:12:01.763Z"
   },
   {
    "duration": 15,
    "start_time": "2021-09-26T10:12:01.777Z"
   },
   {
    "duration": 8,
    "start_time": "2021-09-26T10:12:01.795Z"
   },
   {
    "duration": 50,
    "start_time": "2021-09-26T10:12:01.805Z"
   },
   {
    "duration": 28,
    "start_time": "2021-09-26T10:12:01.859Z"
   },
   {
    "duration": 11,
    "start_time": "2021-09-26T10:12:01.889Z"
   },
   {
    "duration": 16,
    "start_time": "2021-09-26T10:12:01.903Z"
   },
   {
    "duration": 14,
    "start_time": "2021-09-26T10:12:01.922Z"
   },
   {
    "duration": 12,
    "start_time": "2021-09-26T10:12:01.938Z"
   },
   {
    "duration": 10,
    "start_time": "2021-09-26T10:12:01.952Z"
   },
   {
    "duration": 14,
    "start_time": "2021-09-26T10:12:01.964Z"
   },
   {
    "duration": 32,
    "start_time": "2021-09-26T10:13:45.497Z"
   },
   {
    "duration": 6,
    "start_time": "2021-09-26T10:14:40.406Z"
   },
   {
    "duration": 19,
    "start_time": "2021-09-26T10:14:40.415Z"
   },
   {
    "duration": 2068,
    "start_time": "2021-09-26T10:14:40.438Z"
   },
   {
    "duration": 421,
    "start_time": "2021-09-26T10:14:42.509Z"
   },
   {
    "duration": 332,
    "start_time": "2021-09-26T10:14:42.933Z"
   },
   {
    "duration": 364,
    "start_time": "2021-09-26T10:14:43.268Z"
   },
   {
    "duration": 431,
    "start_time": "2021-09-26T10:14:43.634Z"
   },
   {
    "duration": 328,
    "start_time": "2021-09-26T10:14:44.067Z"
   },
   {
    "duration": 7,
    "start_time": "2021-09-26T10:14:44.398Z"
   },
   {
    "duration": 406,
    "start_time": "2021-09-26T10:18:24.107Z"
   },
   {
    "duration": 885,
    "start_time": "2021-09-26T10:18:35.354Z"
   },
   {
    "duration": 349,
    "start_time": "2021-09-26T10:24:04.298Z"
   },
   {
    "duration": 5,
    "start_time": "2021-09-26T10:24:25.659Z"
   },
   {
    "duration": 3277,
    "start_time": "2021-09-26T10:25:34.361Z"
   },
   {
    "duration": 4391,
    "start_time": "2021-09-26T10:26:16.122Z"
   },
   {
    "duration": 377,
    "start_time": "2021-09-26T10:26:56.476Z"
   },
   {
    "duration": 3596,
    "start_time": "2021-09-26T10:27:37.289Z"
   },
   {
    "duration": 745,
    "start_time": "2021-09-26T10:27:54.747Z"
   },
   {
    "duration": 3788,
    "start_time": "2021-09-26T10:28:08.723Z"
   },
   {
    "duration": 1484,
    "start_time": "2021-09-26T10:28:12.514Z"
   },
   {
    "duration": 961,
    "start_time": "2021-09-26T10:28:14.002Z"
   },
   {
    "duration": 129,
    "start_time": "2021-09-26T10:28:14.966Z"
   },
   {
    "duration": 233,
    "start_time": "2021-09-26T10:28:15.097Z"
   },
   {
    "duration": 31,
    "start_time": "2021-09-26T10:28:15.332Z"
   },
   {
    "duration": 9,
    "start_time": "2021-09-26T10:28:15.366Z"
   },
   {
    "duration": 7,
    "start_time": "2021-09-26T10:28:15.377Z"
   },
   {
    "duration": 9,
    "start_time": "2021-09-26T10:28:15.387Z"
   },
   {
    "duration": 6,
    "start_time": "2021-09-26T10:28:15.399Z"
   },
   {
    "duration": 60,
    "start_time": "2021-09-26T10:28:15.408Z"
   },
   {
    "duration": 47,
    "start_time": "2021-09-26T10:28:15.471Z"
   },
   {
    "duration": 48,
    "start_time": "2021-09-26T10:28:15.520Z"
   },
   {
    "duration": 8,
    "start_time": "2021-09-26T10:28:15.571Z"
   },
   {
    "duration": 32,
    "start_time": "2021-09-26T10:28:15.582Z"
   },
   {
    "duration": 48,
    "start_time": "2021-09-26T10:28:15.616Z"
   },
   {
    "duration": 31,
    "start_time": "2021-09-26T10:28:15.667Z"
   },
   {
    "duration": 22,
    "start_time": "2021-09-26T10:28:15.701Z"
   },
   {
    "duration": 51,
    "start_time": "2021-09-26T10:28:15.726Z"
   },
   {
    "duration": 29,
    "start_time": "2021-09-26T10:28:15.780Z"
   },
   {
    "duration": 11,
    "start_time": "2021-09-26T10:28:15.813Z"
   },
   {
    "duration": 37,
    "start_time": "2021-09-26T10:28:15.827Z"
   },
   {
    "duration": 6,
    "start_time": "2021-09-26T10:28:15.867Z"
   },
   {
    "duration": 14,
    "start_time": "2021-09-26T10:28:15.876Z"
   },
   {
    "duration": 6,
    "start_time": "2021-09-26T10:28:15.892Z"
   },
   {
    "duration": 10,
    "start_time": "2021-09-26T10:28:15.900Z"
   },
   {
    "duration": 53,
    "start_time": "2021-09-26T10:28:15.916Z"
   },
   {
    "duration": 6,
    "start_time": "2021-09-26T10:28:15.974Z"
   },
   {
    "duration": 7,
    "start_time": "2021-09-26T10:28:15.983Z"
   },
   {
    "duration": 8,
    "start_time": "2021-09-26T10:28:15.992Z"
   },
   {
    "duration": 15,
    "start_time": "2021-09-26T10:28:16.002Z"
   },
   {
    "duration": 49,
    "start_time": "2021-09-26T10:28:16.020Z"
   },
   {
    "duration": 27,
    "start_time": "2021-09-26T10:28:16.071Z"
   },
   {
    "duration": 5,
    "start_time": "2021-09-26T10:28:16.100Z"
   },
   {
    "duration": 7,
    "start_time": "2021-09-26T10:28:16.108Z"
   },
   {
    "duration": 55,
    "start_time": "2021-09-26T10:28:16.117Z"
   },
   {
    "duration": 35,
    "start_time": "2021-09-26T10:28:16.175Z"
   },
   {
    "duration": 4,
    "start_time": "2021-09-26T10:28:16.212Z"
   },
   {
    "duration": 46,
    "start_time": "2021-09-26T10:28:16.219Z"
   },
   {
    "duration": 15,
    "start_time": "2021-09-26T10:28:16.267Z"
   },
   {
    "duration": 29,
    "start_time": "2021-09-26T10:28:16.285Z"
   },
   {
    "duration": 59,
    "start_time": "2021-09-26T10:28:16.316Z"
   },
   {
    "duration": 4,
    "start_time": "2021-09-26T10:28:16.378Z"
   },
   {
    "duration": 21,
    "start_time": "2021-09-26T10:28:16.385Z"
   },
   {
    "duration": 13,
    "start_time": "2021-09-26T10:28:16.408Z"
   },
   {
    "duration": 60,
    "start_time": "2021-09-26T10:28:16.423Z"
   },
   {
    "duration": 19,
    "start_time": "2021-09-26T10:28:16.485Z"
   },
   {
    "duration": 3,
    "start_time": "2021-09-26T10:28:16.507Z"
   },
   {
    "duration": 48,
    "start_time": "2021-09-26T10:28:16.513Z"
   },
   {
    "duration": 5,
    "start_time": "2021-09-26T10:28:16.564Z"
   },
   {
    "duration": 17,
    "start_time": "2021-09-26T10:28:16.571Z"
   },
   {
    "duration": 37,
    "start_time": "2021-09-26T10:28:16.590Z"
   },
   {
    "duration": 4,
    "start_time": "2021-09-26T10:28:16.629Z"
   },
   {
    "duration": 35,
    "start_time": "2021-09-26T10:28:16.636Z"
   },
   {
    "duration": 13,
    "start_time": "2021-09-26T10:28:16.674Z"
   },
   {
    "duration": 10,
    "start_time": "2021-09-26T10:28:16.689Z"
   },
   {
    "duration": 9,
    "start_time": "2021-09-26T10:28:16.701Z"
   },
   {
    "duration": 12,
    "start_time": "2021-09-26T10:28:16.713Z"
   },
   {
    "duration": 35,
    "start_time": "2021-09-26T10:28:16.727Z"
   },
   {
    "duration": 50,
    "start_time": "2021-09-26T10:28:16.765Z"
   },
   {
    "duration": 11,
    "start_time": "2021-09-26T10:28:16.818Z"
   },
   {
    "duration": 33,
    "start_time": "2021-09-26T10:28:16.832Z"
   },
   {
    "duration": 11,
    "start_time": "2021-09-26T10:28:16.869Z"
   },
   {
    "duration": 8,
    "start_time": "2021-09-26T10:28:16.882Z"
   },
   {
    "duration": 11,
    "start_time": "2021-09-26T10:28:16.892Z"
   },
   {
    "duration": 11,
    "start_time": "2021-09-26T10:28:16.905Z"
   },
   {
    "duration": 7,
    "start_time": "2021-09-26T10:28:16.918Z"
   },
   {
    "duration": 48,
    "start_time": "2021-09-26T10:28:16.927Z"
   },
   {
    "duration": 15,
    "start_time": "2021-09-26T10:28:16.978Z"
   },
   {
    "duration": 13,
    "start_time": "2021-09-26T10:28:16.996Z"
   },
   {
    "duration": 30,
    "start_time": "2021-09-26T10:28:17.011Z"
   },
   {
    "duration": 21,
    "start_time": "2021-09-26T10:28:17.044Z"
   },
   {
    "duration": 10,
    "start_time": "2021-09-26T10:28:17.067Z"
   },
   {
    "duration": 7,
    "start_time": "2021-09-26T10:28:17.080Z"
   },
   {
    "duration": 9,
    "start_time": "2021-09-26T10:28:17.089Z"
   },
   {
    "duration": 75,
    "start_time": "2021-09-26T10:28:17.100Z"
   },
   {
    "duration": 7,
    "start_time": "2021-09-26T10:28:17.178Z"
   },
   {
    "duration": 15,
    "start_time": "2021-09-26T10:28:17.188Z"
   },
   {
    "duration": 8,
    "start_time": "2021-09-26T10:28:17.206Z"
   },
   {
    "duration": 5,
    "start_time": "2021-09-26T10:28:17.217Z"
   },
   {
    "duration": 6,
    "start_time": "2021-09-26T10:28:17.262Z"
   },
   {
    "duration": 7,
    "start_time": "2021-09-26T10:28:17.273Z"
   },
   {
    "duration": 7,
    "start_time": "2021-09-26T10:28:17.283Z"
   },
   {
    "duration": 10,
    "start_time": "2021-09-26T10:28:17.292Z"
   },
   {
    "duration": 7,
    "start_time": "2021-09-26T10:28:17.305Z"
   },
   {
    "duration": 48,
    "start_time": "2021-09-26T10:28:17.314Z"
   },
   {
    "duration": 5,
    "start_time": "2021-09-26T10:28:17.365Z"
   },
   {
    "duration": 22,
    "start_time": "2021-09-26T10:28:17.373Z"
   },
   {
    "duration": 4,
    "start_time": "2021-09-26T10:28:17.398Z"
   },
   {
    "duration": 26,
    "start_time": "2021-09-26T10:28:17.404Z"
   },
   {
    "duration": 457,
    "start_time": "2021-09-26T10:28:17.432Z"
   },
   {
    "duration": 452,
    "start_time": "2021-09-26T10:28:17.892Z"
   },
   {
    "duration": 442,
    "start_time": "2021-09-26T10:28:18.347Z"
   },
   {
    "duration": 27,
    "start_time": "2021-09-26T10:28:18.792Z"
   },
   {
    "duration": 6,
    "start_time": "2021-09-26T10:28:18.821Z"
   },
   {
    "duration": 42,
    "start_time": "2021-09-26T10:28:18.830Z"
   },
   {
    "duration": 7,
    "start_time": "2021-09-26T10:28:18.875Z"
   },
   {
    "duration": 8,
    "start_time": "2021-09-26T10:28:18.884Z"
   },
   {
    "duration": 8,
    "start_time": "2021-09-26T10:28:18.894Z"
   },
   {
    "duration": 10,
    "start_time": "2021-09-26T10:28:18.904Z"
   },
   {
    "duration": 6,
    "start_time": "2021-09-26T10:28:18.916Z"
   },
   {
    "duration": 8,
    "start_time": "2021-09-26T10:28:18.925Z"
   },
   {
    "duration": 26,
    "start_time": "2021-09-26T10:28:18.935Z"
   },
   {
    "duration": 9,
    "start_time": "2021-09-26T10:28:18.964Z"
   },
   {
    "duration": 8,
    "start_time": "2021-09-26T10:28:18.975Z"
   },
   {
    "duration": 5,
    "start_time": "2021-09-26T10:28:18.986Z"
   },
   {
    "duration": 6,
    "start_time": "2021-09-26T10:28:18.994Z"
   },
   {
    "duration": 15,
    "start_time": "2021-09-26T10:28:19.003Z"
   },
   {
    "duration": 68,
    "start_time": "2021-09-26T10:28:19.021Z"
   },
   {
    "duration": 4,
    "start_time": "2021-09-26T10:28:19.092Z"
   },
   {
    "duration": 21,
    "start_time": "2021-09-26T10:28:19.099Z"
   },
   {
    "duration": 1179,
    "start_time": "2021-09-26T10:28:19.122Z"
   },
   {
    "duration": 430,
    "start_time": "2021-09-26T10:28:20.303Z"
   },
   {
    "duration": 340,
    "start_time": "2021-09-26T10:28:20.735Z"
   },
   {
    "duration": 338,
    "start_time": "2021-09-26T10:28:21.077Z"
   },
   {
    "duration": 390,
    "start_time": "2021-09-26T10:28:21.417Z"
   },
   {
    "duration": 340,
    "start_time": "2021-09-26T10:28:21.809Z"
   },
   {
    "duration": 13,
    "start_time": "2021-09-26T10:28:22.152Z"
   },
   {
    "duration": 753,
    "start_time": "2021-09-26T10:28:22.168Z"
   },
   {
    "duration": 1885,
    "start_time": "2021-09-26T10:28:21.039Z"
   },
   {
    "duration": 1880,
    "start_time": "2021-09-26T10:28:21.045Z"
   },
   {
    "duration": 1876,
    "start_time": "2021-09-26T10:28:21.051Z"
   },
   {
    "duration": 1872,
    "start_time": "2021-09-26T10:28:21.056Z"
   },
   {
    "duration": 1868,
    "start_time": "2021-09-26T10:28:21.062Z"
   },
   {
    "duration": 1855,
    "start_time": "2021-09-26T10:28:21.076Z"
   },
   {
    "duration": 1849,
    "start_time": "2021-09-26T10:28:21.084Z"
   },
   {
    "duration": 1844,
    "start_time": "2021-09-26T10:28:21.090Z"
   },
   {
    "duration": 1840,
    "start_time": "2021-09-26T10:28:21.096Z"
   },
   {
    "duration": 1836,
    "start_time": "2021-09-26T10:28:21.101Z"
   },
   {
    "duration": 1833,
    "start_time": "2021-09-26T10:28:21.106Z"
   },
   {
    "duration": 1829,
    "start_time": "2021-09-26T10:28:21.111Z"
   },
   {
    "duration": 1846,
    "start_time": "2021-09-26T10:28:21.116Z"
   },
   {
    "duration": 1844,
    "start_time": "2021-09-26T10:28:21.120Z"
   },
   {
    "duration": 648,
    "start_time": "2021-09-26T10:31:12.488Z"
   },
   {
    "duration": 715,
    "start_time": "2021-09-26T10:31:47.400Z"
   },
   {
    "duration": 588,
    "start_time": "2021-09-26T10:32:00.505Z"
   },
   {
    "duration": 644,
    "start_time": "2021-09-26T10:32:37.464Z"
   },
   {
    "duration": 6,
    "start_time": "2021-09-26T10:33:39.102Z"
   },
   {
    "duration": 12,
    "start_time": "2021-09-26T10:33:39.111Z"
   },
   {
    "duration": 7,
    "start_time": "2021-09-26T10:33:39.126Z"
   },
   {
    "duration": 20,
    "start_time": "2021-09-26T10:33:39.135Z"
   },
   {
    "duration": 16,
    "start_time": "2021-09-26T10:33:39.157Z"
   },
   {
    "duration": 18,
    "start_time": "2021-09-26T10:33:39.175Z"
   },
   {
    "duration": 20,
    "start_time": "2021-09-26T10:33:39.196Z"
   },
   {
    "duration": 5019,
    "start_time": "2021-09-26T14:43:57.209Z"
   },
   {
    "duration": 1493,
    "start_time": "2021-09-26T14:44:02.232Z"
   },
   {
    "duration": 2273,
    "start_time": "2021-09-26T14:44:03.728Z"
   },
   {
    "duration": 113,
    "start_time": "2021-09-26T14:44:06.003Z"
   },
   {
    "duration": 261,
    "start_time": "2021-09-26T14:44:06.119Z"
   },
   {
    "duration": 6,
    "start_time": "2021-09-26T14:44:06.382Z"
   },
   {
    "duration": 8,
    "start_time": "2021-09-26T14:44:06.391Z"
   },
   {
    "duration": 7,
    "start_time": "2021-09-26T14:44:06.405Z"
   },
   {
    "duration": 54,
    "start_time": "2021-09-26T14:44:06.415Z"
   },
   {
    "duration": 7,
    "start_time": "2021-09-26T14:44:06.472Z"
   },
   {
    "duration": 7,
    "start_time": "2021-09-26T14:44:06.481Z"
   },
   {
    "duration": 76,
    "start_time": "2021-09-26T14:44:06.491Z"
   },
   {
    "duration": 18,
    "start_time": "2021-09-26T14:44:06.570Z"
   },
   {
    "duration": 10,
    "start_time": "2021-09-26T14:44:06.591Z"
   },
   {
    "duration": 58,
    "start_time": "2021-09-26T14:44:06.604Z"
   },
   {
    "duration": 22,
    "start_time": "2021-09-26T14:44:06.666Z"
   },
   {
    "duration": 38,
    "start_time": "2021-09-26T14:44:06.691Z"
   },
   {
    "duration": 39,
    "start_time": "2021-09-26T14:44:06.732Z"
   },
   {
    "duration": 26,
    "start_time": "2021-09-26T14:44:06.773Z"
   },
   {
    "duration": 19,
    "start_time": "2021-09-26T14:44:06.801Z"
   },
   {
    "duration": 8,
    "start_time": "2021-09-26T14:44:06.823Z"
   },
   {
    "duration": 32,
    "start_time": "2021-09-26T14:44:06.834Z"
   },
   {
    "duration": 7,
    "start_time": "2021-09-26T14:44:06.872Z"
   },
   {
    "duration": 7,
    "start_time": "2021-09-26T14:44:06.883Z"
   },
   {
    "duration": 14,
    "start_time": "2021-09-26T14:44:06.892Z"
   },
   {
    "duration": 14,
    "start_time": "2021-09-26T14:44:06.908Z"
   },
   {
    "duration": 45,
    "start_time": "2021-09-26T14:44:06.925Z"
   },
   {
    "duration": 6,
    "start_time": "2021-09-26T14:44:06.972Z"
   },
   {
    "duration": 11,
    "start_time": "2021-09-26T14:44:06.981Z"
   },
   {
    "duration": 9,
    "start_time": "2021-09-26T14:44:06.994Z"
   },
   {
    "duration": 14,
    "start_time": "2021-09-26T14:44:07.006Z"
   },
   {
    "duration": 568,
    "start_time": "2021-09-26T14:44:07.024Z"
   },
   {
    "duration": 1225,
    "start_time": "2021-09-26T14:44:06.375Z"
   },
   {
    "duration": 1221,
    "start_time": "2021-09-26T14:44:06.381Z"
   },
   {
    "duration": 1219,
    "start_time": "2021-09-26T14:44:06.385Z"
   },
   {
    "duration": 1216,
    "start_time": "2021-09-26T14:44:06.389Z"
   },
   {
    "duration": 1213,
    "start_time": "2021-09-26T14:44:06.394Z"
   },
   {
    "duration": 1210,
    "start_time": "2021-09-26T14:44:06.399Z"
   },
   {
    "duration": 1207,
    "start_time": "2021-09-26T14:44:06.403Z"
   },
   {
    "duration": 1205,
    "start_time": "2021-09-26T14:44:06.407Z"
   },
   {
    "duration": 1202,
    "start_time": "2021-09-26T14:44:06.412Z"
   },
   {
    "duration": 1200,
    "start_time": "2021-09-26T14:44:06.416Z"
   },
   {
    "duration": 1197,
    "start_time": "2021-09-26T14:44:06.420Z"
   },
   {
    "duration": 1195,
    "start_time": "2021-09-26T14:44:06.424Z"
   },
   {
    "duration": 1193,
    "start_time": "2021-09-26T14:44:06.428Z"
   },
   {
    "duration": 1188,
    "start_time": "2021-09-26T14:44:06.434Z"
   },
   {
    "duration": 1185,
    "start_time": "2021-09-26T14:44:06.439Z"
   },
   {
    "duration": 1182,
    "start_time": "2021-09-26T14:44:06.443Z"
   },
   {
    "duration": 1179,
    "start_time": "2021-09-26T14:44:06.448Z"
   },
   {
    "duration": 1176,
    "start_time": "2021-09-26T14:44:06.452Z"
   },
   {
    "duration": 1177,
    "start_time": "2021-09-26T14:44:06.456Z"
   },
   {
    "duration": 1202,
    "start_time": "2021-09-26T14:44:06.460Z"
   },
   {
    "duration": 1200,
    "start_time": "2021-09-26T14:44:06.464Z"
   },
   {
    "duration": 1187,
    "start_time": "2021-09-26T14:44:06.479Z"
   },
   {
    "duration": 1183,
    "start_time": "2021-09-26T14:44:06.484Z"
   },
   {
    "duration": 1180,
    "start_time": "2021-09-26T14:44:06.489Z"
   },
   {
    "duration": 1176,
    "start_time": "2021-09-26T14:44:06.494Z"
   },
   {
    "duration": 1173,
    "start_time": "2021-09-26T14:44:06.499Z"
   },
   {
    "duration": 1169,
    "start_time": "2021-09-26T14:44:06.504Z"
   },
   {
    "duration": 1166,
    "start_time": "2021-09-26T14:44:06.508Z"
   },
   {
    "duration": 1163,
    "start_time": "2021-09-26T14:44:06.512Z"
   },
   {
    "duration": 1160,
    "start_time": "2021-09-26T14:44:06.516Z"
   },
   {
    "duration": 1156,
    "start_time": "2021-09-26T14:44:06.521Z"
   },
   {
    "duration": 1153,
    "start_time": "2021-09-26T14:44:06.526Z"
   },
   {
    "duration": 1150,
    "start_time": "2021-09-26T14:44:06.530Z"
   },
   {
    "duration": 1147,
    "start_time": "2021-09-26T14:44:06.535Z"
   },
   {
    "duration": 1145,
    "start_time": "2021-09-26T14:44:06.539Z"
   },
   {
    "duration": 1142,
    "start_time": "2021-09-26T14:44:06.543Z"
   },
   {
    "duration": 1139,
    "start_time": "2021-09-26T14:44:06.547Z"
   },
   {
    "duration": 1136,
    "start_time": "2021-09-26T14:44:06.551Z"
   },
   {
    "duration": 1133,
    "start_time": "2021-09-26T14:44:06.555Z"
   },
   {
    "duration": 1131,
    "start_time": "2021-09-26T14:44:06.559Z"
   },
   {
    "duration": 1127,
    "start_time": "2021-09-26T14:44:06.564Z"
   },
   {
    "duration": 1124,
    "start_time": "2021-09-26T14:44:06.568Z"
   },
   {
    "duration": 1121,
    "start_time": "2021-09-26T14:44:06.572Z"
   },
   {
    "duration": 1120,
    "start_time": "2021-09-26T14:44:06.575Z"
   },
   {
    "duration": 1105,
    "start_time": "2021-09-26T14:44:06.591Z"
   },
   {
    "duration": 1102,
    "start_time": "2021-09-26T14:44:06.596Z"
   },
   {
    "duration": 1097,
    "start_time": "2021-09-26T14:44:06.602Z"
   },
   {
    "duration": 1156,
    "start_time": "2021-09-26T14:44:06.606Z"
   },
   {
    "duration": 1150,
    "start_time": "2021-09-26T14:44:06.613Z"
   },
   {
    "duration": 1146,
    "start_time": "2021-09-26T14:44:06.618Z"
   },
   {
    "duration": 1142,
    "start_time": "2021-09-26T14:44:06.624Z"
   },
   {
    "duration": 1139,
    "start_time": "2021-09-26T14:44:06.628Z"
   },
   {
    "duration": 1136,
    "start_time": "2021-09-26T14:44:06.633Z"
   },
   {
    "duration": 1133,
    "start_time": "2021-09-26T14:44:06.637Z"
   },
   {
    "duration": 1131,
    "start_time": "2021-09-26T14:44:06.641Z"
   },
   {
    "duration": 1128,
    "start_time": "2021-09-26T14:44:06.645Z"
   },
   {
    "duration": 1124,
    "start_time": "2021-09-26T14:44:06.650Z"
   },
   {
    "duration": 1122,
    "start_time": "2021-09-26T14:44:06.654Z"
   },
   {
    "duration": 1119,
    "start_time": "2021-09-26T14:44:06.658Z"
   },
   {
    "duration": 1117,
    "start_time": "2021-09-26T14:44:06.662Z"
   },
   {
    "duration": 1113,
    "start_time": "2021-09-26T14:44:06.667Z"
   },
   {
    "duration": 1109,
    "start_time": "2021-09-26T14:44:06.672Z"
   },
   {
    "duration": 1106,
    "start_time": "2021-09-26T14:44:06.676Z"
   },
   {
    "duration": 1104,
    "start_time": "2021-09-26T14:44:06.680Z"
   },
   {
    "duration": 1100,
    "start_time": "2021-09-26T14:44:06.685Z"
   },
   {
    "duration": 1087,
    "start_time": "2021-09-26T14:44:06.699Z"
   },
   {
    "duration": 1082,
    "start_time": "2021-09-26T14:44:06.705Z"
   },
   {
    "duration": 1080,
    "start_time": "2021-09-26T14:44:06.709Z"
   },
   {
    "duration": 1076,
    "start_time": "2021-09-26T14:44:06.714Z"
   },
   {
    "duration": 1072,
    "start_time": "2021-09-26T14:44:06.719Z"
   },
   {
    "duration": 1070,
    "start_time": "2021-09-26T14:44:06.723Z"
   },
   {
    "duration": 1067,
    "start_time": "2021-09-26T14:44:06.727Z"
   },
   {
    "duration": 1064,
    "start_time": "2021-09-26T14:44:06.732Z"
   },
   {
    "duration": 1061,
    "start_time": "2021-09-26T14:44:06.736Z"
   },
   {
    "duration": 1121,
    "start_time": "2021-09-26T14:44:06.740Z"
   },
   {
    "duration": 1119,
    "start_time": "2021-09-26T14:44:06.744Z"
   },
   {
    "duration": 1117,
    "start_time": "2021-09-26T14:44:06.748Z"
   },
   {
    "duration": 1115,
    "start_time": "2021-09-26T14:44:06.752Z"
   },
   {
    "duration": 1113,
    "start_time": "2021-09-26T14:44:06.756Z"
   },
   {
    "duration": 1110,
    "start_time": "2021-09-26T14:44:06.761Z"
   },
   {
    "duration": 1107,
    "start_time": "2021-09-26T14:44:06.765Z"
   },
   {
    "duration": 1105,
    "start_time": "2021-09-26T14:44:06.769Z"
   },
   {
    "duration": 1102,
    "start_time": "2021-09-26T14:44:06.773Z"
   },
   {
    "duration": 1099,
    "start_time": "2021-09-26T14:44:06.777Z"
   },
   {
    "duration": 1096,
    "start_time": "2021-09-26T14:44:06.782Z"
   },
   {
    "duration": 1095,
    "start_time": "2021-09-26T14:44:06.785Z"
   },
   {
    "duration": 1091,
    "start_time": "2021-09-26T14:44:06.790Z"
   },
   {
    "duration": 1090,
    "start_time": "2021-09-26T14:44:06.793Z"
   },
   {
    "duration": 1076,
    "start_time": "2021-09-26T14:44:06.808Z"
   },
   {
    "duration": 1073,
    "start_time": "2021-09-26T14:44:06.813Z"
   },
   {
    "duration": 1069,
    "start_time": "2021-09-26T14:44:06.818Z"
   },
   {
    "duration": 1067,
    "start_time": "2021-09-26T14:44:06.822Z"
   },
   {
    "duration": 1062,
    "start_time": "2021-09-26T14:44:06.828Z"
   },
   {
    "duration": 1060,
    "start_time": "2021-09-26T14:44:06.832Z"
   },
   {
    "duration": 1057,
    "start_time": "2021-09-26T14:44:06.836Z"
   },
   {
    "duration": 1054,
    "start_time": "2021-09-26T14:44:06.840Z"
   },
   {
    "duration": 1052,
    "start_time": "2021-09-26T14:44:06.844Z"
   },
   {
    "duration": 1046,
    "start_time": "2021-09-26T14:44:06.851Z"
   },
   {
    "duration": 1109,
    "start_time": "2021-09-26T14:44:06.856Z"
   },
   {
    "duration": 1106,
    "start_time": "2021-09-26T14:44:06.860Z"
   },
   {
    "duration": 1102,
    "start_time": "2021-09-26T14:44:06.865Z"
   },
   {
    "duration": 1100,
    "start_time": "2021-09-26T14:44:06.869Z"
   },
   {
    "duration": 1097,
    "start_time": "2021-09-26T14:44:06.873Z"
   },
   {
    "duration": 448,
    "start_time": "2021-09-26T14:45:03.164Z"
   },
   {
    "duration": 10823,
    "start_time": "2021-09-26T14:45:19.517Z"
   },
   {
    "duration": 3292,
    "start_time": "2021-09-26T14:45:49.922Z"
   },
   {
    "duration": 4065,
    "start_time": "2021-09-26T14:45:53.216Z"
   },
   {
    "duration": 1655,
    "start_time": "2021-09-26T14:45:57.288Z"
   },
   {
    "duration": 1031,
    "start_time": "2021-09-26T14:45:58.946Z"
   },
   {
    "duration": 133,
    "start_time": "2021-09-26T14:45:59.980Z"
   },
   {
    "duration": 255,
    "start_time": "2021-09-26T14:46:00.115Z"
   },
   {
    "duration": 6,
    "start_time": "2021-09-26T14:46:00.373Z"
   },
   {
    "duration": 16,
    "start_time": "2021-09-26T14:46:00.384Z"
   },
   {
    "duration": 12,
    "start_time": "2021-09-26T14:46:00.403Z"
   },
   {
    "duration": 17,
    "start_time": "2021-09-26T14:46:00.418Z"
   },
   {
    "duration": 29,
    "start_time": "2021-09-26T14:46:00.437Z"
   },
   {
    "duration": 25,
    "start_time": "2021-09-26T14:46:00.469Z"
   },
   {
    "duration": 55,
    "start_time": "2021-09-26T14:46:00.497Z"
   },
   {
    "duration": 26,
    "start_time": "2021-09-26T14:46:00.554Z"
   },
   {
    "duration": 17,
    "start_time": "2021-09-26T14:46:00.582Z"
   },
   {
    "duration": 44,
    "start_time": "2021-09-26T14:46:00.601Z"
   },
   {
    "duration": 27,
    "start_time": "2021-09-26T14:46:00.648Z"
   },
   {
    "duration": 46,
    "start_time": "2021-09-26T14:46:00.678Z"
   },
   {
    "duration": 22,
    "start_time": "2021-09-26T14:46:00.727Z"
   },
   {
    "duration": 26,
    "start_time": "2021-09-26T14:46:00.761Z"
   },
   {
    "duration": 19,
    "start_time": "2021-09-26T14:46:00.789Z"
   },
   {
    "duration": 8,
    "start_time": "2021-09-26T14:46:00.811Z"
   },
   {
    "duration": 42,
    "start_time": "2021-09-26T14:46:00.822Z"
   },
   {
    "duration": 21,
    "start_time": "2021-09-26T14:46:00.866Z"
   },
   {
    "duration": 22,
    "start_time": "2021-09-26T14:46:00.889Z"
   },
   {
    "duration": 29,
    "start_time": "2021-09-26T14:46:00.918Z"
   },
   {
    "duration": 37,
    "start_time": "2021-09-26T14:46:00.952Z"
   },
   {
    "duration": 23,
    "start_time": "2021-09-26T14:46:00.992Z"
   },
   {
    "duration": 14,
    "start_time": "2021-09-26T14:46:01.018Z"
   },
   {
    "duration": 30,
    "start_time": "2021-09-26T14:46:01.034Z"
   },
   {
    "duration": 49,
    "start_time": "2021-09-26T14:46:01.067Z"
   },
   {
    "duration": 37,
    "start_time": "2021-09-26T14:46:01.118Z"
   },
   {
    "duration": 34,
    "start_time": "2021-09-26T14:46:01.158Z"
   },
   {
    "duration": 41,
    "start_time": "2021-09-26T14:46:01.194Z"
   },
   {
    "duration": 12,
    "start_time": "2021-09-26T14:46:01.237Z"
   },
   {
    "duration": 47,
    "start_time": "2021-09-26T14:46:01.251Z"
   },
   {
    "duration": 32,
    "start_time": "2021-09-26T14:46:01.301Z"
   },
   {
    "duration": 47,
    "start_time": "2021-09-26T14:46:01.336Z"
   },
   {
    "duration": 4,
    "start_time": "2021-09-26T14:46:01.385Z"
   },
   {
    "duration": 35,
    "start_time": "2021-09-26T14:46:01.391Z"
   },
   {
    "duration": 20,
    "start_time": "2021-09-26T14:46:01.429Z"
   },
   {
    "duration": 40,
    "start_time": "2021-09-26T14:46:01.452Z"
   },
   {
    "duration": 34,
    "start_time": "2021-09-26T14:46:01.495Z"
   },
   {
    "duration": 4,
    "start_time": "2021-09-26T14:46:01.531Z"
   },
   {
    "duration": 35,
    "start_time": "2021-09-26T14:46:01.538Z"
   },
   {
    "duration": 16,
    "start_time": "2021-09-26T14:46:01.575Z"
   },
   {
    "duration": 35,
    "start_time": "2021-09-26T14:46:01.593Z"
   },
   {
    "duration": 47,
    "start_time": "2021-09-26T14:46:01.631Z"
   },
   {
    "duration": 16,
    "start_time": "2021-09-26T14:46:01.680Z"
   },
   {
    "duration": 28,
    "start_time": "2021-09-26T14:46:01.698Z"
   },
   {
    "duration": 31,
    "start_time": "2021-09-26T14:46:01.728Z"
   },
   {
    "duration": 20,
    "start_time": "2021-09-26T14:46:01.761Z"
   },
   {
    "duration": 35,
    "start_time": "2021-09-26T14:46:01.783Z"
   },
   {
    "duration": 4,
    "start_time": "2021-09-26T14:46:01.820Z"
   },
   {
    "duration": 21,
    "start_time": "2021-09-26T14:46:01.827Z"
   },
   {
    "duration": 15,
    "start_time": "2021-09-26T14:46:01.862Z"
   },
   {
    "duration": 34,
    "start_time": "2021-09-26T14:46:01.880Z"
   },
   {
    "duration": 13,
    "start_time": "2021-09-26T14:46:01.917Z"
   },
   {
    "duration": 30,
    "start_time": "2021-09-26T14:46:01.933Z"
   },
   {
    "duration": 23,
    "start_time": "2021-09-26T14:46:01.966Z"
   },
   {
    "duration": 50,
    "start_time": "2021-09-26T14:46:01.993Z"
   },
   {
    "duration": 8,
    "start_time": "2021-09-26T14:46:02.045Z"
   },
   {
    "duration": 40,
    "start_time": "2021-09-26T14:46:02.055Z"
   },
   {
    "duration": 34,
    "start_time": "2021-09-26T14:46:02.098Z"
   },
   {
    "duration": 38,
    "start_time": "2021-09-26T14:46:02.135Z"
   },
   {
    "duration": 13,
    "start_time": "2021-09-26T14:46:02.175Z"
   },
   {
    "duration": 10,
    "start_time": "2021-09-26T14:46:02.190Z"
   },
   {
    "duration": 13,
    "start_time": "2021-09-26T14:46:02.202Z"
   },
   {
    "duration": 32,
    "start_time": "2021-09-26T14:46:02.218Z"
   },
   {
    "duration": 56,
    "start_time": "2021-09-26T14:46:02.253Z"
   },
   {
    "duration": 25,
    "start_time": "2021-09-26T14:46:02.312Z"
   },
   {
    "duration": 43,
    "start_time": "2021-09-26T14:46:02.340Z"
   },
   {
    "duration": 5,
    "start_time": "2021-09-26T14:46:02.386Z"
   },
   {
    "duration": 21,
    "start_time": "2021-09-26T14:46:02.393Z"
   },
   {
    "duration": 16,
    "start_time": "2021-09-26T14:46:02.416Z"
   },
   {
    "duration": 10,
    "start_time": "2021-09-26T14:46:02.435Z"
   },
   {
    "duration": 60,
    "start_time": "2021-09-26T14:46:02.447Z"
   },
   {
    "duration": 9,
    "start_time": "2021-09-26T14:46:02.509Z"
   },
   {
    "duration": 12,
    "start_time": "2021-09-26T14:46:02.520Z"
   },
   {
    "duration": 6,
    "start_time": "2021-09-26T14:46:02.568Z"
   },
   {
    "duration": 7,
    "start_time": "2021-09-26T14:46:02.578Z"
   },
   {
    "duration": 17,
    "start_time": "2021-09-26T14:46:02.588Z"
   },
   {
    "duration": 14,
    "start_time": "2021-09-26T14:46:02.607Z"
   },
   {
    "duration": 18,
    "start_time": "2021-09-26T14:46:02.624Z"
   },
   {
    "duration": 23,
    "start_time": "2021-09-26T14:46:02.645Z"
   },
   {
    "duration": 16,
    "start_time": "2021-09-26T14:46:02.671Z"
   },
   {
    "duration": 12,
    "start_time": "2021-09-26T14:46:02.690Z"
   },
   {
    "duration": 22,
    "start_time": "2021-09-26T14:46:02.705Z"
   },
   {
    "duration": 33,
    "start_time": "2021-09-26T14:46:02.729Z"
   },
   {
    "duration": 5,
    "start_time": "2021-09-26T14:46:02.764Z"
   },
   {
    "duration": 26,
    "start_time": "2021-09-26T14:46:02.771Z"
   },
   {
    "duration": 465,
    "start_time": "2021-09-26T14:46:02.800Z"
   },
   {
    "duration": 458,
    "start_time": "2021-09-26T14:46:03.267Z"
   },
   {
    "duration": 448,
    "start_time": "2021-09-26T14:46:03.727Z"
   },
   {
    "duration": 27,
    "start_time": "2021-09-26T14:46:04.178Z"
   },
   {
    "duration": 6,
    "start_time": "2021-09-26T14:46:04.207Z"
   },
   {
    "duration": 13,
    "start_time": "2021-09-26T14:46:04.215Z"
   },
   {
    "duration": 32,
    "start_time": "2021-09-26T14:46:04.231Z"
   },
   {
    "duration": 12,
    "start_time": "2021-09-26T14:46:04.266Z"
   },
   {
    "duration": 8,
    "start_time": "2021-09-26T14:46:04.280Z"
   },
   {
    "duration": 8,
    "start_time": "2021-09-26T14:46:04.290Z"
   },
   {
    "duration": 19,
    "start_time": "2021-09-26T14:46:04.300Z"
   },
   {
    "duration": 7,
    "start_time": "2021-09-26T14:46:04.321Z"
   },
   {
    "duration": 6,
    "start_time": "2021-09-26T14:46:04.330Z"
   },
   {
    "duration": 6,
    "start_time": "2021-09-26T14:46:04.339Z"
   },
   {
    "duration": 9,
    "start_time": "2021-09-26T14:46:04.362Z"
   },
   {
    "duration": 8,
    "start_time": "2021-09-26T14:46:04.373Z"
   },
   {
    "duration": 9,
    "start_time": "2021-09-26T14:46:04.383Z"
   },
   {
    "duration": 14,
    "start_time": "2021-09-26T14:46:04.394Z"
   },
   {
    "duration": 73,
    "start_time": "2021-09-26T14:46:04.411Z"
   },
   {
    "duration": 8,
    "start_time": "2021-09-26T14:46:04.487Z"
   },
   {
    "duration": 19,
    "start_time": "2021-09-26T14:46:04.498Z"
   },
   {
    "duration": 1219,
    "start_time": "2021-09-26T14:46:04.521Z"
   },
   {
    "duration": 444,
    "start_time": "2021-09-26T14:46:05.742Z"
   },
   {
    "duration": 335,
    "start_time": "2021-09-26T14:46:06.189Z"
   },
   {
    "duration": 327,
    "start_time": "2021-09-26T14:46:06.527Z"
   },
   {
    "duration": 387,
    "start_time": "2021-09-26T14:46:06.857Z"
   },
   {
    "duration": 346,
    "start_time": "2021-09-26T14:46:07.247Z"
   },
   {
    "duration": 8,
    "start_time": "2021-09-26T14:46:07.596Z"
   },
   {
    "duration": 665,
    "start_time": "2021-09-26T14:46:07.608Z"
   },
   {
    "duration": 595,
    "start_time": "2021-09-26T14:46:08.276Z"
   },
   {
    "duration": 763,
    "start_time": "2021-09-26T14:46:08.874Z"
   },
   {
    "duration": 5,
    "start_time": "2021-09-26T14:46:09.639Z"
   },
   {
    "duration": 8,
    "start_time": "2021-09-26T14:46:09.662Z"
   },
   {
    "duration": 8,
    "start_time": "2021-09-26T14:46:09.672Z"
   },
   {
    "duration": 7,
    "start_time": "2021-09-26T14:46:09.682Z"
   },
   {
    "duration": 9,
    "start_time": "2021-09-26T14:46:09.691Z"
   },
   {
    "duration": 7,
    "start_time": "2021-09-26T14:46:09.703Z"
   },
   {
    "duration": 9,
    "start_time": "2021-09-26T14:46:09.712Z"
   },
   {
    "duration": 42,
    "start_time": "2021-09-26T14:46:09.724Z"
   },
   {
    "duration": 6,
    "start_time": "2021-09-26T14:46:09.769Z"
   },
   {
    "duration": 6,
    "start_time": "2021-09-26T14:46:09.778Z"
   },
   {
    "duration": 8,
    "start_time": "2021-09-26T14:46:09.787Z"
   },
   {
    "duration": 9,
    "start_time": "2021-09-26T14:46:09.797Z"
   },
   {
    "duration": 7,
    "start_time": "2021-09-26T14:46:09.809Z"
   },
   {
    "duration": 44,
    "start_time": "2021-09-26T14:46:09.819Z"
   },
   {
    "duration": 6,
    "start_time": "2021-09-26T14:48:32.065Z"
   },
   {
    "duration": 7,
    "start_time": "2021-09-26T14:49:09.292Z"
   },
   {
    "duration": 6,
    "start_time": "2021-09-26T14:49:56.794Z"
   },
   {
    "duration": 34,
    "start_time": "2021-09-26T14:58:26.083Z"
   }
  ],
  "colab": {
   "collapsed_sections": [],
   "name": "telecom-statistical-analysis.ipynb",
   "provenance": []
  },
  "kernelspec": {
   "display_name": "Python 3 (ipykernel)",
   "language": "python",
   "name": "python3"
  },
  "language_info": {
   "codemirror_mode": {
    "name": "ipython",
    "version": 3
   },
   "file_extension": ".py",
   "mimetype": "text/x-python",
   "name": "python",
   "nbconvert_exporter": "python",
   "pygments_lexer": "ipython3",
   "version": "3.9.5"
  },
  "toc": {
   "base_numbering": 1,
   "nav_menu": {
    "height": "295px",
    "width": "527px"
   },
   "number_sections": false,
   "sideBar": true,
   "skip_h1_title": true,
   "title_cell": "Table of Contents",
   "title_sidebar": "Contents",
   "toc_cell": false,
   "toc_position": {},
   "toc_section_display": true,
   "toc_window_display": false
  }
 },
 "nbformat": 4,
 "nbformat_minor": 1
}
